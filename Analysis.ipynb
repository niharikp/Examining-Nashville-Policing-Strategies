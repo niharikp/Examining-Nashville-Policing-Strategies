{
  "cells": [
    {
      "cell_type": "markdown",
      "metadata": {
        "id": "PSnq7W_RMMrb"
      },
      "source": [
        "# **Examining the Nashville Policing Dataset: Insights into Traffic Stops and Policing Strategies**\n",
        "\n",
        "\n",
        "***By Niharika Patil (niharikp) and Nirvik Gill (nsgill)***\n",
        "\n",
        "[Presentation Video Link](https://youtu.be/oOZXN2n5qgw)"
      ]
    },
    {
      "cell_type": "markdown",
      "metadata": {
        "id": "CnthTTEAkTEJ"
      },
      "source": [
        "**Motivation**\n",
        "\n",
        "We are interested in uncovering the impacts of the policing strategies employed by the Nashville Police Department, to the best of our abilities. We want to explore whether focused deterrence, a specific policing strategy, contributes to crime reduction. This project holds significance as it can inform future policies and contribute to safer communities. Moreover by analyzing data and considering ethical implications, we aim to discover patterns in crime when gauged on different metrics and factors.\n",
        "\n",
        "Not very long ago, one of the team members' friends decided to celebrate their bachelorette party in Nashville, TN. While exploring the city, the group people attending this party wanted to know how safe the city was. They were astonished to find that Nashville was one of the top 10% unsafe cities in the US. They also found out that the crime rates were worse in the 2010s. After learning about this fact, we were really interested in the government's efforts in reducing the crime rates. We found that the state/metro government employed multiple strategies to actively reduce the crime rate. One among them was focused detterance through stricter and strategic policing, like traffic stops."
      ]
    },
    {
      "cell_type": "markdown",
      "metadata": {
        "id": "I4274qAR2Sbv"
      },
      "source": [
        "**Background**:\n",
        "\n",
        "The Metro Nashville Police Department (MNPD) has for many years employed a strategy of making large numbers of traffic stops in high crime areas as a way to address crime and violence. The strategy is thought to work in one of two ways: (a) deterring crime in the area by establishing a visible officer presence, or (b) creating opportunities for officers to identify suspects or seize contraband. While on patrol, officers are instructed to be on the lookout for potential traffic violations and—after making a stop—to be on the lookout for signs of possible criminal activity including, if appropriate, asking additional questions or seeking permission to search the car.\n",
        "\n",
        "In a report presented to the Metro Council and other city leaders, the New York-based Policing Project says Nashville’s traffic stop rate is about four times higher than comparable cities, like Denver or New Orleans. The Policing Project says the high number of stops arise because traffic enforcement has become one of Metro Police’s main tactics for fighting crime.\n",
        "\n",
        "There was a serious backlash in 2013, with 27 total complaints of biased-based policing against Nashville police in 2013 and 32 in 2012, according to a department report. The then ongoing debate highlighted that even though the stops rarely uncover serious violations. In fact, they’re likely to be counterproductive.\n",
        "\n",
        "We wish to analyze how accurate the claims are, and what was the impact of the backlash.\n",
        "\n",
        "References:\n",
        "1. https://www.policingproject.org/nashville-traffic-stops\n",
        "\n",
        "2. https://wpln.org/post/review-of-nashville-traffic-stops-casts-doubt-on-effectiveness-in-fighting-crime/\n"
      ]
    },
    {
      "cell_type": "markdown",
      "metadata": {
        "id": "EwKTiesmwzLa"
      },
      "source": [
        "**Data**\n",
        "\n",
        "We are using two seperate datasets for our analysis. One about policing and the other criminal incidents reported to the police. Both the datasets are massive.\n",
        "\n",
        "Datasets Used:\n",
        "\n",
        "1. Nashville (TN) Policing Dataset from Stanford - https://openpolicing.stanford.edu/data/\n",
        "\n",
        "> The dataset provides comprehensive information on policing stops conducted by the Nashville Police Department, encompassing data from both local jurisdictions and state patrol stops, spanning from 2010-01-01 to 2019-03-24. Each row in the cleaned dataset represents a stop, with details extracted from various locations. Coverage varies across locations, and certain features have been removed for public release due to privacy concerns. The dataset includes both vehicular and pedestrian stops, offering insights into enforcement activities over a significant timeframe. Additionally, to ensure privacy, specific columns have been sanitized, replacing digits with \"-\".\n",
        "\n",
        "https://github.com/stanford-policylab/opp/blob/master/data_readme.md\n",
        "\n"
      ]
    },
    {
      "cell_type": "markdown",
      "metadata": {
        "id": "4zda-44V49cR"
      },
      "source": [
        "**Scope**\n",
        "\n",
        "1. ⁠Investigate the impact of the backlash against the aggressive traffic stop policing strategy of the Nashville Police Department (PD) in the 2013 over time, with a focus on the ratio of frisks to stops, the number of arrests, and contraband hit rate.\n",
        "\n",
        "2. ⁠Examine the effects of the law to end racial profiling by the Nashville PD in 2014 on the demographic profile of individuals stopped and arrested, utilizing policing data to analyze changes before and after the law's implementation.\n",
        "\n",
        "3. Evaluate difference in policing strategies across geographies, and analyse if the behaviour is uniform across races in each geographical unit."
      ]
    },
    {
      "cell_type": "markdown",
      "metadata": {
        "id": "QL1jrhH9mHYk"
      },
      "source": [
        "\n",
        "\n",
        "---\n",
        "\n"
      ]
    },
    {
      "cell_type": "markdown",
      "metadata": {
        "id": "29hzdSXXSwAX"
      },
      "source": [
        "# **Analysis**"
      ]
    },
    {
      "cell_type": "markdown",
      "metadata": {
        "id": "5rfmbpkGmCHn"
      },
      "source": [
        "### **Data Preprocessing**"
      ]
    },
    {
      "cell_type": "code",
      "execution_count": null,
      "metadata": {
        "id": "i9kPicYTbJAh"
      },
      "outputs": [],
      "source": [
        "# Load libraries\n",
        "import pandas as pd\n",
        "import numpy as np\n",
        "import altair as alt\n",
        "from vega_datasets import data\n",
        "import folium\n",
        "from scipy.stats import ttest_ind\n",
        "import matplotlib.pyplot as plt"
      ]
    },
    {
      "cell_type": "code",
      "execution_count": null,
      "metadata": {
        "id": "Y0_miuI5pYL5"
      },
      "outputs": [],
      "source": [
        "#from google.colab import drive\n",
        "#drive.mount('/content/drive')"
      ]
    },
    {
      "cell_type": "markdown",
      "metadata": {
        "id": "c8tZdkuKMXci"
      },
      "source": [
        "#### Functions to be used\n"
      ]
    },
    {
      "cell_type": "code",
      "execution_count": null,
      "metadata": {
        "id": "avGsYeDrMWhA"
      },
      "outputs": [],
      "source": [
        "def contraband_rate(df):\n",
        "    \"\"\"Number of people who were found with contraband out of people who were searched\n",
        "    for input dataframe df\"\"\"\n",
        "    total = df[df['search_conducted']==True].size\n",
        "    contra = df[(df['contraband_found']==True) & (df['search_conducted']==True)].size\n",
        "    return (contra/total)*100 if total !=0 else 0\n",
        "\n",
        "def no_consent_search_rate(df):\n",
        "    \"\"\"Number of people searched without consent out of people who were searched\n",
        "    for input dataframe df\"\"\"\n",
        "    df = df[df['search_conducted']==True]\n",
        "    total = df.size\n",
        "    searched = df[df['search_basis_new']!='consent'].size\n",
        "    return (searched/total)*100 if total !=0 else 0\n",
        "\n",
        "def search_rate(df):\n",
        "    \"\"\"Number of people searched out of the number of people stopped\n",
        "    for input dataframe df\"\"\"\n",
        "    total = df.size\n",
        "    searched = df[df['search_conducted']==True].size\n",
        "    return (searched/total)*100 if total !=0 else 0\n",
        "\n",
        "def frisk_rate(df):\n",
        "    \"\"\"Number of people frisked out of the number of people stopped\n",
        "    for input dataframe df\"\"\"\n",
        "    total = df.size\n",
        "    frisked = df[df['frisk_performed']==True].size\n",
        "    return (frisked/total)*100 if total !=0 else 0"
      ]
    },
    {
      "cell_type": "markdown",
      "metadata": {
        "id": "v_7_6vnkTd9Z"
      },
      "source": [
        "#### *Dataset Cleaning*"
      ]
    },
    {
      "cell_type": "markdown",
      "metadata": {
        "id": "DnymsdmGpiYP"
      },
      "source": [
        "Primary Dataset - Nashville Police Stops"
      ]
    },
    {
      "cell_type": "code",
      "execution_count": null,
      "metadata": {
        "colab": {
          "base_uri": "https://localhost:8080/"
        },
        "id": "kAhO1wh5jM6c",
        "outputId": "b0e333ff-cb8c-4778-a7c4-6eefa5722ad7"
      },
      "outputs": [
        {
          "name": "stderr",
          "output_type": "stream",
          "text": [
            "/var/folders/76/0bx0hwcx2cjcbnlskzx9lvhm0000gn/T/ipykernel_11488/1826961158.py:3: DtypeWarning: Columns (6,8,15,16,17,22,23,24,25,29,30,31,32,33,35,36,37,38,40,41) have mixed types. Specify dtype option on import or set low_memory=False.\n",
            "  df_p = pd.read_csv('nv_policing.csv')\n"
          ]
        }
      ],
      "source": [
        "# Read dataset\n",
        "#df_p = pd.read_csv('/content/drive/MyDrive/DSBD1/data/policing_nashville.csv')\n",
        "df_p = pd.read_csv('nv_policing.csv')"
      ]
    },
    {
      "cell_type": "code",
      "execution_count": null,
      "metadata": {
        "colab": {
          "base_uri": "https://localhost:8080/"
        },
        "id": "xrEOcxdGmD_y",
        "outputId": "57e5aef1-ab47-4928-f3f5-21d8554826cb"
      },
      "outputs": [
        {
          "data": {
            "text/plain": [
              "Index(['raw_row_number', 'date', 'time', 'location', 'lat', 'lng', 'precinct',\n",
              "       'reporting_area', 'zone', 'subject_age', 'subject_race', 'subject_sex',\n",
              "       'officer_id_hash', 'type', 'violation', 'arrest_made',\n",
              "       'citation_issued', 'warning_issued', 'outcome', 'contraband_found',\n",
              "       'contraband_drugs', 'contraband_weapons', 'frisk_performed',\n",
              "       'search_conducted', 'search_person', 'search_vehicle', 'search_basis',\n",
              "       'reason_for_stop', 'vehicle_registration_state', 'notes',\n",
              "       'raw_verbal_warning_issued', 'raw_written_warning_issued',\n",
              "       'raw_traffic_citation_issued', 'raw_misd_state_citation_issued',\n",
              "       'raw_suspect_ethnicity', 'raw_driver_searched',\n",
              "       'raw_passenger_searched', 'raw_search_consent', 'raw_search_arrest',\n",
              "       'raw_search_warrant', 'raw_search_inventory', 'raw_search_plain_view'],\n",
              "      dtype='object')"
            ]
          },
          "execution_count": 5,
          "metadata": {},
          "output_type": "execute_result"
        }
      ],
      "source": [
        "df_p.columns"
      ]
    },
    {
      "cell_type": "code",
      "execution_count": null,
      "metadata": {
        "colab": {
          "base_uri": "https://localhost:8080/"
        },
        "id": "6S5HUSSeiak3",
        "outputId": "ccea6be2-b474-45ed-e0a4-31fe68606a9b"
      },
      "outputs": [
        {
          "data": {
            "text/html": [
              "<div>\n",
              "<style scoped>\n",
              "    .dataframe tbody tr th:only-of-type {\n",
              "        vertical-align: middle;\n",
              "    }\n",
              "\n",
              "    .dataframe tbody tr th {\n",
              "        vertical-align: top;\n",
              "    }\n",
              "\n",
              "    .dataframe thead th {\n",
              "        text-align: right;\n",
              "    }\n",
              "</style>\n",
              "<table border=\"1\" class=\"dataframe\">\n",
              "  <thead>\n",
              "    <tr style=\"text-align: right;\">\n",
              "      <th></th>\n",
              "      <th>raw_row_number</th>\n",
              "      <th>date</th>\n",
              "      <th>time</th>\n",
              "      <th>location</th>\n",
              "      <th>lat</th>\n",
              "      <th>lng</th>\n",
              "      <th>precinct</th>\n",
              "      <th>reporting_area</th>\n",
              "      <th>zone</th>\n",
              "      <th>subject_age</th>\n",
              "      <th>...</th>\n",
              "      <th>raw_traffic_citation_issued</th>\n",
              "      <th>raw_misd_state_citation_issued</th>\n",
              "      <th>raw_suspect_ethnicity</th>\n",
              "      <th>raw_driver_searched</th>\n",
              "      <th>raw_passenger_searched</th>\n",
              "      <th>raw_search_consent</th>\n",
              "      <th>raw_search_arrest</th>\n",
              "      <th>raw_search_warrant</th>\n",
              "      <th>raw_search_inventory</th>\n",
              "      <th>raw_search_plain_view</th>\n",
              "    </tr>\n",
              "  </thead>\n",
              "  <tbody>\n",
              "    <tr>\n",
              "      <th>0</th>\n",
              "      <td>232947</td>\n",
              "      <td>2010-10-10</td>\n",
              "      <td>NaN</td>\n",
              "      <td>DOMINICAN DR &amp; ROSA L PARKS BLVD, NASHVILLE, T...</td>\n",
              "      <td>36.187925</td>\n",
              "      <td>-86.798519</td>\n",
              "      <td>6.0</td>\n",
              "      <td>4403.0</td>\n",
              "      <td>611.0</td>\n",
              "      <td>27.0</td>\n",
              "      <td>...</td>\n",
              "      <td>False</td>\n",
              "      <td>NaN</td>\n",
              "      <td>N</td>\n",
              "      <td>False</td>\n",
              "      <td>False</td>\n",
              "      <td>False</td>\n",
              "      <td>False</td>\n",
              "      <td>False</td>\n",
              "      <td>False</td>\n",
              "      <td>False</td>\n",
              "    </tr>\n",
              "    <tr>\n",
              "      <th>1</th>\n",
              "      <td>237161</td>\n",
              "      <td>2010-10-10</td>\n",
              "      <td>10:00:00</td>\n",
              "      <td>1122 LEBANON PIKE, NASHVILLE, TN, 37210</td>\n",
              "      <td>36.155521</td>\n",
              "      <td>-86.735902</td>\n",
              "      <td>5.0</td>\n",
              "      <td>9035.0</td>\n",
              "      <td>513.0</td>\n",
              "      <td>18.0</td>\n",
              "      <td>...</td>\n",
              "      <td>True</td>\n",
              "      <td>NaN</td>\n",
              "      <td>N</td>\n",
              "      <td>False</td>\n",
              "      <td>False</td>\n",
              "      <td>False</td>\n",
              "      <td>False</td>\n",
              "      <td>False</td>\n",
              "      <td>False</td>\n",
              "      <td>False</td>\n",
              "    </tr>\n",
              "    <tr>\n",
              "      <th>2</th>\n",
              "      <td>232902</td>\n",
              "      <td>2010-10-10</td>\n",
              "      <td>10:00:00</td>\n",
              "      <td>898 DAVIDSON DR, , TN, 37205</td>\n",
              "      <td>36.117420</td>\n",
              "      <td>-86.895593</td>\n",
              "      <td>1.0</td>\n",
              "      <td>5005.0</td>\n",
              "      <td>121.0</td>\n",
              "      <td>52.0</td>\n",
              "      <td>...</td>\n",
              "      <td>False</td>\n",
              "      <td>NaN</td>\n",
              "      <td>N</td>\n",
              "      <td>False</td>\n",
              "      <td>False</td>\n",
              "      <td>False</td>\n",
              "      <td>False</td>\n",
              "      <td>False</td>\n",
              "      <td>False</td>\n",
              "      <td>False</td>\n",
              "    </tr>\n",
              "    <tr>\n",
              "      <th>3</th>\n",
              "      <td>233219</td>\n",
              "      <td>2010-10-10</td>\n",
              "      <td>22:00:00</td>\n",
              "      <td>MURFREESBORO PIKE &amp; NASHBORO BLVD, ANTIOCH, TN...</td>\n",
              "      <td>36.086799</td>\n",
              "      <td>-86.648581</td>\n",
              "      <td>3.0</td>\n",
              "      <td>8891.0</td>\n",
              "      <td>325.0</td>\n",
              "      <td>25.0</td>\n",
              "      <td>...</td>\n",
              "      <td>False</td>\n",
              "      <td>NaN</td>\n",
              "      <td>N</td>\n",
              "      <td>False</td>\n",
              "      <td>False</td>\n",
              "      <td>False</td>\n",
              "      <td>False</td>\n",
              "      <td>False</td>\n",
              "      <td>False</td>\n",
              "      <td>False</td>\n",
              "    </tr>\n",
              "    <tr>\n",
              "      <th>4</th>\n",
              "      <td>232780</td>\n",
              "      <td>2010-10-10</td>\n",
              "      <td>01:00:00</td>\n",
              "      <td>BUCHANAN ST, NORTH, TN, 37208</td>\n",
              "      <td>36.180038</td>\n",
              "      <td>-86.809109</td>\n",
              "      <td>NaN</td>\n",
              "      <td>NaN</td>\n",
              "      <td>NaN</td>\n",
              "      <td>21.0</td>\n",
              "      <td>...</td>\n",
              "      <td>False</td>\n",
              "      <td>NaN</td>\n",
              "      <td>N</td>\n",
              "      <td>True</td>\n",
              "      <td>True</td>\n",
              "      <td>False</td>\n",
              "      <td>False</td>\n",
              "      <td>False</td>\n",
              "      <td>False</td>\n",
              "      <td>False</td>\n",
              "    </tr>\n",
              "  </tbody>\n",
              "</table>\n",
              "<p>5 rows × 42 columns</p>\n",
              "</div>"
            ],
            "text/plain": [
              "  raw_row_number        date      time  \\\n",
              "0         232947  2010-10-10       NaN   \n",
              "1         237161  2010-10-10  10:00:00   \n",
              "2         232902  2010-10-10  10:00:00   \n",
              "3         233219  2010-10-10  22:00:00   \n",
              "4         232780  2010-10-10  01:00:00   \n",
              "\n",
              "                                            location        lat        lng  \\\n",
              "0  DOMINICAN DR & ROSA L PARKS BLVD, NASHVILLE, T...  36.187925 -86.798519   \n",
              "1            1122 LEBANON PIKE, NASHVILLE, TN, 37210  36.155521 -86.735902   \n",
              "2                       898 DAVIDSON DR, , TN, 37205  36.117420 -86.895593   \n",
              "3  MURFREESBORO PIKE & NASHBORO BLVD, ANTIOCH, TN...  36.086799 -86.648581   \n",
              "4                      BUCHANAN ST, NORTH, TN, 37208  36.180038 -86.809109   \n",
              "\n",
              "  precinct  reporting_area   zone  subject_age  ...  \\\n",
              "0      6.0          4403.0  611.0         27.0  ...   \n",
              "1      5.0          9035.0  513.0         18.0  ...   \n",
              "2      1.0          5005.0  121.0         52.0  ...   \n",
              "3      3.0          8891.0  325.0         25.0  ...   \n",
              "4      NaN             NaN    NaN         21.0  ...   \n",
              "\n",
              "  raw_traffic_citation_issued raw_misd_state_citation_issued  \\\n",
              "0                       False                            NaN   \n",
              "1                        True                            NaN   \n",
              "2                       False                            NaN   \n",
              "3                       False                            NaN   \n",
              "4                       False                            NaN   \n",
              "\n",
              "  raw_suspect_ethnicity raw_driver_searched raw_passenger_searched  \\\n",
              "0                     N               False                  False   \n",
              "1                     N               False                  False   \n",
              "2                     N               False                  False   \n",
              "3                     N               False                  False   \n",
              "4                     N                True                   True   \n",
              "\n",
              "  raw_search_consent raw_search_arrest raw_search_warrant  \\\n",
              "0              False             False              False   \n",
              "1              False             False              False   \n",
              "2              False             False              False   \n",
              "3              False             False              False   \n",
              "4              False             False              False   \n",
              "\n",
              "  raw_search_inventory raw_search_plain_view  \n",
              "0                False                 False  \n",
              "1                False                 False  \n",
              "2                False                 False  \n",
              "3                False                 False  \n",
              "4                False                 False  \n",
              "\n",
              "[5 rows x 42 columns]"
            ]
          },
          "execution_count": 6,
          "metadata": {},
          "output_type": "execute_result"
        }
      ],
      "source": [
        "df_policing = df_p.copy(deep= True)\n",
        "df_policing.head()"
      ]
    },
    {
      "cell_type": "code",
      "execution_count": null,
      "metadata": {
        "colab": {
          "base_uri": "https://localhost:8080/"
        },
        "id": "Gyzw1RpLJDOo",
        "outputId": "3accd95f-8b86-4981-bc0c-f7a8a80fdd31"
      },
      "outputs": [
        {
          "data": {
            "text/plain": [
              "raw_row_number                     0.000000\n",
              "date                               0.000000\n",
              "time                               0.176791\n",
              "location                           0.000000\n",
              "lat                                6.050607\n",
              "lng                                6.050607\n",
              "precinct                          12.618943\n",
              "reporting_area                    10.748877\n",
              "zone                              12.618943\n",
              "subject_age                        0.027131\n",
              "subject_race                       0.059825\n",
              "subject_sex                        0.414636\n",
              "officer_id_hash                    0.000356\n",
              "type                               0.000000\n",
              "violation                          0.259350\n",
              "arrest_made                        0.000905\n",
              "citation_issued                    0.010348\n",
              "warning_issued                     0.010898\n",
              "outcome                            0.062574\n",
              "contraband_found                  95.870294\n",
              "contraband_drugs                  95.870294\n",
              "contraband_weapons                95.870294\n",
              "frisk_performed                    0.000711\n",
              "search_conducted                   0.001261\n",
              "search_person                      0.001391\n",
              "search_vehicle                     0.001326\n",
              "search_basis                      95.870294\n",
              "reason_for_stop                    0.259350\n",
              "vehicle_registration_state         1.028053\n",
              "notes                             83.422386\n",
              "raw_verbal_warning_issued          0.010898\n",
              "raw_written_warning_issued        15.945506\n",
              "raw_traffic_citation_issued        0.010380\n",
              "raw_misd_state_citation_issued    22.436457\n",
              "raw_suspect_ethnicity              0.002490\n",
              "raw_driver_searched                0.000970\n",
              "raw_passenger_searched             0.000291\n",
              "raw_search_consent                 0.000679\n",
              "raw_search_arrest                  0.000420\n",
              "raw_search_warrant                 0.000000\n",
              "raw_search_inventory               0.000065\n",
              "raw_search_plain_view              0.000226\n",
              "dtype: float64"
            ]
          },
          "execution_count": 7,
          "metadata": {},
          "output_type": "execute_result"
        }
      ],
      "source": [
        "(df_policing.isnull().sum()/len(df_policing))*100"
      ]
    },
    {
      "cell_type": "code",
      "execution_count": null,
      "metadata": {
        "colab": {
          "base_uri": "https://localhost:8080/"
        },
        "id": "_MQrYunQmuTT",
        "outputId": "39ef82a4-4fa5-428a-e900-b5a6e0623a19"
      },
      "outputs": [
        {
          "data": {
            "text/plain": [
              "Index(['raw_row_number', 'date', 'time', 'location', 'lat', 'lng', 'precinct',\n",
              "       'reporting_area', 'zone', 'subject_age', 'subject_race', 'subject_sex',\n",
              "       'officer_id_hash', 'type', 'violation', 'arrest_made',\n",
              "       'citation_issued', 'warning_issued', 'outcome', 'contraband_found',\n",
              "       'contraband_drugs', 'contraband_weapons', 'frisk_performed',\n",
              "       'search_conducted', 'search_person', 'search_vehicle', 'search_basis',\n",
              "       'reason_for_stop', 'vehicle_registration_state', 'notes',\n",
              "       'raw_verbal_warning_issued', 'raw_written_warning_issued',\n",
              "       'raw_traffic_citation_issued', 'raw_misd_state_citation_issued',\n",
              "       'raw_suspect_ethnicity', 'raw_driver_searched',\n",
              "       'raw_passenger_searched', 'raw_search_consent', 'raw_search_arrest',\n",
              "       'raw_search_warrant', 'raw_search_inventory', 'raw_search_plain_view'],\n",
              "      dtype='object')"
            ]
          },
          "execution_count": 8,
          "metadata": {},
          "output_type": "execute_result"
        }
      ],
      "source": [
        "#looking at the different columns to identify features\n",
        "df_policing.columns"
      ]
    },
    {
      "cell_type": "code",
      "execution_count": null,
      "metadata": {
        "id": "SGFVsYOgmwZI",
        "outputId": "f62c1d69-04ac-4bee-fb5d-e7aa43b09f5b"
      },
      "outputs": [
        {
          "name": "stderr",
          "output_type": "stream",
          "text": [
            "/var/folders/76/0bx0hwcx2cjcbnlskzx9lvhm0000gn/T/ipykernel_11488/1228801168.py:12: FutureWarning: Downcasting behavior in `replace` is deprecated and will be removed in a future version. To retain the old behavior, explicitly call `result.infer_objects(copy=False)`. To opt-in to the future behavior, set `pd.set_option('future.no_silent_downcasting', True)`\n",
            "  df_policing[bool_cols] = df_policing[bool_cols].replace({False: 0, True: 1})\n"
          ]
        }
      ],
      "source": [
        "# Converting DateTime Column to DateTime\n",
        "df_policing['date'] = pd.to_datetime(df_policing['date'])\n",
        "df_policing = df_policing[df_policing['date']<'2019-01-01 00:00:00']\n",
        "df_policing = df_policing.drop_duplicates()\n",
        "# Converting boolean columns from object dtype to boolean dtype\n",
        "bool_cols = ['arrest_made', 'citation_issued', 'warning_issued','contraband_found',\n",
        "    'contraband_drugs', 'contraband_weapons','frisk_performed', 'search_conducted',\n",
        "    'search_person','search_vehicle','raw_verbal_warning_issued','raw_written_warning_issued',\n",
        "    'raw_traffic_citation_issued','raw_driver_searched', 'raw_passenger_searched',\n",
        "    'raw_search_consent','raw_search_arrest', 'raw_search_warrant', 'raw_search_inventory',\n",
        "    'raw_search_plain_view']\n",
        "df_policing[bool_cols] = df_policing[bool_cols].replace({False: 0, True: 1})\n",
        "\n"
      ]
    },
    {
      "cell_type": "code",
      "execution_count": null,
      "metadata": {
        "id": "n4H0ejTZnsai"
      },
      "outputs": [],
      "source": [
        "for col in bool_cols:\n",
        "    df_policing[col] = df_policing[col].fillna(0)"
      ]
    },
    {
      "cell_type": "code",
      "execution_count": null,
      "metadata": {
        "id": "uoCyBQGRoORy"
      },
      "outputs": [],
      "source": [
        "# Removing all the raw columns from the dataset\n",
        "raw_cols = [col for col in df_policing.columns if 'raw' in col]\n",
        "df2 = df_policing.drop(columns=raw_cols)"
      ]
    },
    {
      "cell_type": "code",
      "execution_count": null,
      "metadata": {
        "id": "GMZn9GdEoOWN"
      },
      "outputs": [],
      "source": [
        "df_policing[bool_cols] = df_policing[bool_cols].astype(bool) # Changes the boolean values for the columns, why is it happening"
      ]
    },
    {
      "cell_type": "code",
      "execution_count": null,
      "metadata": {
        "colab": {
          "base_uri": "https://localhost:8080/"
        },
        "id": "0op-OyIMonmA",
        "outputId": "f9d8a730-4c15-4b77-e148-f6f765213de3"
      },
      "outputs": [
        {
          "name": "stdout",
          "output_type": "stream",
          "text": [
            "[nan 'probable cause' 'plain view' 'consent' 'other']\n",
            "2950994\n"
          ]
        }
      ],
      "source": [
        "print(df2['search_basis'].unique()) # Checking unique values of search basis\n",
        "print(len(df2[df2['search_basis'].isna()])) # Checking number of nan values"
      ]
    },
    {
      "cell_type": "markdown",
      "metadata": {
        "id": "tDHuE7Yvo5l9"
      },
      "source": [
        "**Since alot (2,964,644) of the values for search basis are nan we will create a new search basis column with the nans labeled as 'no_search_basis'**"
      ]
    },
    {
      "cell_type": "code",
      "execution_count": null,
      "metadata": {
        "colab": {
          "base_uri": "https://localhost:8080/"
        },
        "id": "z-nuz9i0oniS",
        "outputId": "c441a158-1d36-47c6-8dd8-3511fd59b978"
      },
      "outputs": [
        {
          "data": {
            "text/plain": [
              "array(['not reported', 'probable cause', 'plain view', 'consent', 'other'],\n",
              "      dtype=object)"
            ]
          },
          "execution_count": 14,
          "metadata": {},
          "output_type": "execute_result"
        }
      ],
      "source": [
        "df2['search_basis_new'] = df2['search_basis']\n",
        "df2['search_basis_new'] = df2['search_basis_new'].fillna('not reported') # Change to not reported\n",
        "df2['search_basis_new'].unique()"
      ]
    },
    {
      "cell_type": "code",
      "execution_count": null,
      "metadata": {
        "colab": {
          "base_uri": "https://localhost:8080/"
        },
        "id": "sC-YLPLpUM5Z",
        "outputId": "1e5bfd41-6d94-4f20-e72a-fdc6da5088d6"
      },
      "outputs": [
        {
          "name": "stderr",
          "output_type": "stream",
          "text": [
            "/var/folders/76/0bx0hwcx2cjcbnlskzx9lvhm0000gn/T/ipykernel_11488/3101638958.py:1: FutureWarning: A value is trying to be set on a copy of a DataFrame or Series through chained assignment using an inplace method.\n",
            "The behavior will change in pandas 3.0. This inplace method will never work because the intermediate object on which we are setting values always behaves as a copy.\n",
            "\n",
            "For example, when doing 'df[col].method(value, inplace=True)', try using 'df.method({col: value}, inplace=True)' or df[col] = df[col].method(value) instead, to perform the operation inplace on the original object.\n",
            "\n",
            "\n",
            "  df2.arrest_made.fillna(0,inplace=True)\n"
          ]
        },
        {
          "data": {
            "text/plain": [
              "array([0., 1.])"
            ]
          },
          "execution_count": 15,
          "metadata": {},
          "output_type": "execute_result"
        }
      ],
      "source": [
        "df2.arrest_made.fillna(0,inplace=True)\n",
        "df2.arrest_made.unique()"
      ]
    },
    {
      "cell_type": "code",
      "execution_count": null,
      "metadata": {
        "id": "sINCNmUEonfN"
      },
      "outputs": [],
      "source": [
        "df2['year'] = df2['date'].dt.strftime('%Y')"
      ]
    },
    {
      "cell_type": "code",
      "execution_count": null,
      "metadata": {
        "id": "Ke11tKLBGFyJ",
        "outputId": "feba0067-7d76-44cd-e5bc-769d8334580b"
      },
      "outputs": [
        {
          "data": {
            "text/plain": [
              "array(['2010', '2011', '2012', '2013', '2014', '2015', '2016', '2017',\n",
              "       '2018'], dtype=object)"
            ]
          },
          "execution_count": 17,
          "metadata": {},
          "output_type": "execute_result"
        }
      ],
      "source": [
        "df2.year.unique()"
      ]
    },
    {
      "cell_type": "markdown",
      "metadata": {
        "id": "UuhHwS5kqHJt"
      },
      "source": [
        "\n",
        "\n",
        "---\n",
        "\n"
      ]
    },
    {
      "cell_type": "markdown",
      "metadata": {
        "id": "KTmW_p68sDnD",
        "jp-MarkdownHeadingCollapsed": true
      },
      "source": [
        "### **Part 1. Analysis of Traffic Stops in Nashville over Time**"
      ]
    },
    {
      "cell_type": "markdown",
      "metadata": {
        "id": "xYTybnsQkmCJ"
      },
      "source": [
        "\n",
        "**Question**: What was the impact of the 2013 backlash against the aggressive traffic stop policing strategy of the Nashville Police Department (PD) over time?\n",
        "\n",
        "**Methodology and Analysis**\n",
        "We try to answer this umbrealla question by breaking it down into further smaller questions:\n",
        "\n",
        "1. What trends can be observed in the number of overall traffic stops performed by the Nashville Police Department over time?\n",
        "\n",
        "2. What patterns emerge in the frequency of frisks conducted during traffic stops over time?\n",
        "\n",
        "3. How have the searches conducted during traffic stops varied over time?\n",
        "\n",
        "4. What are the trends in the number of arrests resulting from traffic stops over the years?\n",
        "\n",
        "5. What patterns can be seen in the seizure of contraband from traffic stops over time?\n",
        "\n",
        "To answer these question, we use the number of stops and the metrics defined below:\n",
        "\n",
        "\n",
        "\n",
        "*   Frisk Rate: Ratio of number of frisks conducted to total stops\n",
        "- Search Rate: Ratio of number of searched conducted to total stops\n",
        "*   Contraband Hit Rate: Number of units of contraband found per seach\n",
        "\n",
        "\n",
        "\n",
        "**Hypothesis**: We except to see a decrease in the number of stops and frisks, after around 2013 as a consquence of the frisk policy. We hope to see the contraband hit rate and arrests rate to have increase over years, indicating that several of these stops made did not lead to substantial outcomes."
      ]
    },
    {
      "cell_type": "code",
      "execution_count": null,
      "metadata": {
        "id": "lr4aizFoonVq"
      },
      "outputs": [],
      "source": [
        "drop_null_df = df2.copy(deep=True)"
      ]
    },
    {
      "cell_type": "markdown",
      "metadata": {
        "id": "P_0u26zfhIG8"
      },
      "source": [
        "#### *Temporal Analysis of Traffic Stops*"
      ]
    },
    {
      "cell_type": "code",
      "execution_count": null,
      "metadata": {
        "colab": {
          "base_uri": "https://localhost:8080/",
          "height": 485
        },
        "id": "SD2dJqnMgvYq",
        "outputId": "b4095bfa-6ef5-48a9-c229-de515f5867ac"
      },
      "outputs": [
        {
          "name": "stderr",
          "output_type": "stream",
          "text": [
            "/Users/nirvikgill/anaconda3/lib/python3.11/site-packages/altair/utils/core.py:395: FutureWarning: the convert_dtype parameter is deprecated and will be removed in a future version.  Do ``ser.astype(object).apply()`` instead if you want ``convert_dtype=False``.\n",
            "  col = df[col_name].apply(to_list_if_array, convert_dtype=False)\n"
          ]
        },
        {
          "data": {
            "text/html": [
              "\n",
              "<style>\n",
              "  #altair-viz-bbefa9d98beb4ca6bb0baa819d625eeb.vega-embed {\n",
              "    width: 100%;\n",
              "    display: flex;\n",
              "  }\n",
              "\n",
              "  #altair-viz-bbefa9d98beb4ca6bb0baa819d625eeb.vega-embed details,\n",
              "  #altair-viz-bbefa9d98beb4ca6bb0baa819d625eeb.vega-embed details summary {\n",
              "    position: relative;\n",
              "  }\n",
              "</style>\n",
              "<div id=\"altair-viz-bbefa9d98beb4ca6bb0baa819d625eeb\"></div>\n",
              "<script type=\"text/javascript\">\n",
              "  var VEGA_DEBUG = (typeof VEGA_DEBUG == \"undefined\") ? {} : VEGA_DEBUG;\n",
              "  (function(spec, embedOpt){\n",
              "    let outputDiv = document.currentScript.previousElementSibling;\n",
              "    if (outputDiv.id !== \"altair-viz-bbefa9d98beb4ca6bb0baa819d625eeb\") {\n",
              "      outputDiv = document.getElementById(\"altair-viz-bbefa9d98beb4ca6bb0baa819d625eeb\");\n",
              "    }\n",
              "    const paths = {\n",
              "      \"vega\": \"https://cdn.jsdelivr.net/npm/vega@5?noext\",\n",
              "      \"vega-lib\": \"https://cdn.jsdelivr.net/npm/vega-lib?noext\",\n",
              "      \"vega-lite\": \"https://cdn.jsdelivr.net/npm/vega-lite@5.8.0?noext\",\n",
              "      \"vega-embed\": \"https://cdn.jsdelivr.net/npm/vega-embed@6?noext\",\n",
              "    };\n",
              "\n",
              "    function maybeLoadScript(lib, version) {\n",
              "      var key = `${lib.replace(\"-\", \"\")}_version`;\n",
              "      return (VEGA_DEBUG[key] == version) ?\n",
              "        Promise.resolve(paths[lib]) :\n",
              "        new Promise(function(resolve, reject) {\n",
              "          var s = document.createElement('script');\n",
              "          document.getElementsByTagName(\"head\")[0].appendChild(s);\n",
              "          s.async = true;\n",
              "          s.onload = () => {\n",
              "            VEGA_DEBUG[key] = version;\n",
              "            return resolve(paths[lib]);\n",
              "          };\n",
              "          s.onerror = () => reject(`Error loading script: ${paths[lib]}`);\n",
              "          s.src = paths[lib];\n",
              "        });\n",
              "    }\n",
              "\n",
              "    function showError(err) {\n",
              "      outputDiv.innerHTML = `<div class=\"error\" style=\"color:red;\">${err}</div>`;\n",
              "      throw err;\n",
              "    }\n",
              "\n",
              "    function displayChart(vegaEmbed) {\n",
              "      vegaEmbed(outputDiv, spec, embedOpt)\n",
              "        .catch(err => showError(`Javascript Error: ${err.message}<br>This usually means there's a typo in your chart specification. See the javascript console for the full traceback.`));\n",
              "    }\n",
              "\n",
              "    if(typeof define === \"function\" && define.amd) {\n",
              "      requirejs.config({paths});\n",
              "      require([\"vega-embed\"], displayChart, err => showError(`Error loading script: ${err.message}`));\n",
              "    } else {\n",
              "      maybeLoadScript(\"vega\", \"5\")\n",
              "        .then(() => maybeLoadScript(\"vega-lite\", \"5.8.0\"))\n",
              "        .then(() => maybeLoadScript(\"vega-embed\", \"6\"))\n",
              "        .catch(showError)\n",
              "        .then(() => displayChart(vegaEmbed));\n",
              "    }\n",
              "  })({\"config\": {\"view\": {\"continuousWidth\": 300, \"continuousHeight\": 300}}, \"data\": {\"name\": \"data-6f44b2c38b33c14bcff2ce4cc34f0012\"}, \"mark\": {\"type\": \"bar\"}, \"encoding\": {\"color\": {\"condition\": {\"test\": \"datum.highlight\", \"value\": \"#f88\"}, \"value\": \"lightgray\"}, \"tooltip\": [{\"field\": \"year\", \"type\": \"nominal\"}, {\"field\": \"count_stops\", \"type\": \"quantitative\"}], \"x\": {\"axis\": {\"labelAngle\": 0}, \"field\": \"year\", \"title\": \"Year\", \"type\": \"ordinal\"}, \"y\": {\"axis\": {\"title\": \"Total Traffic Stops\"}, \"field\": \"count_stops\", \"type\": \"quantitative\"}}, \"height\": 400, \"title\": \"Number of Traffic Stops per Year\", \"width\": 600, \"$schema\": \"https://vega.github.io/schema/vega-lite/v5.8.0.json\", \"datasets\": {\"data-6f44b2c38b33c14bcff2ce4cc34f0012\": [{\"year\": \"2010\", \"count_stops\": 310622, \"highlight\": false}, {\"year\": \"2011\", \"count_stops\": 393248, \"highlight\": false}, {\"year\": \"2012\", \"count_stops\": 444146, \"highlight\": true}, {\"year\": \"2013\", \"count_stops\": 412695, \"highlight\": true}, {\"year\": \"2014\", \"count_stops\": 413114, \"highlight\": false}, {\"year\": \"2015\", \"count_stops\": 357261, \"highlight\": false}, {\"year\": \"2016\", \"count_stops\": 297248, \"highlight\": false}, {\"year\": \"2017\", \"count_stops\": 245565, \"highlight\": false}, {\"year\": \"2018\", \"count_stops\": 204217, \"highlight\": false}]}}, {\"mode\": \"vega-lite\"});\n",
              "</script>"
            ],
            "text/plain": [
              "alt.Chart(...)"
            ]
          },
          "metadata": {},
          "output_type": "display_data"
        }
      ],
      "source": [
        "drop_null_df['year'] = drop_null_df['year'].astype(str)\n",
        "\n",
        "highlighted_years = ['2012', '2013']\n",
        "\n",
        "year_stop_counts = drop_null_df.groupby('year').size().reset_index(name='count_stops')\n",
        "\n",
        "year_stop_counts['highlight'] = year_stop_counts['year'].isin(highlighted_years)\n",
        "\n",
        "chart = alt.Chart(year_stop_counts).mark_bar().encode(\n",
        "    x=alt.X('year:O', title= 'Year', axis=alt.Axis(labelAngle=0)),\n",
        "    y=alt.Y('count_stops:Q', axis=alt.Axis(title='Total Traffic Stops')),\n",
        "    # Use conditional color based on the 'highlight' column\n",
        "    color=alt.condition(\n",
        "        alt.datum.highlight,  # If true (year is highlighted)\n",
        "        alt.value('#f88'),  # Use highlight color\n",
        "        alt.value('lightgray')  # Else use default color\n",
        "    ),\n",
        "    tooltip=['year', 'count_stops']\n",
        ").properties(\n",
        "    title='Number of Traffic Stops per Year',\n",
        "    width=600,\n",
        "    height=400\n",
        ")\n",
        "\n",
        "chart.display()\n"
      ]
    },
    {
      "cell_type": "code",
      "execution_count": null,
      "metadata": {
        "colab": {
          "base_uri": "https://localhost:8080/",
          "height": 300
        },
        "id": "AEo0mT0Mj0U8",
        "outputId": "32839155-c08a-43a0-b94f-b46f02270241"
      },
      "outputs": [
        {
          "data": {
            "text/html": [
              "<div>\n",
              "<style scoped>\n",
              "    .dataframe tbody tr th:only-of-type {\n",
              "        vertical-align: middle;\n",
              "    }\n",
              "\n",
              "    .dataframe tbody tr th {\n",
              "        vertical-align: top;\n",
              "    }\n",
              "\n",
              "    .dataframe thead th {\n",
              "        text-align: right;\n",
              "    }\n",
              "</style>\n",
              "<table border=\"1\" class=\"dataframe\">\n",
              "  <thead>\n",
              "    <tr style=\"text-align: right;\">\n",
              "      <th></th>\n",
              "      <th>count_stops</th>\n",
              "    </tr>\n",
              "  </thead>\n",
              "  <tbody>\n",
              "    <tr>\n",
              "      <th>count</th>\n",
              "      <td>9.000000</td>\n",
              "    </tr>\n",
              "    <tr>\n",
              "      <th>mean</th>\n",
              "      <td>342012.888889</td>\n",
              "    </tr>\n",
              "    <tr>\n",
              "      <th>std</th>\n",
              "      <td>82628.103700</td>\n",
              "    </tr>\n",
              "    <tr>\n",
              "      <th>min</th>\n",
              "      <td>204217.000000</td>\n",
              "    </tr>\n",
              "    <tr>\n",
              "      <th>25%</th>\n",
              "      <td>297248.000000</td>\n",
              "    </tr>\n",
              "    <tr>\n",
              "      <th>50%</th>\n",
              "      <td>357261.000000</td>\n",
              "    </tr>\n",
              "    <tr>\n",
              "      <th>75%</th>\n",
              "      <td>412695.000000</td>\n",
              "    </tr>\n",
              "    <tr>\n",
              "      <th>max</th>\n",
              "      <td>444146.000000</td>\n",
              "    </tr>\n",
              "  </tbody>\n",
              "</table>\n",
              "</div>"
            ],
            "text/plain": [
              "         count_stops\n",
              "count       9.000000\n",
              "mean   342012.888889\n",
              "std     82628.103700\n",
              "min    204217.000000\n",
              "25%    297248.000000\n",
              "50%    357261.000000\n",
              "75%    412695.000000\n",
              "max    444146.000000"
            ]
          },
          "execution_count": 20,
          "metadata": {},
          "output_type": "execute_result"
        }
      ],
      "source": [
        "year_stop_counts.describe()"
      ]
    },
    {
      "cell_type": "markdown",
      "metadata": {
        "id": "MpOTopH2oQUY"
      },
      "source": [
        "**We can see from the above visualization that the number of traffic stops was the highest in 2012 and reduced in 2013 and remained the same in 2014. The number eventually start decreasing more steeply, with almost half as many stops in 2018 than 2013. We can observe a \"delayed\" effect of the backlash on actually reducing the stops.**"
      ]
    },
    {
      "cell_type": "markdown",
      "metadata": {
        "id": "v-kxSmOYGaZz"
      },
      "source": [
        "#### *Analysis of Frisks*"
      ]
    },
    {
      "cell_type": "code",
      "execution_count": null,
      "metadata": {
        "colab": {
          "base_uri": "https://localhost:8080/",
          "height": 487
        },
        "id": "l8CPgfsDqweD",
        "outputId": "59daa931-14d8-4ab7-f424-2853b5ed5079"
      },
      "outputs": [
        {
          "name": "stderr",
          "output_type": "stream",
          "text": [
            "/Users/nirvikgill/anaconda3/lib/python3.11/site-packages/altair/utils/core.py:395: FutureWarning: the convert_dtype parameter is deprecated and will be removed in a future version.  Do ``ser.astype(object).apply()`` instead if you want ``convert_dtype=False``.\n",
            "  col = df[col_name].apply(to_list_if_array, convert_dtype=False)\n",
            "/Users/nirvikgill/anaconda3/lib/python3.11/site-packages/altair/utils/core.py:395: FutureWarning: the convert_dtype parameter is deprecated and will be removed in a future version.  Do ``ser.astype(object).apply()`` instead if you want ``convert_dtype=False``.\n",
            "  col = df[col_name].apply(to_list_if_array, convert_dtype=False)\n",
            "/Users/nirvikgill/anaconda3/lib/python3.11/site-packages/altair/utils/core.py:395: FutureWarning: the convert_dtype parameter is deprecated and will be removed in a future version.  Do ``ser.astype(object).apply()`` instead if you want ``convert_dtype=False``.\n",
            "  col = df[col_name].apply(to_list_if_array, convert_dtype=False)\n"
          ]
        },
        {
          "data": {
            "text/html": [
              "\n",
              "<style>\n",
              "  #altair-viz-70d5b7d9542746aea4f358fd99878c89.vega-embed {\n",
              "    width: 100%;\n",
              "    display: flex;\n",
              "  }\n",
              "\n",
              "  #altair-viz-70d5b7d9542746aea4f358fd99878c89.vega-embed details,\n",
              "  #altair-viz-70d5b7d9542746aea4f358fd99878c89.vega-embed details summary {\n",
              "    position: relative;\n",
              "  }\n",
              "</style>\n",
              "<div id=\"altair-viz-70d5b7d9542746aea4f358fd99878c89\"></div>\n",
              "<script type=\"text/javascript\">\n",
              "  var VEGA_DEBUG = (typeof VEGA_DEBUG == \"undefined\") ? {} : VEGA_DEBUG;\n",
              "  (function(spec, embedOpt){\n",
              "    let outputDiv = document.currentScript.previousElementSibling;\n",
              "    if (outputDiv.id !== \"altair-viz-70d5b7d9542746aea4f358fd99878c89\") {\n",
              "      outputDiv = document.getElementById(\"altair-viz-70d5b7d9542746aea4f358fd99878c89\");\n",
              "    }\n",
              "    const paths = {\n",
              "      \"vega\": \"https://cdn.jsdelivr.net/npm/vega@5?noext\",\n",
              "      \"vega-lib\": \"https://cdn.jsdelivr.net/npm/vega-lib?noext\",\n",
              "      \"vega-lite\": \"https://cdn.jsdelivr.net/npm/vega-lite@5.8.0?noext\",\n",
              "      \"vega-embed\": \"https://cdn.jsdelivr.net/npm/vega-embed@6?noext\",\n",
              "    };\n",
              "\n",
              "    function maybeLoadScript(lib, version) {\n",
              "      var key = `${lib.replace(\"-\", \"\")}_version`;\n",
              "      return (VEGA_DEBUG[key] == version) ?\n",
              "        Promise.resolve(paths[lib]) :\n",
              "        new Promise(function(resolve, reject) {\n",
              "          var s = document.createElement('script');\n",
              "          document.getElementsByTagName(\"head\")[0].appendChild(s);\n",
              "          s.async = true;\n",
              "          s.onload = () => {\n",
              "            VEGA_DEBUG[key] = version;\n",
              "            return resolve(paths[lib]);\n",
              "          };\n",
              "          s.onerror = () => reject(`Error loading script: ${paths[lib]}`);\n",
              "          s.src = paths[lib];\n",
              "        });\n",
              "    }\n",
              "\n",
              "    function showError(err) {\n",
              "      outputDiv.innerHTML = `<div class=\"error\" style=\"color:red;\">${err}</div>`;\n",
              "      throw err;\n",
              "    }\n",
              "\n",
              "    function displayChart(vegaEmbed) {\n",
              "      vegaEmbed(outputDiv, spec, embedOpt)\n",
              "        .catch(err => showError(`Javascript Error: ${err.message}<br>This usually means there's a typo in your chart specification. See the javascript console for the full traceback.`));\n",
              "    }\n",
              "\n",
              "    if(typeof define === \"function\" && define.amd) {\n",
              "      requirejs.config({paths});\n",
              "      require([\"vega-embed\"], displayChart, err => showError(`Error loading script: ${err.message}`));\n",
              "    } else {\n",
              "      maybeLoadScript(\"vega\", \"5\")\n",
              "        .then(() => maybeLoadScript(\"vega-lite\", \"5.8.0\"))\n",
              "        .then(() => maybeLoadScript(\"vega-embed\", \"6\"))\n",
              "        .catch(showError)\n",
              "        .then(() => displayChart(vegaEmbed));\n",
              "    }\n",
              "  })({\"config\": {\"view\": {\"continuousWidth\": 300, \"continuousHeight\": 300}}, \"hconcat\": [{\"layer\": [{\"mark\": {\"type\": \"bar\", \"color\": \"lightgray\"}, \"encoding\": {\"tooltip\": [{\"field\": \"year\", \"type\": \"nominal\"}, {\"field\": \"frisk_counts\", \"type\": \"quantitative\"}], \"x\": {\"axis\": {\"labelAngle\": 0}, \"field\": \"year\", \"title\": \"Year\", \"type\": \"ordinal\"}, \"y\": {\"axis\": {\"title\": \"Total Frisks Conducted\"}, \"field\": \"frisk_counts\", \"type\": \"quantitative\"}}, \"title\": \"Number of Frisks per Year\"}, {\"mark\": {\"type\": \"line\", \"color\": \"red\"}, \"encoding\": {\"x\": {\"field\": \"year\", \"type\": \"ordinal\"}, \"y\": {\"field\": \"frisk_counts\", \"type\": \"quantitative\"}}}], \"data\": {\"name\": \"data-9b2359ebc27dec8d55a7e6f15d44a1c0\"}, \"height\": 400, \"width\": 500}, {\"layer\": [{\"data\": {\"name\": \"data-812330d4ea72427014274137206b43c9\"}, \"mark\": {\"type\": \"line\", \"color\": \"gray\", \"point\": true}, \"encoding\": {\"tooltip\": [{\"field\": \"year\", \"type\": \"nominal\"}, {\"field\": \"frisk_to_stop_perentage\", \"type\": \"quantitative\"}], \"x\": {\"axis\": {\"labelAngle\": 0}, \"field\": \"year\", \"title\": \"Year\", \"type\": \"ordinal\"}, \"y\": {\"axis\": {\"title\": \"Frisk-to-Stop in %\"}, \"field\": \"frisk_to_stop_perentage\", \"type\": \"quantitative\"}}, \"title\": \"Frisk-to-Stop Percentage Over Years\"}, {\"data\": {\"name\": \"data-170ac72bb7943de610bd807908c0104e\"}, \"mark\": {\"type\": \"rule\", \"color\": \"red\", \"strokeDash\": [5, 5], \"strokeWidth\": 1}, \"encoding\": {\"x\": {\"field\": \"Year\", \"type\": \"ordinal\"}}}], \"height\": 400, \"width\": 500}], \"$schema\": \"https://vega.github.io/schema/vega-lite/v5.8.0.json\", \"datasets\": {\"data-9b2359ebc27dec8d55a7e6f15d44a1c0\": [{\"year\": \"2010\", \"frisk_counts\": 8303}, {\"year\": \"2011\", \"frisk_counts\": 10043}, {\"year\": \"2012\", \"frisk_counts\": 8987}, {\"year\": \"2013\", \"frisk_counts\": 8753}, {\"year\": \"2014\", \"frisk_counts\": 7753}, {\"year\": \"2015\", \"frisk_counts\": 5964}, {\"year\": \"2016\", \"frisk_counts\": 4554}, {\"year\": \"2017\", \"frisk_counts\": 3581}, {\"year\": \"2018\", \"frisk_counts\": 3535}], \"data-812330d4ea72427014274137206b43c9\": [{\"year\": \"2010\", \"frisk_counts\": 8303, \"count_stops\": 310622, \"highlight\": false, \"frisk_to_stop_perentage\": 2.6730238038516267}, {\"year\": \"2011\", \"frisk_counts\": 10043, \"count_stops\": 393248, \"highlight\": false, \"frisk_to_stop_perentage\": 2.553859142322402}, {\"year\": \"2012\", \"frisk_counts\": 8987, \"count_stops\": 444146, \"highlight\": true, \"frisk_to_stop_perentage\": 2.0234337357535583}, {\"year\": \"2013\", \"frisk_counts\": 8753, \"count_stops\": 412695, \"highlight\": true, \"frisk_to_stop_perentage\": 2.120936769284823}, {\"year\": \"2014\", \"frisk_counts\": 7753, \"count_stops\": 413114, \"highlight\": false, \"frisk_to_stop_perentage\": 1.8767216797300503}, {\"year\": \"2015\", \"frisk_counts\": 5964, \"count_stops\": 357261, \"highlight\": false, \"frisk_to_stop_perentage\": 1.669367773140645}, {\"year\": \"2016\", \"frisk_counts\": 4554, \"count_stops\": 297248, \"highlight\": false, \"frisk_to_stop_perentage\": 1.5320540424157605}, {\"year\": \"2017\", \"frisk_counts\": 3581, \"count_stops\": 245565, \"highlight\": false, \"frisk_to_stop_perentage\": 1.4582697045588744}, {\"year\": \"2018\", \"frisk_counts\": 3535, \"count_stops\": 204217, \"highlight\": false, \"frisk_to_stop_perentage\": 1.73100182648849}], \"data-170ac72bb7943de610bd807908c0104e\": [{\"Year\": \"2013\"}]}}, {\"mode\": \"vega-lite\"});\n",
              "</script>"
            ],
            "text/plain": [
              "alt.HConcatChart(...)"
            ]
          },
          "execution_count": 21,
          "metadata": {},
          "output_type": "execute_result"
        }
      ],
      "source": [
        "\n",
        "year_counts_frisk = drop_null_df[drop_null_df['frisk_performed'] == True].groupby('year').size().reset_index(name='frisk_counts')\n",
        "\n",
        "\n",
        "bar_chart_a = alt.Chart(year_counts_frisk).mark_bar(color='lightgray').encode(\n",
        "    x=alt.X('year:O', title= 'Year', axis=alt.Axis(labelAngle=0)),\n",
        "    y=alt.Y('frisk_counts:Q', axis=alt.Axis(title='Total Frisks Conducted')),\n",
        "    tooltip=['year', 'frisk_counts']\n",
        ").properties(\n",
        "    title='Number of Frisks per Year',\n",
        "    width=500,\n",
        "    height=400\n",
        ")\n",
        "\n",
        "line_chart_a = alt.Chart(year_counts_frisk).mark_line(color='red').encode(\n",
        "    x='year:O',\n",
        "    y='frisk_counts:Q'\n",
        ")\n",
        "\n",
        "# Layering charts\n",
        "final_chart_a = alt.layer(bar_chart_a, line_chart_a).properties(\n",
        "    width=500,\n",
        "    height=400\n",
        ")\n",
        "\n",
        "\n",
        "#annual frisk rates\n",
        "annual_stop_frisk_df = pd.merge(year_counts_frisk, year_stop_counts, on='year')\n",
        "\n",
        "#calculating the first-to-stop ratio for each year\n",
        "annual_stop_frisk_df['frisk_to_stop_perentage'] = annual_stop_frisk_df['frisk_counts'] * 100 / annual_stop_frisk_df['count_stops']\n",
        "\n",
        "line_chart_b = alt.Chart(annual_stop_frisk_df).mark_line(point=True, color = 'gray').encode(\n",
        "    x= alt.X('year:O', title= 'Year', axis=alt.Axis(labelAngle=0)),\n",
        "    y=alt.Y('frisk_to_stop_perentage:Q', axis=alt.Axis(title='Frisk-to-Stop in %')),\n",
        "    tooltip=['year', 'frisk_to_stop_perentage']\n",
        ").properties(\n",
        "    title='Frisk-to-Stop Percentage Over Years',\n",
        "    width=500,\n",
        "    height=400\n",
        ")\n",
        "\n",
        "ref_years_df = pd.DataFrame({'Year': ['2013']})\n",
        "\n",
        "# reference lines\n",
        "ref_lines = alt.Chart(ref_years_df).mark_rule(color='red', strokeWidth=1, strokeDash=[5, 5]).encode(\n",
        "    x='Year:O',\n",
        ").properties(\n",
        "    width=500,\n",
        "    height=400\n",
        ")\n",
        "\n",
        "# Combine the line chart with reference lines\n",
        "final_chart_b = (line_chart_b + ref_lines).properties(\n",
        "    width=500,\n",
        "    height=400\n",
        ")\n",
        "\n",
        "# side-by-side display of charts\n",
        "final_chart_a | final_chart_b\n"
      ]
    },
    {
      "cell_type": "markdown",
      "metadata": {
        "id": "rHpC4NoNoxsE"
      },
      "source": [
        "**Key Takeaways**\n",
        "- The number of frisks have reduced significantly since 2011, but has remained almost constant for the years 2017 and 2018.\n",
        "- There is a sharp increase in the year 2011. It might be due to the stricter policing strategies. Which provides an interesting avenue for further analysis; was there a higher number of searches conducted, arrests made and contraband seized?\n",
        "- There is a general downward trend in the number of frisks performed over the years. However, there have been in the ratio for the years 2013 and 2018.\n",
        "- Even though the frisks performed in 2011 was very high, the ratio of the frisks performed to the stops made was higher than 2010. This could mean that the policy for more focused on increasing traffic stops, and not particularly focused toward increasing the frisks performed.\n",
        "- The backlash to the policing strategies in 2013 seem to have some correlation with the number of frisks conducted as well."
      ]
    },
    {
      "cell_type": "markdown",
      "metadata": {
        "id": "rXTOusUaRvYb"
      },
      "source": [
        "#### *Analysis of Arrests*"
      ]
    },
    {
      "cell_type": "code",
      "execution_count": null,
      "metadata": {
        "colab": {
          "base_uri": "https://localhost:8080/",
          "height": 500
        },
        "id": "w8STTiLlR-pz",
        "outputId": "48bc52f8-dbed-428a-cb4f-529e6f7cc50b"
      },
      "outputs": [
        {
          "name": "stderr",
          "output_type": "stream",
          "text": [
            "/Users/nirvikgill/anaconda3/lib/python3.11/site-packages/altair/utils/core.py:395: FutureWarning: the convert_dtype parameter is deprecated and will be removed in a future version.  Do ``ser.astype(object).apply()`` instead if you want ``convert_dtype=False``.\n",
            "  col = df[col_name].apply(to_list_if_array, convert_dtype=False)\n",
            "/Users/nirvikgill/anaconda3/lib/python3.11/site-packages/altair/utils/core.py:395: FutureWarning: the convert_dtype parameter is deprecated and will be removed in a future version.  Do ``ser.astype(object).apply()`` instead if you want ``convert_dtype=False``.\n",
            "  col = df[col_name].apply(to_list_if_array, convert_dtype=False)\n",
            "/Users/nirvikgill/anaconda3/lib/python3.11/site-packages/altair/utils/core.py:395: FutureWarning: the convert_dtype parameter is deprecated and will be removed in a future version.  Do ``ser.astype(object).apply()`` instead if you want ``convert_dtype=False``.\n",
            "  col = df[col_name].apply(to_list_if_array, convert_dtype=False)\n",
            "/Users/nirvikgill/anaconda3/lib/python3.11/site-packages/altair/utils/core.py:395: FutureWarning: the convert_dtype parameter is deprecated and will be removed in a future version.  Do ``ser.astype(object).apply()`` instead if you want ``convert_dtype=False``.\n",
            "  col = df[col_name].apply(to_list_if_array, convert_dtype=False)\n",
            "/Users/nirvikgill/anaconda3/lib/python3.11/site-packages/altair/utils/core.py:395: FutureWarning: the convert_dtype parameter is deprecated and will be removed in a future version.  Do ``ser.astype(object).apply()`` instead if you want ``convert_dtype=False``.\n",
            "  col = df[col_name].apply(to_list_if_array, convert_dtype=False)\n"
          ]
        },
        {
          "data": {
            "text/html": [
              "\n",
              "<style>\n",
              "  #altair-viz-a4d1a8e3692644c39cd8741c5f0c5136.vega-embed {\n",
              "    width: 100%;\n",
              "    display: flex;\n",
              "  }\n",
              "\n",
              "  #altair-viz-a4d1a8e3692644c39cd8741c5f0c5136.vega-embed details,\n",
              "  #altair-viz-a4d1a8e3692644c39cd8741c5f0c5136.vega-embed details summary {\n",
              "    position: relative;\n",
              "  }\n",
              "</style>\n",
              "<div id=\"altair-viz-a4d1a8e3692644c39cd8741c5f0c5136\"></div>\n",
              "<script type=\"text/javascript\">\n",
              "  var VEGA_DEBUG = (typeof VEGA_DEBUG == \"undefined\") ? {} : VEGA_DEBUG;\n",
              "  (function(spec, embedOpt){\n",
              "    let outputDiv = document.currentScript.previousElementSibling;\n",
              "    if (outputDiv.id !== \"altair-viz-a4d1a8e3692644c39cd8741c5f0c5136\") {\n",
              "      outputDiv = document.getElementById(\"altair-viz-a4d1a8e3692644c39cd8741c5f0c5136\");\n",
              "    }\n",
              "    const paths = {\n",
              "      \"vega\": \"https://cdn.jsdelivr.net/npm/vega@5?noext\",\n",
              "      \"vega-lib\": \"https://cdn.jsdelivr.net/npm/vega-lib?noext\",\n",
              "      \"vega-lite\": \"https://cdn.jsdelivr.net/npm/vega-lite@5.8.0?noext\",\n",
              "      \"vega-embed\": \"https://cdn.jsdelivr.net/npm/vega-embed@6?noext\",\n",
              "    };\n",
              "\n",
              "    function maybeLoadScript(lib, version) {\n",
              "      var key = `${lib.replace(\"-\", \"\")}_version`;\n",
              "      return (VEGA_DEBUG[key] == version) ?\n",
              "        Promise.resolve(paths[lib]) :\n",
              "        new Promise(function(resolve, reject) {\n",
              "          var s = document.createElement('script');\n",
              "          document.getElementsByTagName(\"head\")[0].appendChild(s);\n",
              "          s.async = true;\n",
              "          s.onload = () => {\n",
              "            VEGA_DEBUG[key] = version;\n",
              "            return resolve(paths[lib]);\n",
              "          };\n",
              "          s.onerror = () => reject(`Error loading script: ${paths[lib]}`);\n",
              "          s.src = paths[lib];\n",
              "        });\n",
              "    }\n",
              "\n",
              "    function showError(err) {\n",
              "      outputDiv.innerHTML = `<div class=\"error\" style=\"color:red;\">${err}</div>`;\n",
              "      throw err;\n",
              "    }\n",
              "\n",
              "    function displayChart(vegaEmbed) {\n",
              "      vegaEmbed(outputDiv, spec, embedOpt)\n",
              "        .catch(err => showError(`Javascript Error: ${err.message}<br>This usually means there's a typo in your chart specification. See the javascript console for the full traceback.`));\n",
              "    }\n",
              "\n",
              "    if(typeof define === \"function\" && define.amd) {\n",
              "      requirejs.config({paths});\n",
              "      require([\"vega-embed\"], displayChart, err => showError(`Error loading script: ${err.message}`));\n",
              "    } else {\n",
              "      maybeLoadScript(\"vega\", \"5\")\n",
              "        .then(() => maybeLoadScript(\"vega-lite\", \"5.8.0\"))\n",
              "        .then(() => maybeLoadScript(\"vega-embed\", \"6\"))\n",
              "        .catch(showError)\n",
              "        .then(() => displayChart(vegaEmbed));\n",
              "    }\n",
              "  })({\"config\": {\"view\": {\"continuousWidth\": 300, \"continuousHeight\": 300}}, \"hconcat\": [{\"data\": {\"name\": \"data-00c3c8df46e2e5e1ff75a0748818598e\"}, \"mark\": {\"type\": \"bar\"}, \"encoding\": {\"color\": {\"field\": \"category\", \"scale\": {\"domain\": [\"Total Stops\", \"Arrests Made\"], \"range\": [\"lightgray\", \"firebrick\"]}, \"type\": \"nominal\"}, \"tooltip\": [{\"field\": \"year\", \"type\": \"nominal\"}, {\"field\": \"counts\", \"type\": \"quantitative\"}], \"x\": {\"axis\": {\"title\": \"Year\"}, \"field\": \"year\", \"type\": \"ordinal\"}, \"y\": {\"axis\": {\"title\": \"Counts\"}, \"field\": \"counts\", \"type\": \"quantitative\"}}, \"height\": 400, \"title\": \"Arrests Made Over Years\", \"width\": 500}, {\"layer\": [{\"data\": {\"name\": \"data-2ef9e33ab935f7408970982a428ed240\"}, \"mark\": {\"type\": \"line\", \"color\": \"gray\", \"point\": true}, \"encoding\": {\"tooltip\": [{\"field\": \"year\", \"type\": \"nominal\"}, {\"field\": \"arrest_percentage\", \"type\": \"quantitative\"}], \"x\": {\"axis\": {\"labelAngle\": 0}, \"field\": \"year\", \"title\": \"Year\", \"type\": \"ordinal\"}, \"y\": {\"axis\": {\"title\": \"Arrest Ratio\"}, \"field\": \"arrest_percentage\", \"type\": \"quantitative\"}}, \"title\": \"Arrests to Stop over Years\"}, {\"data\": {\"name\": \"data-170ac72bb7943de610bd807908c0104e\"}, \"mark\": {\"type\": \"rule\", \"color\": \"red\", \"strokeDash\": [5, 5], \"strokeWidth\": 1}, \"encoding\": {\"x\": {\"field\": \"Year\", \"type\": \"ordinal\"}}}], \"height\": 400, \"width\": 500}], \"$schema\": \"https://vega.github.io/schema/vega-lite/v5.8.0.json\", \"datasets\": {\"data-00c3c8df46e2e5e1ff75a0748818598e\": [{\"year\": \"2010\", \"counts\": 310622, \"category\": \"Total Stops\"}, {\"year\": \"2011\", \"counts\": 393248, \"category\": \"Total Stops\"}, {\"year\": \"2012\", \"counts\": 444146, \"category\": \"Total Stops\"}, {\"year\": \"2013\", \"counts\": 412695, \"category\": \"Total Stops\"}, {\"year\": \"2014\", \"counts\": 413114, \"category\": \"Total Stops\"}, {\"year\": \"2015\", \"counts\": 357261, \"category\": \"Total Stops\"}, {\"year\": \"2016\", \"counts\": 297248, \"category\": \"Total Stops\"}, {\"year\": \"2017\", \"counts\": 245565, \"category\": \"Total Stops\"}, {\"year\": \"2018\", \"counts\": 204217, \"category\": \"Total Stops\"}, {\"year\": \"2010\", \"counts\": 6118, \"category\": \"Arrests Made\"}, {\"year\": \"2011\", \"counts\": 6968, \"category\": \"Arrests Made\"}, {\"year\": \"2012\", \"counts\": 6744, \"category\": \"Arrests Made\"}, {\"year\": \"2013\", \"counts\": 5906, \"category\": \"Arrests Made\"}, {\"year\": \"2014\", \"counts\": 6117, \"category\": \"Arrests Made\"}, {\"year\": \"2015\", \"counts\": 5715, \"category\": \"Arrests Made\"}, {\"year\": \"2016\", \"counts\": 4827, \"category\": \"Arrests Made\"}, {\"year\": \"2017\", \"counts\": 3861, \"category\": \"Arrests Made\"}, {\"year\": \"2018\", \"counts\": 3633, \"category\": \"Arrests Made\"}], \"data-2ef9e33ab935f7408970982a428ed240\": [{\"year\": \"2010\", \"counts\": 310622, \"category\": \"Total Stops\", \"arrests_made\": 6118, \"arrest_percentage\": 1.9695964870485672}, {\"year\": \"2011\", \"counts\": 393248, \"category\": \"Total Stops\", \"arrests_made\": 6968, \"arrest_percentage\": 1.7719098380665637}, {\"year\": \"2012\", \"counts\": 444146, \"category\": \"Total Stops\", \"arrests_made\": 6744, \"arrest_percentage\": 1.5184196187740067}, {\"year\": \"2013\", \"counts\": 412695, \"category\": \"Total Stops\", \"arrests_made\": 5906, \"arrest_percentage\": 1.4310810647088044}, {\"year\": \"2014\", \"counts\": 413114, \"category\": \"Total Stops\", \"arrests_made\": 6117, \"arrest_percentage\": 1.4807050838267404}, {\"year\": \"2015\", \"counts\": 357261, \"category\": \"Total Stops\", \"arrests_made\": 5715, \"arrest_percentage\": 1.5996708288898032}, {\"year\": \"2016\", \"counts\": 297248, \"category\": \"Total Stops\", \"arrests_made\": 4827, \"arrest_percentage\": 1.6238965442997093}, {\"year\": \"2017\", \"counts\": 245565, \"category\": \"Total Stops\", \"arrests_made\": 3861, \"arrest_percentage\": 1.5722924683892248}, {\"year\": \"2018\", \"counts\": 204217, \"category\": \"Total Stops\", \"arrests_made\": 3633, \"arrest_percentage\": 1.7789899959356958}], \"data-170ac72bb7943de610bd807908c0104e\": [{\"Year\": \"2013\"}]}}, {\"mode\": \"vega-lite\"});\n",
              "</script>"
            ],
            "text/plain": [
              "alt.HConcatChart(...)"
            ]
          },
          "execution_count": 22,
          "metadata": {},
          "output_type": "execute_result"
        }
      ],
      "source": [
        "drop_null_df['is_arrested'] = drop_null_df['arrest_made'].astype(int)\n",
        "total_stops = drop_null_df.groupby('year').size().reset_index(name='counts')\n",
        "total_stops['category'] = 'Total Stops'\n",
        "\n",
        "arrests_made = drop_null_df.groupby('year')['is_arrested'].sum().reset_index(name='counts')\n",
        "arrests_made['category'] = 'Arrests Made'\n",
        "\n",
        "combined_data = pd.concat([total_stops, arrests_made], ignore_index=True)\n",
        "\n",
        "base = alt.Chart(combined_data).encode(\n",
        "    x=alt.X('year:O', title= 'Year', axis=alt.Axis(labelAngle=0)),\n",
        "    y=alt.Y('counts:Q', axis=alt.Axis(title='Counts')),\n",
        "    color=alt.Color('category:N', scale=alt.Scale(domain=['Total Stops', 'Arrests Made'],\n",
        "                                                  range=['lightgray', 'firebrick'])),\n",
        "    tooltip=['year', 'counts']\n",
        ")\n",
        "\n",
        "bar_chart = base.mark_bar().encode(\n",
        "    x=alt.X('year:O', axis=alt.Axis(title='Year')),\n",
        "    y=alt.Y('counts:Q', axis=alt.Axis(title='Counts'))\n",
        ").properties(\n",
        "    title='Arrests Made Over Years',\n",
        "    width=500,\n",
        "    height=400\n",
        ")\n",
        "\n",
        "\n",
        "ratio_data = total_stops.copy(deep = True)\n",
        "ratio_data['arrests_made'] = arrests_made['counts']\n",
        "ratio_data['arrest_percentage'] = ratio_data['arrests_made'] * 100 / ratio_data['counts']\n",
        "\n",
        "line_chart = alt.Chart(ratio_data).mark_line(point=True, color='gray').encode(\n",
        "    x=alt.X('year:O', title= 'Year', axis=alt.Axis(labelAngle=0)),\n",
        "    y=alt.Y('arrest_percentage:Q', axis=alt.Axis(title='Arrest Ratio')),\n",
        "    tooltip=['year', 'arrest_percentage']\n",
        ").properties(\n",
        "    title = 'Arrests to Stop over Years',\n",
        "    width=500,\n",
        "    height=400\n",
        ")\n",
        "\n",
        "ref_years_df = pd.DataFrame({'Year': ['2013']})\n",
        "\n",
        "ref_lines = alt.Chart(ref_years_df).mark_rule(color='red', strokeWidth=1, strokeDash=[5, 5]).encode(\n",
        "    x='Year:O',\n",
        ").properties(\n",
        "    width=500,\n",
        "    height=400\n",
        ")\n",
        "\n",
        "final_chart = (line_chart + ref_lines).properties(\n",
        "    width=500,\n",
        "    height=400\n",
        ")\n",
        "\n",
        "bar_chart | final_chart\n"
      ]
    },
    {
      "cell_type": "markdown",
      "metadata": {
        "id": "m4NHxzGHgeb3"
      },
      "source": [
        "- This graph shows the number of arrests made have decreased over time, following the trend of the decrease in number of traffic stops over all.\n",
        "- There could be reasons like decrease in street crime leading to this result.\n",
        "\n",
        "The above is a plot of the ratio of the number of traffic stops leading to arrests to the total number of stops made. As we see the ratio decrease through **2013**, indicating that the a **lot of these traffic stops made did not lead to any kind of arrests**. We could see the ratio increase from 2014. Around this time, the traffic stops had reduced. The higher ratio could indicate that the hit rate for arrests were high, implying that the reduce in traffic stops did not impact the arrests made. Another question that pops at this point is what is the nature of these arrests, and if there was any kind of disparity in the arrests made."
      ]
    },
    {
      "cell_type": "markdown",
      "metadata": {
        "id": "x_llRK1tPmdi"
      },
      "source": [
        "#### *Ananlysis of Searches Conducted and Contrabands Seized*"
      ]
    },
    {
      "cell_type": "code",
      "execution_count": null,
      "metadata": {
        "colab": {
          "base_uri": "https://localhost:8080/",
          "height": 487
        },
        "id": "-jM2hmz9jiWp",
        "outputId": "6bf3045d-b371-48fb-ff87-f9e70dd7cdde"
      },
      "outputs": [
        {
          "name": "stderr",
          "output_type": "stream",
          "text": [
            "/Users/nirvikgill/anaconda3/lib/python3.11/site-packages/altair/utils/core.py:395: FutureWarning: the convert_dtype parameter is deprecated and will be removed in a future version.  Do ``ser.astype(object).apply()`` instead if you want ``convert_dtype=False``.\n",
            "  col = df[col_name].apply(to_list_if_array, convert_dtype=False)\n",
            "/Users/nirvikgill/anaconda3/lib/python3.11/site-packages/altair/utils/core.py:395: FutureWarning: the convert_dtype parameter is deprecated and will be removed in a future version.  Do ``ser.astype(object).apply()`` instead if you want ``convert_dtype=False``.\n",
            "  col = df[col_name].apply(to_list_if_array, convert_dtype=False)\n",
            "/Users/nirvikgill/anaconda3/lib/python3.11/site-packages/altair/utils/core.py:395: FutureWarning: the convert_dtype parameter is deprecated and will be removed in a future version.  Do ``ser.astype(object).apply()`` instead if you want ``convert_dtype=False``.\n",
            "  col = df[col_name].apply(to_list_if_array, convert_dtype=False)\n",
            "/Users/nirvikgill/anaconda3/lib/python3.11/site-packages/altair/utils/core.py:395: FutureWarning: the convert_dtype parameter is deprecated and will be removed in a future version.  Do ``ser.astype(object).apply()`` instead if you want ``convert_dtype=False``.\n",
            "  col = df[col_name].apply(to_list_if_array, convert_dtype=False)\n",
            "/Users/nirvikgill/anaconda3/lib/python3.11/site-packages/altair/utils/core.py:395: FutureWarning: the convert_dtype parameter is deprecated and will be removed in a future version.  Do ``ser.astype(object).apply()`` instead if you want ``convert_dtype=False``.\n",
            "  col = df[col_name].apply(to_list_if_array, convert_dtype=False)\n"
          ]
        },
        {
          "data": {
            "text/html": [
              "\n",
              "<style>\n",
              "  #altair-viz-d8ce34645e6e4df0805cc1a2a40a88f4.vega-embed {\n",
              "    width: 100%;\n",
              "    display: flex;\n",
              "  }\n",
              "\n",
              "  #altair-viz-d8ce34645e6e4df0805cc1a2a40a88f4.vega-embed details,\n",
              "  #altair-viz-d8ce34645e6e4df0805cc1a2a40a88f4.vega-embed details summary {\n",
              "    position: relative;\n",
              "  }\n",
              "</style>\n",
              "<div id=\"altair-viz-d8ce34645e6e4df0805cc1a2a40a88f4\"></div>\n",
              "<script type=\"text/javascript\">\n",
              "  var VEGA_DEBUG = (typeof VEGA_DEBUG == \"undefined\") ? {} : VEGA_DEBUG;\n",
              "  (function(spec, embedOpt){\n",
              "    let outputDiv = document.currentScript.previousElementSibling;\n",
              "    if (outputDiv.id !== \"altair-viz-d8ce34645e6e4df0805cc1a2a40a88f4\") {\n",
              "      outputDiv = document.getElementById(\"altair-viz-d8ce34645e6e4df0805cc1a2a40a88f4\");\n",
              "    }\n",
              "    const paths = {\n",
              "      \"vega\": \"https://cdn.jsdelivr.net/npm/vega@5?noext\",\n",
              "      \"vega-lib\": \"https://cdn.jsdelivr.net/npm/vega-lib?noext\",\n",
              "      \"vega-lite\": \"https://cdn.jsdelivr.net/npm/vega-lite@5.8.0?noext\",\n",
              "      \"vega-embed\": \"https://cdn.jsdelivr.net/npm/vega-embed@6?noext\",\n",
              "    };\n",
              "\n",
              "    function maybeLoadScript(lib, version) {\n",
              "      var key = `${lib.replace(\"-\", \"\")}_version`;\n",
              "      return (VEGA_DEBUG[key] == version) ?\n",
              "        Promise.resolve(paths[lib]) :\n",
              "        new Promise(function(resolve, reject) {\n",
              "          var s = document.createElement('script');\n",
              "          document.getElementsByTagName(\"head\")[0].appendChild(s);\n",
              "          s.async = true;\n",
              "          s.onload = () => {\n",
              "            VEGA_DEBUG[key] = version;\n",
              "            return resolve(paths[lib]);\n",
              "          };\n",
              "          s.onerror = () => reject(`Error loading script: ${paths[lib]}`);\n",
              "          s.src = paths[lib];\n",
              "        });\n",
              "    }\n",
              "\n",
              "    function showError(err) {\n",
              "      outputDiv.innerHTML = `<div class=\"error\" style=\"color:red;\">${err}</div>`;\n",
              "      throw err;\n",
              "    }\n",
              "\n",
              "    function displayChart(vegaEmbed) {\n",
              "      vegaEmbed(outputDiv, spec, embedOpt)\n",
              "        .catch(err => showError(`Javascript Error: ${err.message}<br>This usually means there's a typo in your chart specification. See the javascript console for the full traceback.`));\n",
              "    }\n",
              "\n",
              "    if(typeof define === \"function\" && define.amd) {\n",
              "      requirejs.config({paths});\n",
              "      require([\"vega-embed\"], displayChart, err => showError(`Error loading script: ${err.message}`));\n",
              "    } else {\n",
              "      maybeLoadScript(\"vega\", \"5\")\n",
              "        .then(() => maybeLoadScript(\"vega-lite\", \"5.8.0\"))\n",
              "        .then(() => maybeLoadScript(\"vega-embed\", \"6\"))\n",
              "        .catch(showError)\n",
              "        .then(() => displayChart(vegaEmbed));\n",
              "    }\n",
              "  })({\"config\": {\"view\": {\"continuousWidth\": 300, \"continuousHeight\": 300}}, \"hconcat\": [{\"data\": {\"name\": \"data-706d77b7ef276ca858ca7b078a3748dd\"}, \"mark\": {\"type\": \"bar\"}, \"encoding\": {\"color\": {\"condition\": {\"test\": \"(datum.year === '2012')\", \"value\": \"#f88\"}, \"value\": \"lightgray\"}, \"x\": {\"axis\": {\"labelAngle\": 0}, \"field\": \"year\", \"title\": \"Year\", \"type\": \"ordinal\"}, \"y\": {\"axis\": {\"title\": \"Number of Searches Conducted\"}, \"field\": \"counts\", \"type\": \"quantitative\"}}, \"height\": 400, \"title\": \"Searches Conducted per Year\", \"width\": 500}, {\"layer\": [{\"data\": {\"name\": \"data-a7a863b6852d151c0c4adcfe2a34a6c5\"}, \"mark\": {\"type\": \"line\", \"color\": \"gray\", \"point\": true}, \"encoding\": {\"x\": {\"axis\": {\"labelAngle\": 0}, \"field\": \"year\", \"title\": \"Year\", \"type\": \"ordinal\"}, \"y\": {\"axis\": {\"title\": \"Search Percentage\"}, \"field\": \"percentage\", \"type\": \"quantitative\"}}, \"title\": \"Percentage of Searches Conducted over Years\"}, {\"data\": {\"name\": \"data-43957ff1e715a980ad0a2ef3479b9cc3\"}, \"mark\": {\"type\": \"rule\", \"color\": \"red\", \"strokeDash\": [5, 5], \"strokeWidth\": 1}, \"encoding\": {\"x\": {\"field\": \"Year\", \"type\": \"ordinal\"}}}], \"height\": 400, \"width\": 500}], \"$schema\": \"https://vega.github.io/schema/vega-lite/v5.8.0.json\", \"datasets\": {\"data-706d77b7ef276ca858ca7b078a3748dd\": [{\"year\": \"2010\", \"counts\": 14732, \"category\": \"Search Conducted\"}, {\"year\": \"2011\", \"counts\": 17407, \"category\": \"Search Conducted\"}, {\"year\": \"2012\", \"counts\": 18071, \"category\": \"Search Conducted\"}, {\"year\": \"2013\", \"counts\": 17159, \"category\": \"Search Conducted\"}, {\"year\": \"2014\", \"counts\": 16699, \"category\": \"Search Conducted\"}, {\"year\": \"2015\", \"counts\": 13869, \"category\": \"Search Conducted\"}, {\"year\": \"2016\", \"counts\": 11728, \"category\": \"Search Conducted\"}, {\"year\": \"2017\", \"counts\": 9200, \"category\": \"Search Conducted\"}, {\"year\": \"2018\", \"counts\": 8257, \"category\": \"Search Conducted\"}], \"data-a7a863b6852d151c0c4adcfe2a34a6c5\": [{\"year\": \"2010\", \"counts\": 14732, \"category\": \"Search Conducted\", \"total_counts\": 310622, \"percentage\": 4.7427419822163275}, {\"year\": \"2011\", \"counts\": 17407, \"category\": \"Search Conducted\", \"total_counts\": 393248, \"percentage\": 4.426468793229717}, {\"year\": \"2012\", \"counts\": 18071, \"category\": \"Search Conducted\", \"total_counts\": 444146, \"percentage\": 4.06870713684239}, {\"year\": \"2013\", \"counts\": 17159, \"category\": \"Search Conducted\", \"total_counts\": 412695, \"percentage\": 4.157792074049843}, {\"year\": \"2014\", \"counts\": 16699, \"category\": \"Search Conducted\", \"total_counts\": 413114, \"percentage\": 4.042225632634091}, {\"year\": \"2015\", \"counts\": 13869, \"category\": \"Search Conducted\", \"total_counts\": 357261, \"percentage\": 3.8820358225499003}, {\"year\": \"2016\", \"counts\": 11728, \"category\": \"Search Conducted\", \"total_counts\": 297248, \"percentage\": 3.945526967380773}, {\"year\": \"2017\", \"counts\": 9200, \"category\": \"Search Conducted\", \"total_counts\": 245565, \"percentage\": 3.7464622401400853}, {\"year\": \"2018\", \"counts\": 8257, \"category\": \"Search Conducted\", \"total_counts\": 204217, \"percentage\": 4.043248113526298}], \"data-43957ff1e715a980ad0a2ef3479b9cc3\": [{\"Year\": \"2012\"}]}}, {\"mode\": \"vega-lite\"});\n",
              "</script>"
            ],
            "text/plain": [
              "alt.HConcatChart(...)"
            ]
          },
          "execution_count": 23,
          "metadata": {},
          "output_type": "execute_result"
        }
      ],
      "source": [
        "drop_null_df['is_search_conducted'] = drop_null_df['search_conducted'].astype(int)\n",
        "\n",
        "seaches_made = drop_null_df.groupby('year')['is_search_conducted'].sum().reset_index(name='counts')\n",
        "seaches_made['category'] = 'Search Conducted'\n",
        "\n",
        "bar_chart = alt.Chart(seaches_made).mark_bar().encode(\n",
        "    x=alt.X('year:O', title= 'Year', axis=alt.Axis(labelAngle=0)),\n",
        "    y=alt.Y('counts:Q', axis=alt.Axis(title='Number of Searches Conducted')),\n",
        "    color=alt.condition(\n",
        "        alt.datum.year == '2012',\n",
        "        alt.value('#f88'),\n",
        "        alt.value('lightgray')\n",
        "    ),\n",
        ").properties(\n",
        "    title = 'Searches Conducted per Year',\n",
        "    width=500,\n",
        "    height=400\n",
        ")\n",
        "\n",
        "total_stops = drop_null_df.groupby('year').size().reset_index(name='total_counts')\n",
        "ratio_data = seaches_made.copy(deep = True)\n",
        "ratio_data['total_counts'] = total_stops['total_counts']\n",
        "ratio_data['percentage'] = ratio_data['counts']*100 / ratio_data['total_counts']\n",
        "\n",
        "line_chart = alt.Chart(ratio_data).mark_line(point=True, color = 'gray').encode(\n",
        "    x=alt.X('year:O', title= 'Year', axis=alt.Axis(labelAngle=0)),\n",
        "    y=alt.Y('percentage:Q', axis=alt.Axis(title='Search Percentage'))\n",
        ").properties(\n",
        "    title = 'Percentage of Searches Conducted over Years',\n",
        "    width=500,\n",
        "    height=400\n",
        ")\n",
        "\n",
        "ref_years_df = pd.DataFrame({'Year': ['2012']})\n",
        "\n",
        "ref_lines = alt.Chart(ref_years_df).mark_rule(color='red', strokeWidth=1, strokeDash=[5, 5]).encode(\n",
        "    x='Year:O',\n",
        ").properties(\n",
        "    width=500,\n",
        "    height=400\n",
        ")\n",
        "\n",
        "final_chart = (line_chart + ref_lines).properties(\n",
        "    width=500,\n",
        "    height=400\n",
        ")\n",
        "\n",
        "bar_chart | final_chart"
      ]
    },
    {
      "cell_type": "code",
      "execution_count": null,
      "metadata": {
        "colab": {
          "base_uri": "https://localhost:8080/",
          "height": 487
        },
        "id": "qclTsqwDJAL5",
        "outputId": "a3113798-df90-415c-d853-b1f1194268bf"
      },
      "outputs": [
        {
          "name": "stderr",
          "output_type": "stream",
          "text": [
            "/Users/nirvikgill/anaconda3/lib/python3.11/site-packages/altair/utils/core.py:395: FutureWarning: the convert_dtype parameter is deprecated and will be removed in a future version.  Do ``ser.astype(object).apply()`` instead if you want ``convert_dtype=False``.\n",
            "  col = df[col_name].apply(to_list_if_array, convert_dtype=False)\n",
            "/Users/nirvikgill/anaconda3/lib/python3.11/site-packages/altair/utils/core.py:395: FutureWarning: the convert_dtype parameter is deprecated and will be removed in a future version.  Do ``ser.astype(object).apply()`` instead if you want ``convert_dtype=False``.\n",
            "  col = df[col_name].apply(to_list_if_array, convert_dtype=False)\n",
            "/Users/nirvikgill/anaconda3/lib/python3.11/site-packages/altair/utils/core.py:395: FutureWarning: the convert_dtype parameter is deprecated and will be removed in a future version.  Do ``ser.astype(object).apply()`` instead if you want ``convert_dtype=False``.\n",
            "  col = df[col_name].apply(to_list_if_array, convert_dtype=False)\n",
            "/Users/nirvikgill/anaconda3/lib/python3.11/site-packages/altair/utils/core.py:395: FutureWarning: the convert_dtype parameter is deprecated and will be removed in a future version.  Do ``ser.astype(object).apply()`` instead if you want ``convert_dtype=False``.\n",
            "  col = df[col_name].apply(to_list_if_array, convert_dtype=False)\n",
            "/Users/nirvikgill/anaconda3/lib/python3.11/site-packages/altair/utils/core.py:395: FutureWarning: the convert_dtype parameter is deprecated and will be removed in a future version.  Do ``ser.astype(object).apply()`` instead if you want ``convert_dtype=False``.\n",
            "  col = df[col_name].apply(to_list_if_array, convert_dtype=False)\n"
          ]
        },
        {
          "data": {
            "text/html": [
              "\n",
              "<style>\n",
              "  #altair-viz-3e1da5334ee3442dbce89958b6fd894b.vega-embed {\n",
              "    width: 100%;\n",
              "    display: flex;\n",
              "  }\n",
              "\n",
              "  #altair-viz-3e1da5334ee3442dbce89958b6fd894b.vega-embed details,\n",
              "  #altair-viz-3e1da5334ee3442dbce89958b6fd894b.vega-embed details summary {\n",
              "    position: relative;\n",
              "  }\n",
              "</style>\n",
              "<div id=\"altair-viz-3e1da5334ee3442dbce89958b6fd894b\"></div>\n",
              "<script type=\"text/javascript\">\n",
              "  var VEGA_DEBUG = (typeof VEGA_DEBUG == \"undefined\") ? {} : VEGA_DEBUG;\n",
              "  (function(spec, embedOpt){\n",
              "    let outputDiv = document.currentScript.previousElementSibling;\n",
              "    if (outputDiv.id !== \"altair-viz-3e1da5334ee3442dbce89958b6fd894b\") {\n",
              "      outputDiv = document.getElementById(\"altair-viz-3e1da5334ee3442dbce89958b6fd894b\");\n",
              "    }\n",
              "    const paths = {\n",
              "      \"vega\": \"https://cdn.jsdelivr.net/npm/vega@5?noext\",\n",
              "      \"vega-lib\": \"https://cdn.jsdelivr.net/npm/vega-lib?noext\",\n",
              "      \"vega-lite\": \"https://cdn.jsdelivr.net/npm/vega-lite@5.8.0?noext\",\n",
              "      \"vega-embed\": \"https://cdn.jsdelivr.net/npm/vega-embed@6?noext\",\n",
              "    };\n",
              "\n",
              "    function maybeLoadScript(lib, version) {\n",
              "      var key = `${lib.replace(\"-\", \"\")}_version`;\n",
              "      return (VEGA_DEBUG[key] == version) ?\n",
              "        Promise.resolve(paths[lib]) :\n",
              "        new Promise(function(resolve, reject) {\n",
              "          var s = document.createElement('script');\n",
              "          document.getElementsByTagName(\"head\")[0].appendChild(s);\n",
              "          s.async = true;\n",
              "          s.onload = () => {\n",
              "            VEGA_DEBUG[key] = version;\n",
              "            return resolve(paths[lib]);\n",
              "          };\n",
              "          s.onerror = () => reject(`Error loading script: ${paths[lib]}`);\n",
              "          s.src = paths[lib];\n",
              "        });\n",
              "    }\n",
              "\n",
              "    function showError(err) {\n",
              "      outputDiv.innerHTML = `<div class=\"error\" style=\"color:red;\">${err}</div>`;\n",
              "      throw err;\n",
              "    }\n",
              "\n",
              "    function displayChart(vegaEmbed) {\n",
              "      vegaEmbed(outputDiv, spec, embedOpt)\n",
              "        .catch(err => showError(`Javascript Error: ${err.message}<br>This usually means there's a typo in your chart specification. See the javascript console for the full traceback.`));\n",
              "    }\n",
              "\n",
              "    if(typeof define === \"function\" && define.amd) {\n",
              "      requirejs.config({paths});\n",
              "      require([\"vega-embed\"], displayChart, err => showError(`Error loading script: ${err.message}`));\n",
              "    } else {\n",
              "      maybeLoadScript(\"vega\", \"5\")\n",
              "        .then(() => maybeLoadScript(\"vega-lite\", \"5.8.0\"))\n",
              "        .then(() => maybeLoadScript(\"vega-embed\", \"6\"))\n",
              "        .catch(showError)\n",
              "        .then(() => displayChart(vegaEmbed));\n",
              "    }\n",
              "  })({\"config\": {\"view\": {\"continuousWidth\": 300, \"continuousHeight\": 300}}, \"hconcat\": [{\"data\": {\"name\": \"data-f646b4d26d0fd88c92b53b692b197e3b\"}, \"mark\": {\"type\": \"bar\", \"color\": \"darkgray\"}, \"encoding\": {\"color\": {\"condition\": {\"test\": \"(datum.year === '2013')\", \"value\": \"#f88\"}, \"value\": \"lightgray\"}, \"tooltip\": [{\"field\": \"year\", \"type\": \"nominal\"}, {\"field\": \"counts\", \"type\": \"quantitative\"}], \"x\": {\"axis\": {\"labelAngle\": 0}, \"field\": \"year\", \"title\": \"Year\", \"type\": \"ordinal\"}, \"y\": {\"axis\": {\"title\": \"Contraband Found (in Units)\"}, \"field\": \"counts\", \"type\": \"quantitative\"}}, \"height\": 400, \"title\": \"Contraband Seized  over Years\", \"width\": 500}, {\"layer\": [{\"data\": {\"name\": \"data-4a86899e19c1760478515a67ef94d8e4\"}, \"mark\": {\"type\": \"line\", \"color\": \"gray\", \"point\": true}, \"encoding\": {\"tooltip\": [{\"field\": \"year\", \"type\": \"nominal\"}, {\"field\": \"contraband_hit_rate\", \"type\": \"quantitative\"}], \"x\": {\"axis\": {\"labelAngle\": 0}, \"field\": \"year\", \"title\": \"Year\", \"type\": \"ordinal\"}, \"y\": {\"axis\": {\"title\": \"Contraband Hit Rate\"}, \"field\": \"contraband_hit_rate\", \"type\": \"quantitative\"}}, \"title\": \"Contraband Hit Rate over Time\"}, {\"data\": {\"name\": \"data-170ac72bb7943de610bd807908c0104e\"}, \"mark\": {\"type\": \"rule\", \"color\": \"red\", \"strokeDash\": [5, 5], \"strokeWidth\": 1}, \"encoding\": {\"x\": {\"field\": \"Year\", \"type\": \"ordinal\"}}}], \"height\": 400, \"width\": 500}], \"$schema\": \"https://vega.github.io/schema/vega-lite/v5.8.0.json\", \"datasets\": {\"data-f646b4d26d0fd88c92b53b692b197e3b\": [{\"year\": \"2010\", \"counts\": 2382, \"category\": \"Contraband Found\"}, {\"year\": \"2011\", \"counts\": 2959, \"category\": \"Contraband Found\"}, {\"year\": \"2012\", \"counts\": 3353, \"category\": \"Contraband Found\"}, {\"year\": \"2013\", \"counts\": 3501, \"category\": \"Contraband Found\"}, {\"year\": \"2014\", \"counts\": 3350, \"category\": \"Contraband Found\"}, {\"year\": \"2015\", \"counts\": 3141, \"category\": \"Contraband Found\"}, {\"year\": \"2016\", \"counts\": 2787, \"category\": \"Contraband Found\"}, {\"year\": \"2017\", \"counts\": 2335, \"category\": \"Contraband Found\"}, {\"year\": \"2018\", \"counts\": 2289, \"category\": \"Contraband Found\"}], \"data-4a86899e19c1760478515a67ef94d8e4\": [{\"year\": \"2010\", \"counts\": 2382, \"category\": \"Contraband Found\", \"total_counts\": 14732, \"contraband_hit_rate\": 16.168884061906056}, {\"year\": \"2011\", \"counts\": 2959, \"category\": \"Contraband Found\", \"total_counts\": 17407, \"contraband_hit_rate\": 16.998908485092205}, {\"year\": \"2012\", \"counts\": 3353, \"category\": \"Contraband Found\", \"total_counts\": 18071, \"contraband_hit_rate\": 18.554590227436226}, {\"year\": \"2013\", \"counts\": 3501, \"category\": \"Contraband Found\", \"total_counts\": 17159, \"contraband_hit_rate\": 20.403286904831283}, {\"year\": \"2014\", \"counts\": 3350, \"category\": \"Contraband Found\", \"total_counts\": 16699, \"contraband_hit_rate\": 20.061081501886342}, {\"year\": \"2015\", \"counts\": 3141, \"category\": \"Contraband Found\", \"total_counts\": 13869, \"contraband_hit_rate\": 22.647631408176508}, {\"year\": \"2016\", \"counts\": 2787, \"category\": \"Contraband Found\", \"total_counts\": 11728, \"contraband_hit_rate\": 23.763642564802183}, {\"year\": \"2017\", \"counts\": 2335, \"category\": \"Contraband Found\", \"total_counts\": 9200, \"contraband_hit_rate\": 25.380434782608695}, {\"year\": \"2018\", \"counts\": 2289, \"category\": \"Contraband Found\", \"total_counts\": 8257, \"contraband_hit_rate\": 27.72193290541359}], \"data-170ac72bb7943de610bd807908c0104e\": [{\"Year\": \"2013\"}]}}, {\"mode\": \"vega-lite\"});\n",
              "</script>"
            ],
            "text/plain": [
              "alt.HConcatChart(...)"
            ]
          },
          "execution_count": 24,
          "metadata": {},
          "output_type": "execute_result"
        }
      ],
      "source": [
        "drop_null_df['is_contraband_found'] = drop_null_df['contraband_found'].astype(int)\n",
        "\n",
        "contraband_found = drop_null_df.groupby('year')['is_contraband_found'].sum().reset_index(name='counts')\n",
        "contraband_found['category'] = 'Contraband Found'\n",
        "\n",
        "bar_chart = alt.Chart(contraband_found).mark_bar(color = 'darkgray').encode(\n",
        "    x=alt.X('year:O', title= 'Year', axis=alt.Axis(labelAngle=0)),\n",
        "    y=alt.Y('counts:Q', axis=alt.Axis(title='Contraband Found (in Units)')),\n",
        "    color=alt.condition(\n",
        "        alt.datum.year == '2013',\n",
        "        alt.value('#f88'),\n",
        "        alt.value('lightgray')\n",
        "    ),\n",
        "    tooltip=['year', 'counts']\n",
        ").properties(\n",
        "    title = 'Contraband Seized  over Years',\n",
        "    width=500,\n",
        "    height=400\n",
        ")\n",
        "\n",
        "seaches_made = drop_null_df.groupby('year')['is_search_conducted'].sum().reset_index(name='total_counts')\n",
        "ratio_data = contraband_found.copy(deep = True)\n",
        "ratio_data['total_counts'] = seaches_made['total_counts']\n",
        "ratio_data['contraband_hit_rate'] = ratio_data['counts']*100 / ratio_data['total_counts']\n",
        "\n",
        "line_chart = alt.Chart(ratio_data).mark_line(point=True, color = 'gray').encode(\n",
        "    x=alt.X('year:O', title= 'Year', axis=alt.Axis(labelAngle=0)),\n",
        "    y=alt.Y('contraband_hit_rate:Q', axis=alt.Axis(title='Contraband Hit Rate')),\n",
        "    tooltip=['year', 'contraband_hit_rate']\n",
        ").properties(\n",
        "    title = 'Contraband Hit Rate over Time',\n",
        "    width=500,\n",
        "    height=400\n",
        ")\n",
        "\n",
        "ref_years_df = pd.DataFrame({'Year': ['2013']})\n",
        "\n",
        "ref_lines = alt.Chart(ref_years_df).mark_rule(color='red', strokeWidth=1, strokeDash=[5, 5]).encode(\n",
        "    x='Year:O',\n",
        ").properties(\n",
        "    width=500,\n",
        "    height=400\n",
        ")\n",
        "\n",
        "final_chart = (line_chart + ref_lines).properties(\n",
        "    width=500,\n",
        "    height=400\n",
        ")\n",
        "\n",
        "bar_chart | final_chart"
      ]
    },
    {
      "cell_type": "markdown",
      "metadata": {
        "id": "vqA_1zcgh9dL"
      },
      "source": [
        "**Similar to the trend for the arrests ratio, we can observe the contraband hit rate for searches conducted over the years has been increasing, indicating that the decrease in traffic stops does not seems to have affected the contraband seach and seizes. In fact, the contraband hit rate has been steadily increasing over the years.**"
      ]
    },
    {
      "cell_type": "code",
      "execution_count": null,
      "metadata": {
        "colab": {
          "base_uri": "https://localhost:8080/",
          "height": 433
        },
        "id": "ysQXovUehH93",
        "outputId": "20e24a56-2489-4fe8-d250-0808747984d5"
      },
      "outputs": [
        {
          "name": "stderr",
          "output_type": "stream",
          "text": [
            "/Users/nirvikgill/anaconda3/lib/python3.11/site-packages/altair/utils/core.py:395: FutureWarning: the convert_dtype parameter is deprecated and will be removed in a future version.  Do ``ser.astype(object).apply()`` instead if you want ``convert_dtype=False``.\n",
            "  col = df[col_name].apply(to_list_if_array, convert_dtype=False)\n",
            "/Users/nirvikgill/anaconda3/lib/python3.11/site-packages/altair/utils/core.py:395: FutureWarning: the convert_dtype parameter is deprecated and will be removed in a future version.  Do ``ser.astype(object).apply()`` instead if you want ``convert_dtype=False``.\n",
            "  col = df[col_name].apply(to_list_if_array, convert_dtype=False)\n"
          ]
        },
        {
          "data": {
            "text/html": [
              "\n",
              "<style>\n",
              "  #altair-viz-92f1556f921c43cd95f5b518cf0e60eb.vega-embed {\n",
              "    width: 100%;\n",
              "    display: flex;\n",
              "  }\n",
              "\n",
              "  #altair-viz-92f1556f921c43cd95f5b518cf0e60eb.vega-embed details,\n",
              "  #altair-viz-92f1556f921c43cd95f5b518cf0e60eb.vega-embed details summary {\n",
              "    position: relative;\n",
              "  }\n",
              "</style>\n",
              "<div id=\"altair-viz-92f1556f921c43cd95f5b518cf0e60eb\"></div>\n",
              "<script type=\"text/javascript\">\n",
              "  var VEGA_DEBUG = (typeof VEGA_DEBUG == \"undefined\") ? {} : VEGA_DEBUG;\n",
              "  (function(spec, embedOpt){\n",
              "    let outputDiv = document.currentScript.previousElementSibling;\n",
              "    if (outputDiv.id !== \"altair-viz-92f1556f921c43cd95f5b518cf0e60eb\") {\n",
              "      outputDiv = document.getElementById(\"altair-viz-92f1556f921c43cd95f5b518cf0e60eb\");\n",
              "    }\n",
              "    const paths = {\n",
              "      \"vega\": \"https://cdn.jsdelivr.net/npm/vega@5?noext\",\n",
              "      \"vega-lib\": \"https://cdn.jsdelivr.net/npm/vega-lib?noext\",\n",
              "      \"vega-lite\": \"https://cdn.jsdelivr.net/npm/vega-lite@5.8.0?noext\",\n",
              "      \"vega-embed\": \"https://cdn.jsdelivr.net/npm/vega-embed@6?noext\",\n",
              "    };\n",
              "\n",
              "    function maybeLoadScript(lib, version) {\n",
              "      var key = `${lib.replace(\"-\", \"\")}_version`;\n",
              "      return (VEGA_DEBUG[key] == version) ?\n",
              "        Promise.resolve(paths[lib]) :\n",
              "        new Promise(function(resolve, reject) {\n",
              "          var s = document.createElement('script');\n",
              "          document.getElementsByTagName(\"head\")[0].appendChild(s);\n",
              "          s.async = true;\n",
              "          s.onload = () => {\n",
              "            VEGA_DEBUG[key] = version;\n",
              "            return resolve(paths[lib]);\n",
              "          };\n",
              "          s.onerror = () => reject(`Error loading script: ${paths[lib]}`);\n",
              "          s.src = paths[lib];\n",
              "        });\n",
              "    }\n",
              "\n",
              "    function showError(err) {\n",
              "      outputDiv.innerHTML = `<div class=\"error\" style=\"color:red;\">${err}</div>`;\n",
              "      throw err;\n",
              "    }\n",
              "\n",
              "    function displayChart(vegaEmbed) {\n",
              "      vegaEmbed(outputDiv, spec, embedOpt)\n",
              "        .catch(err => showError(`Javascript Error: ${err.message}<br>This usually means there's a typo in your chart specification. See the javascript console for the full traceback.`));\n",
              "    }\n",
              "\n",
              "    if(typeof define === \"function\" && define.amd) {\n",
              "      requirejs.config({paths});\n",
              "      require([\"vega-embed\"], displayChart, err => showError(`Error loading script: ${err.message}`));\n",
              "    } else {\n",
              "      maybeLoadScript(\"vega\", \"5\")\n",
              "        .then(() => maybeLoadScript(\"vega-lite\", \"5.8.0\"))\n",
              "        .then(() => maybeLoadScript(\"vega-embed\", \"6\"))\n",
              "        .catch(showError)\n",
              "        .then(() => displayChart(vegaEmbed));\n",
              "    }\n",
              "  })({\"config\": {\"view\": {\"continuousWidth\": 300, \"continuousHeight\": 300}}, \"data\": {\"name\": \"data-cee8ec54b8bb95785578806036c7b4a1\"}, \"mark\": {\"type\": \"bar\"}, \"encoding\": {\"color\": {\"field\": \"category\", \"legend\": {\"title\": \"Category\"}, \"scale\": {\"domain\": [\"Contraband Drugs\", \"Contraband Weapons\"], \"range\": [\"steelblue\", \"firebrick\"]}, \"type\": \"nominal\"}, \"column\": {\"field\": \"category\", \"header\": {\"title\": \"Category\"}, \"type\": \"nominal\"}, \"tooltip\": [{\"field\": \"year\", \"type\": \"nominal\"}, {\"field\": \"category\", \"type\": \"nominal\"}, {\"field\": \"counts\", \"type\": \"quantitative\"}], \"x\": {\"axis\": {\"labelAngle\": 0}, \"field\": \"year\", \"sort\": {\"field\": \"year\", \"order\": \"ascending\"}, \"title\": \"Year\", \"type\": \"nominal\"}, \"y\": {\"axis\": {\"title\": \"Counts\"}, \"field\": \"counts\", \"type\": \"quantitative\"}}, \"title\": \"Annual Contraband (Drugs vs Weapons) Found\", \"width\": 500, \"$schema\": \"https://vega.github.io/schema/vega-lite/v5.8.0.json\", \"datasets\": {\"data-cee8ec54b8bb95785578806036c7b4a1\": [{\"year\": \"2010\", \"counts\": 1849, \"category\": \"Contraband Drugs\"}, {\"year\": \"2011\", \"counts\": 2301, \"category\": \"Contraband Drugs\"}, {\"year\": \"2012\", \"counts\": 2668, \"category\": \"Contraband Drugs\"}, {\"year\": \"2013\", \"counts\": 2894, \"category\": \"Contraband Drugs\"}, {\"year\": \"2014\", \"counts\": 2769, \"category\": \"Contraband Drugs\"}, {\"year\": \"2015\", \"counts\": 2636, \"category\": \"Contraband Drugs\"}, {\"year\": \"2016\", \"counts\": 2357, \"category\": \"Contraband Drugs\"}, {\"year\": \"2017\", \"counts\": 1920, \"category\": \"Contraband Drugs\"}, {\"year\": \"2018\", \"counts\": 1865, \"category\": \"Contraband Drugs\"}, {\"year\": \"2010\", \"counts\": 205, \"category\": \"Contraband Weapons\"}, {\"year\": \"2011\", \"counts\": 258, \"category\": \"Contraband Weapons\"}, {\"year\": \"2012\", \"counts\": 241, \"category\": \"Contraband Weapons\"}, {\"year\": \"2013\", \"counts\": 247, \"category\": \"Contraband Weapons\"}, {\"year\": \"2014\", \"counts\": 220, \"category\": \"Contraband Weapons\"}, {\"year\": \"2015\", \"counts\": 227, \"category\": \"Contraband Weapons\"}, {\"year\": \"2016\", \"counts\": 209, \"category\": \"Contraband Weapons\"}, {\"year\": \"2017\", \"counts\": 41, \"category\": \"Contraband Weapons\"}, {\"year\": \"2018\", \"counts\": 39, \"category\": \"Contraband Weapons\"}]}}, {\"mode\": \"vega-lite\"});\n",
              "</script>"
            ],
            "text/plain": [
              "alt.Chart(...)"
            ]
          },
          "execution_count": 25,
          "metadata": {},
          "output_type": "execute_result"
        }
      ],
      "source": [
        "# Convert 'contraband_drugs' and 'contraband_weapons' from categorical (True/False) to integers (1/0) for aggregation\n",
        "drop_null_df['is_contraband_drugs'] = drop_null_df['contraband_drugs'].astype(int)\n",
        "drop_null_df['is_contraband_weapons'] = drop_null_df['contraband_weapons'].astype(int)\n",
        "\n",
        "# Aggregate data for each category by year\n",
        "annual_contraband_drugs = drop_null_df.groupby('year')['is_contraband_drugs'].sum().reset_index(name='counts')\n",
        "annual_contraband_drugs['category'] = 'Contraband Drugs'\n",
        "\n",
        "annual_contraband_weapons = drop_null_df.groupby('year')['is_contraband_weapons'].sum().reset_index(name='counts')\n",
        "annual_contraband_weapons['category'] = 'Contraband Weapons'\n",
        "\n",
        "# Combine the data for visualization\n",
        "combined_contraband_data = pd.concat([annual_contraband_drugs, annual_contraband_weapons], ignore_index=True)\n",
        "\n",
        "# Create a side-by-side bar chart for \"Contraband Drugs\" and \"Contraband Weapons\" across years\n",
        "side_by_side_bar_chart = alt.Chart(combined_contraband_data).mark_bar().encode(\n",
        "    # Adjust the x encoding to display categories side by side within each year\n",
        "    x=alt.X('year:N', title='Year', axis=alt.Axis(labelAngle=0), sort=alt.EncodingSortField(field=\"year\", order=\"ascending\")),\n",
        "    y=alt.Y('counts:Q', axis=alt.Axis(title='Counts')),\n",
        "    color=alt.Color('category:N', legend=alt.Legend(title='Category'),\n",
        "                    scale=alt.Scale(domain=['Contraband Drugs', 'Contraband Weapons'], range=['steelblue', 'firebrick'])),\n",
        "    column=alt.Column('category:N', header=alt.Header(title='Category')),  # This should be removed for true side-by-side bars within each year\n",
        "    tooltip=['year', 'category', 'counts']\n",
        ").properties(\n",
        "    title='Annual Contraband (Drugs vs Weapons) Found',\n",
        "    width=500  # Narrower bars for clarity\n",
        ")\n",
        "\n",
        "side_by_side_bar_chart\n",
        "\n"
      ]
    },
    {
      "cell_type": "markdown",
      "metadata": {
        "id": "xfyNk5a7isS4"
      },
      "source": [
        "Based on the contraband hit rate, we were curious to see the if there were any patterns in the types of contraband seized. As expected, drugs seized is much higher that weapons seized. It can be noticed that there was a high amount of contraband (drugs and weapons) seized in the year 2013, the same year the police faced backlash over the trafic stop policies. There is also a sudden drop in the number of contraband weapons found in the year 2017. Analysis in that direction along with additional information, could result in insights with high value proposition for future policies."
      ]
    },
    {
      "cell_type": "markdown",
      "metadata": {
        "id": "jmm4Ofscsby4"
      },
      "source": [
        "\n",
        "\n",
        "---\n",
        "\n"
      ]
    },
    {
      "cell_type": "markdown",
      "metadata": {
        "id": "NfZYkgb0YmVR",
        "jp-MarkdownHeadingCollapsed": true
      },
      "source": [
        "### **Part 2. Analysis of Racial Disparity in Trafic Stops in Nashville**"
      ]
    },
    {
      "cell_type": "markdown",
      "metadata": {
        "id": "cRBwDdm4qKIu"
      },
      "source": [
        "\n",
        "**Question**: The aim of this analysis is to examine various metrics to identify racial disparities among different racial groups. This is motivated by numerous instances of complaints about racial discrimination, including a bill proposed in 2016 to end racial profiling by the Nashville Police Department. Therefore, we will use 2016 as a reference point for parts of our analysis.\n",
        "\n",
        "**Background**\n",
        "\n",
        "https://www.tennessean.com/story/insession/2014/12/11/bill-aims-to-end-racial-profiling-by-police-in-tennessee/20241841/\n",
        "\n",
        "The racial profiling bill from the above article was instituted in 2016.\n",
        "\n",
        "**Method**: We will be studying the effect of this law on the racial disparities on policing stops by looking at the following metrics:\n",
        "\n",
        "- **Search Rate**: The search rate is defined as the ratio of the number of stops searched by the number of people stopped (Done By Race)\n",
        "- **Contraband Hit Rate**: This metric measures the ration of the number of stops where contraband was found by the number of stops (Done By Race)\n",
        "- **Analysis of stops**: We will also be looking at the trending data to see why were different races stopped by the police in the first place\n",
        "\n",
        "**Hypothesis**: We anticipate that the due to the backlash on the racial profiling law will result in a more balanced distribution of these metrics across racial groups."
      ]
    },
    {
      "cell_type": "markdown",
      "metadata": {
        "id": "13NBRd5Hk-Af"
      },
      "source": [
        "#### *Analysing the trend of Search rate*\n",
        "**Search Rate** = Number of Searches Conducted / Number of Stops\n",
        "This graph is by **Race** so that we can see what proportion of individuals of a race are being search after being stopped"
      ]
    },
    {
      "cell_type": "code",
      "execution_count": null,
      "metadata": {
        "id": "XY9HQHUdGFyY"
      },
      "outputs": [],
      "source": [
        "df2 = df2[df2['year'] != 'unknown']\n",
        "df2['year'] = df2.loc[:,'year'].astype(int)"
      ]
    },
    {
      "cell_type": "code",
      "execution_count": null,
      "metadata": {
        "id": "St8Fl23QGFyY",
        "outputId": "64644a6b-ca75-4642-8577-7658d03cc87e"
      },
      "outputs": [
        {
          "name": "stderr",
          "output_type": "stream",
          "text": [
            "/var/folders/76/0bx0hwcx2cjcbnlskzx9lvhm0000gn/T/ipykernel_11488/449506698.py:3: FutureWarning: Setting an item of incompatible dtype is deprecated and will raise an error in a future version of pandas. Value 'unknown' has dtype incompatible with datetime64[ns], please explicitly cast to a compatible dtype first.\n",
            "  df2[df2['subject_race']=='other'] = 'unknown'\n",
            "/var/folders/76/0bx0hwcx2cjcbnlskzx9lvhm0000gn/T/ipykernel_11488/449506698.py:3: FutureWarning: Setting an item of incompatible dtype is deprecated and will raise an error in a future version of pandas. Value 'unknown' has dtype incompatible with float64, please explicitly cast to a compatible dtype first.\n",
            "  df2[df2['subject_race']=='other'] = 'unknown'\n",
            "/var/folders/76/0bx0hwcx2cjcbnlskzx9lvhm0000gn/T/ipykernel_11488/449506698.py:3: FutureWarning: Setting an item of incompatible dtype is deprecated and will raise an error in a future version of pandas. Value 'unknown' has dtype incompatible with int64, please explicitly cast to a compatible dtype first.\n",
            "  df2[df2['subject_race']=='other'] = 'unknown'\n"
          ]
        },
        {
          "data": {
            "text/plain": [
              "array(['black', 'white', 'hispanic', 'asian/pacific islander', 'unknown'],\n",
              "      dtype=object)"
            ]
          },
          "execution_count": 27,
          "metadata": {},
          "output_type": "execute_result"
        }
      ],
      "source": [
        "#Filling the values for nan and other races as unkown\n",
        "df2['subject_race'] = df2.subject_race.fillna('unknown')\n",
        "df2[df2['subject_race']=='other'] = 'unknown'\n",
        "df2['subject_race'].unique()"
      ]
    },
    {
      "cell_type": "code",
      "execution_count": null,
      "metadata": {
        "id": "o-77SBqzqZs0"
      },
      "outputs": [],
      "source": [
        "#Removing unkown race and grouping by race and year\n",
        "grouped = df2[df2['subject_race'] != 'unknown' ].groupby(['year','subject_race'])"
      ]
    },
    {
      "cell_type": "code",
      "execution_count": null,
      "metadata": {
        "id": "jhmm5ZwhqiAE",
        "outputId": "285beebb-15f1-422d-ea10-2dee72306d37"
      },
      "outputs": [
        {
          "name": "stderr",
          "output_type": "stream",
          "text": [
            "/var/folders/76/0bx0hwcx2cjcbnlskzx9lvhm0000gn/T/ipykernel_11488/1788810059.py:1: DeprecationWarning: DataFrameGroupBy.apply operated on the grouping columns. This behavior is deprecated, and in a future version of pandas the grouping columns will be excluded from the operation. Either pass `include_groups=False` to exclude the groupings or explicitly select the grouping columns after groupby to silence this warning.\n",
            "  search_df = grouped.apply(search_rate).reset_index(name = 'search_rate')\n"
          ]
        }
      ],
      "source": [
        "search_df = grouped.apply(search_rate).reset_index(name = 'search_rate')"
      ]
    },
    {
      "cell_type": "code",
      "execution_count": null,
      "metadata": {
        "id": "NrIDTJ0olX2b"
      },
      "outputs": [],
      "source": [
        "red_line = alt.Chart(pd.DataFrame({'year': [2016]})).mark_rule(color='red', strokeDash=[3,3]).encode(\n",
        "    x='year:N'\n",
        ")"
      ]
    },
    {
      "cell_type": "code",
      "execution_count": null,
      "metadata": {
        "id": "ZJLVZdlEql3I",
        "outputId": "55b846bb-e275-4b1d-e83e-becd7625c7f3"
      },
      "outputs": [
        {
          "name": "stderr",
          "output_type": "stream",
          "text": [
            "/Users/nirvikgill/anaconda3/lib/python3.11/site-packages/altair/utils/core.py:395: FutureWarning: the convert_dtype parameter is deprecated and will be removed in a future version.  Do ``ser.astype(object).apply()`` instead if you want ``convert_dtype=False``.\n",
            "  col = df[col_name].apply(to_list_if_array, convert_dtype=False)\n"
          ]
        },
        {
          "data": {
            "text/html": [
              "\n",
              "<style>\n",
              "  #altair-viz-64c5be70c3004649a88e60972b8886bd.vega-embed {\n",
              "    width: 100%;\n",
              "    display: flex;\n",
              "  }\n",
              "\n",
              "  #altair-viz-64c5be70c3004649a88e60972b8886bd.vega-embed details,\n",
              "  #altair-viz-64c5be70c3004649a88e60972b8886bd.vega-embed details summary {\n",
              "    position: relative;\n",
              "  }\n",
              "</style>\n",
              "<div id=\"altair-viz-64c5be70c3004649a88e60972b8886bd\"></div>\n",
              "<script type=\"text/javascript\">\n",
              "  var VEGA_DEBUG = (typeof VEGA_DEBUG == \"undefined\") ? {} : VEGA_DEBUG;\n",
              "  (function(spec, embedOpt){\n",
              "    let outputDiv = document.currentScript.previousElementSibling;\n",
              "    if (outputDiv.id !== \"altair-viz-64c5be70c3004649a88e60972b8886bd\") {\n",
              "      outputDiv = document.getElementById(\"altair-viz-64c5be70c3004649a88e60972b8886bd\");\n",
              "    }\n",
              "    const paths = {\n",
              "      \"vega\": \"https://cdn.jsdelivr.net/npm/vega@5?noext\",\n",
              "      \"vega-lib\": \"https://cdn.jsdelivr.net/npm/vega-lib?noext\",\n",
              "      \"vega-lite\": \"https://cdn.jsdelivr.net/npm/vega-lite@5.8.0?noext\",\n",
              "      \"vega-embed\": \"https://cdn.jsdelivr.net/npm/vega-embed@6?noext\",\n",
              "    };\n",
              "\n",
              "    function maybeLoadScript(lib, version) {\n",
              "      var key = `${lib.replace(\"-\", \"\")}_version`;\n",
              "      return (VEGA_DEBUG[key] == version) ?\n",
              "        Promise.resolve(paths[lib]) :\n",
              "        new Promise(function(resolve, reject) {\n",
              "          var s = document.createElement('script');\n",
              "          document.getElementsByTagName(\"head\")[0].appendChild(s);\n",
              "          s.async = true;\n",
              "          s.onload = () => {\n",
              "            VEGA_DEBUG[key] = version;\n",
              "            return resolve(paths[lib]);\n",
              "          };\n",
              "          s.onerror = () => reject(`Error loading script: ${paths[lib]}`);\n",
              "          s.src = paths[lib];\n",
              "        });\n",
              "    }\n",
              "\n",
              "    function showError(err) {\n",
              "      outputDiv.innerHTML = `<div class=\"error\" style=\"color:red;\">${err}</div>`;\n",
              "      throw err;\n",
              "    }\n",
              "\n",
              "    function displayChart(vegaEmbed) {\n",
              "      vegaEmbed(outputDiv, spec, embedOpt)\n",
              "        .catch(err => showError(`Javascript Error: ${err.message}<br>This usually means there's a typo in your chart specification. See the javascript console for the full traceback.`));\n",
              "    }\n",
              "\n",
              "    if(typeof define === \"function\" && define.amd) {\n",
              "      requirejs.config({paths});\n",
              "      require([\"vega-embed\"], displayChart, err => showError(`Error loading script: ${err.message}`));\n",
              "    } else {\n",
              "      maybeLoadScript(\"vega\", \"5\")\n",
              "        .then(() => maybeLoadScript(\"vega-lite\", \"5.8.0\"))\n",
              "        .then(() => maybeLoadScript(\"vega-embed\", \"6\"))\n",
              "        .catch(showError)\n",
              "        .then(() => displayChart(vegaEmbed));\n",
              "    }\n",
              "  })({\"config\": {\"view\": {\"continuousWidth\": 300, \"continuousHeight\": 300}}, \"layer\": [{\"data\": {\"name\": \"data-be2cc0b1b2a8f110201b2a856cc65b2d\"}, \"mark\": {\"type\": \"line\"}, \"encoding\": {\"color\": {\"field\": \"subject_race\", \"type\": \"nominal\"}, \"x\": {\"field\": \"year\", \"type\": \"nominal\"}, \"y\": {\"field\": \"search_rate\", \"type\": \"quantitative\"}}, \"title\": \"SEARCH RATES (%) BY RACE\"}, {\"data\": {\"name\": \"data-22ade7edf2909141c690b3fc45cb85a8\"}, \"mark\": {\"type\": \"rule\", \"color\": \"red\", \"strokeDash\": [3, 3]}, \"encoding\": {\"x\": {\"field\": \"year\", \"type\": \"nominal\"}}}], \"height\": 400, \"width\": 600, \"$schema\": \"https://vega.github.io/schema/vega-lite/v5.8.0.json\", \"datasets\": {\"data-be2cc0b1b2a8f110201b2a856cc65b2d\": [{\"year\": 2010, \"subject_race\": \"asian/pacific islander\", \"search_rate\": 2.5447427293064875}, {\"year\": 2010, \"subject_race\": \"black\", \"search_rate\": 6.477609604701505}, {\"year\": 2010, \"subject_race\": \"hispanic\", \"search_rate\": 10.067880479604137}, {\"year\": 2010, \"subject_race\": \"white\", \"search_rate\": 3.2287016698552162}, {\"year\": 2011, \"subject_race\": \"asian/pacific islander\", \"search_rate\": 2.4028416213957375}, {\"year\": 2011, \"subject_race\": \"black\", \"search_rate\": 5.610811234692144}, {\"year\": 2011, \"subject_race\": \"hispanic\", \"search_rate\": 8.04350110328885}, {\"year\": 2011, \"subject_race\": \"white\", \"search_rate\": 3.3484072620868526}, {\"year\": 2012, \"subject_race\": \"asian/pacific islander\", \"search_rate\": 1.8897096718776842}, {\"year\": 2012, \"subject_race\": \"black\", \"search_rate\": 5.296516087360219}, {\"year\": 2012, \"subject_race\": \"hispanic\", \"search_rate\": 6.247663551401869}, {\"year\": 2012, \"subject_race\": \"white\", \"search_rate\": 3.081273750257755}, {\"year\": 2013, \"subject_race\": \"asian/pacific islander\", \"search_rate\": 2.1453671167005735}, {\"year\": 2013, \"subject_race\": \"black\", \"search_rate\": 5.774703901171967}, {\"year\": 2013, \"subject_race\": \"hispanic\", \"search_rate\": 6.081181543341428}, {\"year\": 2013, \"subject_race\": \"white\", \"search_rate\": 2.9128418489937}, {\"year\": 2014, \"subject_race\": \"asian/pacific islander\", \"search_rate\": 2.0483193277310923}, {\"year\": 2014, \"subject_race\": \"black\", \"search_rate\": 5.8532383719435375}, {\"year\": 2014, \"subject_race\": \"hispanic\", \"search_rate\": 5.243553008595988}, {\"year\": 2014, \"subject_race\": \"white\", \"search_rate\": 2.787185089917092}, {\"year\": 2015, \"subject_race\": \"asian/pacific islander\", \"search_rate\": 2.0376479720551135}, {\"year\": 2015, \"subject_race\": \"black\", \"search_rate\": 5.80575023708741}, {\"year\": 2015, \"subject_race\": \"hispanic\", \"search_rate\": 4.937167833904535}, {\"year\": 2015, \"subject_race\": \"white\", \"search_rate\": 2.62104872455854}, {\"year\": 2016, \"subject_race\": \"asian/pacific islander\", \"search_rate\": 1.6749660479855137}, {\"year\": 2016, \"subject_race\": \"black\", \"search_rate\": 5.970791952211676}, {\"year\": 2016, \"subject_race\": \"hispanic\", \"search_rate\": 4.847991313789359}, {\"year\": 2016, \"subject_race\": \"white\", \"search_rate\": 2.5942339291938454}, {\"year\": 2017, \"subject_race\": \"asian/pacific islander\", \"search_rate\": 1.3970983342289092}, {\"year\": 2017, \"subject_race\": \"black\", \"search_rate\": 5.757876233830621}, {\"year\": 2017, \"subject_race\": \"hispanic\", \"search_rate\": 5.222713362801768}, {\"year\": 2017, \"subject_race\": \"white\", \"search_rate\": 2.3949027558090314}, {\"year\": 2018, \"subject_race\": \"asian/pacific islander\", \"search_rate\": 1.663716814159292}, {\"year\": 2018, \"subject_race\": \"black\", \"search_rate\": 6.487677926492458}, {\"year\": 2018, \"subject_race\": \"hispanic\", \"search_rate\": 5.068774222965271}, {\"year\": 2018, \"subject_race\": \"white\", \"search_rate\": 2.366358981887582}], \"data-22ade7edf2909141c690b3fc45cb85a8\": [{\"year\": 2016}]}}, {\"mode\": \"vega-lite\"});\n",
              "</script>"
            ],
            "text/plain": [
              "alt.LayerChart(...)"
            ]
          },
          "execution_count": 31,
          "metadata": {},
          "output_type": "execute_result"
        }
      ],
      "source": [
        "search_cht = alt.Chart(search_df,\n",
        "                       width=300,\n",
        "                       height=300).mark_line().encode(\n",
        "    x = 'year:N',\n",
        "    y = 'search_rate:Q',\n",
        "    color = 'subject_race:N'\n",
        ").properties(title='SEARCH RATES (%) BY RACE',width=600,height=400)\n",
        "\n",
        "search_cht + red_line"
      ]
    },
    {
      "cell_type": "markdown",
      "metadata": {
        "id": "jIGFhbPfqxAy"
      },
      "source": [
        "**The above graph shows that the search rates amongst hispanics and blacks is significantly higher when compared to whites and asians/pacific islanders.**\n",
        "- A steep decline in the search rates for hispanics can be observed from 2010 to mid - 2013s where the seach rate for blacks overtakes hispanics to be the race with the highest proportions of searches conducted\n",
        "- The racial disparity law that was instituted in 2016 does not show any major effect on the search rates here\n",
        "    - One possible reason might be because the searches in the above graph constitute all types of searches, in the next graph we we look at the searches where the search basis is non consensual this indicated either the lack of documentation or a lack of consent or legitimate reason to conduct a search\n"
      ]
    },
    {
      "cell_type": "markdown",
      "metadata": {
        "id": "UycHE0xcmI50"
      },
      "source": [
        "##### Since the Racial Disparity Bill was instituted in 2016 we will split the data into two groups\n",
        "- **1** Before 2016\n",
        "- **2** After 2016\n",
        "We then look at the Z Score at a confidence level of the Black and Hispanic categories against the (Asian + White) categories at 95% to see if there is a statistical significance in difference, which would indicate disparity"
      ]
    },
    {
      "cell_type": "markdown",
      "metadata": {
        "id": "DrWco0RcmNdm"
      },
      "source": [
        "**Checking Before 2016**"
      ]
    },
    {
      "cell_type": "code",
      "execution_count": null,
      "metadata": {
        "id": "CwxWm7abmMDT"
      },
      "outputs": [],
      "source": [
        "srch_2016_1 = search_df[search_df['year']<2016].pivot_table(columns=['subject_race'],index=['year'])"
      ]
    },
    {
      "cell_type": "code",
      "execution_count": null,
      "metadata": {
        "colab": {
          "base_uri": "https://localhost:8080/"
        },
        "id": "3kGxpFYrmywC",
        "outputId": "37f5e41f-52a8-4d5b-c95e-b2e7a5a65ee5"
      },
      "outputs": [
        {
          "name": "stdout",
          "output_type": "stream",
          "text": [
            "\n",
            "*** Analysis for Stops Made on\\Black vs (White + Asian/Pacific Islanders)***\n",
            "\n",
            "Difference in averages: 3.21576434076481\n",
            "\n",
            "\n",
            "|   T-Stat   |  P-Value   |\n",
            "|------------|------------|\n",
            "|   7.3287   |   0.0502   |\n",
            "\n",
            "*** Analysis for Stops Made on\n",
            "Hispanic vs (White + Asian/Pacific Islanders)***\n",
            "\n",
            "Difference in averages: 4.182817354628147\n",
            "\n",
            "\n",
            "|   T-Stat   |  P-Value   |\n",
            "|------------|------------|\n",
            "|   4.6806   |   0.0035   |\n"
          ]
        }
      ],
      "source": [
        "d0 = srch_2016_1[[('search_rate','white'),('search_rate','asian/pacific islander')]].mean()\n",
        "d1 = srch_2016_1['search_rate','black']\n",
        "d2 = srch_2016_1['search_rate','hispanic']\n",
        "\n",
        "print('\\n*** Analysis for Stops Made on\\Black vs (White + Asian/Pacific Islanders)***')\n",
        "diff = d1.mean() - d0.mean()\n",
        "print('\\nDifference in averages:', diff)\n",
        "t_stat, p_value = ttest_ind(d1, d0, equal_var=False)\n",
        "print('\\n')\n",
        "print(f\"| {'T-Stat':^10} | {'P-Value':^10} |\")\n",
        "print(f\"|{'-'*12}|{'-'*12}|\")\n",
        "print(f\"| {t_stat:^10.4f} | {p_value:^10.4f} |\")\n",
        "\n",
        "print('\\n*** Analysis for Stops Made on\\nHispanic vs (White + Asian/Pacific Islanders)***')\n",
        "diff = d2.mean() - d0.mean()\n",
        "print('\\nDifference in averages:', diff)\n",
        "t_stat, p_value = ttest_ind(d2, d0, equal_var=False)\n",
        "print('\\n')\n",
        "print(f\"| {'T-Stat':^10} | {'P-Value':^10} |\")\n",
        "print(f\"|{'-'*12}|{'-'*12}|\")\n",
        "print(f\"| {t_stat:^10.4f} | {p_value:^10.4f} |\")"
      ]
    },
    {
      "cell_type": "markdown",
      "metadata": {
        "id": "ho8W0lllnbs8"
      },
      "source": [
        "Both Values indicate a **significant difference in search rates of Black and Hispanic people(Higher rates)** when compared to **White + Asian/Pacific Islanders(Lower Rate Group)** for a time period before 2016"
      ]
    },
    {
      "cell_type": "markdown",
      "metadata": {
        "id": "9wltgCCmngBU"
      },
      "source": [
        "**Checking After 2016**"
      ]
    },
    {
      "cell_type": "code",
      "execution_count": null,
      "metadata": {
        "id": "GiazFyrqniBu"
      },
      "outputs": [],
      "source": [
        "srch_2016_2 = search_df[search_df['year']>=2016].pivot_table(columns=['subject_race'],index=['year'])"
      ]
    },
    {
      "cell_type": "code",
      "execution_count": null,
      "metadata": {
        "colab": {
          "base_uri": "https://localhost:8080/"
        },
        "id": "N-6b8Buqnkag",
        "outputId": "31594a4f-d838-4241-816a-1341bf355845"
      },
      "outputs": [
        {
          "name": "stdout",
          "output_type": "stream",
          "text": [
            "\n",
            "*** Analysis for Stops Made on Black vs (White + Asian/Pacific Islanders)***\n",
            "\n",
            "Difference in averages: 4.056902560300889\n",
            "\n",
            "\n",
            "|   T-Stat   |  P-Value   |\n",
            "|------------|------------|\n",
            "|   8.3231   |   0.0307   |\n",
            "\n",
            "*** Analysis for Stops Made on\n",
            "Hispanic vs (White + Asian/Pacific Islanders)***\n",
            "\n",
            "Difference in averages: 3.03128015597477\n",
            "\n",
            "\n",
            "|   T-Stat   |  P-Value   |\n",
            "|------------|------------|\n",
            "|   6.7368   |   0.0758   |\n"
          ]
        }
      ],
      "source": [
        "d0 = srch_2016_2[[('search_rate','white'),('search_rate','asian/pacific islander')]].mean()\n",
        "d1 = srch_2016_2['search_rate','black']\n",
        "d2 = srch_2016_2['search_rate','hispanic']\n",
        "\n",
        "print('\\n*** Analysis for Stops Made on Black vs (White + Asian/Pacific Islanders)***')\n",
        "diff = d1.mean() - d0.mean()\n",
        "print('\\nDifference in averages:', diff)\n",
        "t_stat, p_value = ttest_ind(d1, d0, equal_var=False)\n",
        "print('\\n')\n",
        "print(f\"| {'T-Stat':^10} | {'P-Value':^10} |\")\n",
        "print(f\"|{'-'*12}|{'-'*12}|\")\n",
        "print(f\"| {t_stat:^10.4f} | {p_value:^10.4f} |\")\n",
        "\n",
        "print('\\n*** Analysis for Stops Made on\\nHispanic vs (White + Asian/Pacific Islanders)***')\n",
        "diff = d2.mean() - d0.mean()\n",
        "print('\\nDifference in averages:', diff)\n",
        "t_stat, p_value = ttest_ind(d2, d0, equal_var=False)\n",
        "print('\\n')\n",
        "print(f\"| {'T-Stat':^10} | {'P-Value':^10} |\")\n",
        "print(f\"|{'-'*12}|{'-'*12}|\")\n",
        "print(f\"| {t_stat:^10.4f} | {p_value:^10.4f} |\")"
      ]
    },
    {
      "cell_type": "markdown",
      "metadata": {
        "id": "VJd0FDoRnu24"
      },
      "source": [
        "Both Values indicate a **significant difference of Black and Hispanic people(Higher rates)** when compared to **White + Asian/Pacific Islanders(Lower Rate Group)** for a time period after 2016\n",
        "\n",
        "**CONCLUSION:**\n",
        "WE CANNOT CONCLUDE THAT THE RACIAL DISCRIMINATION BILL FROM 2016 HAD AN EFFECT ON THE SEARCH RATES BUT THE SEARCH RATES DO HINT TO RACIAL DISPARITY FOR BLACK AND HISPANIC CATEGORIES COMPARES TO THE WHITES AND ASIAN/PACIFIC ISLANDER COMMUNITY"
      ]
    },
    {
      "cell_type": "markdown",
      "metadata": {
        "id": "L3SleiZqqzoQ"
      },
      "source": [
        "#### *Seeing the trend of non-consensual searches*"
      ]
    },
    {
      "cell_type": "code",
      "execution_count": null,
      "metadata": {
        "id": "v0308MsLq0Vd",
        "outputId": "8acff8a2-ab24-47a2-ff72-c8017207fa28"
      },
      "outputs": [
        {
          "name": "stderr",
          "output_type": "stream",
          "text": [
            "/var/folders/76/0bx0hwcx2cjcbnlskzx9lvhm0000gn/T/ipykernel_11488/4017447219.py:1: DeprecationWarning: DataFrameGroupBy.apply operated on the grouping columns. This behavior is deprecated, and in a future version of pandas the grouping columns will be excluded from the operation. Either pass `include_groups=False` to exclude the groupings or explicitly select the grouping columns after groupby to silence this warning.\n",
            "  no_consent_search_df = grouped.apply(no_consent_search_rate).reset_index(\n"
          ]
        }
      ],
      "source": [
        "no_consent_search_df = grouped.apply(no_consent_search_rate).reset_index(\n",
        "    name = 'search_rate')"
      ]
    },
    {
      "cell_type": "code",
      "execution_count": null,
      "metadata": {
        "colab": {
          "base_uri": "https://localhost:8080/",
          "height": 498
        },
        "id": "Bdc7rbVppGgx",
        "outputId": "a5bafd50-9fb8-46e6-ed5e-d391175f84fd"
      },
      "outputs": [
        {
          "name": "stderr",
          "output_type": "stream",
          "text": [
            "/Users/nirvikgill/anaconda3/lib/python3.11/site-packages/altair/utils/core.py:395: FutureWarning: the convert_dtype parameter is deprecated and will be removed in a future version.  Do ``ser.astype(object).apply()`` instead if you want ``convert_dtype=False``.\n",
            "  col = df[col_name].apply(to_list_if_array, convert_dtype=False)\n"
          ]
        },
        {
          "data": {
            "text/html": [
              "\n",
              "<style>\n",
              "  #altair-viz-17a2a1437e304e049b127661c6fdd16a.vega-embed {\n",
              "    width: 100%;\n",
              "    display: flex;\n",
              "  }\n",
              "\n",
              "  #altair-viz-17a2a1437e304e049b127661c6fdd16a.vega-embed details,\n",
              "  #altair-viz-17a2a1437e304e049b127661c6fdd16a.vega-embed details summary {\n",
              "    position: relative;\n",
              "  }\n",
              "</style>\n",
              "<div id=\"altair-viz-17a2a1437e304e049b127661c6fdd16a\"></div>\n",
              "<script type=\"text/javascript\">\n",
              "  var VEGA_DEBUG = (typeof VEGA_DEBUG == \"undefined\") ? {} : VEGA_DEBUG;\n",
              "  (function(spec, embedOpt){\n",
              "    let outputDiv = document.currentScript.previousElementSibling;\n",
              "    if (outputDiv.id !== \"altair-viz-17a2a1437e304e049b127661c6fdd16a\") {\n",
              "      outputDiv = document.getElementById(\"altair-viz-17a2a1437e304e049b127661c6fdd16a\");\n",
              "    }\n",
              "    const paths = {\n",
              "      \"vega\": \"https://cdn.jsdelivr.net/npm/vega@5?noext\",\n",
              "      \"vega-lib\": \"https://cdn.jsdelivr.net/npm/vega-lib?noext\",\n",
              "      \"vega-lite\": \"https://cdn.jsdelivr.net/npm/vega-lite@5.8.0?noext\",\n",
              "      \"vega-embed\": \"https://cdn.jsdelivr.net/npm/vega-embed@6?noext\",\n",
              "    };\n",
              "\n",
              "    function maybeLoadScript(lib, version) {\n",
              "      var key = `${lib.replace(\"-\", \"\")}_version`;\n",
              "      return (VEGA_DEBUG[key] == version) ?\n",
              "        Promise.resolve(paths[lib]) :\n",
              "        new Promise(function(resolve, reject) {\n",
              "          var s = document.createElement('script');\n",
              "          document.getElementsByTagName(\"head\")[0].appendChild(s);\n",
              "          s.async = true;\n",
              "          s.onload = () => {\n",
              "            VEGA_DEBUG[key] = version;\n",
              "            return resolve(paths[lib]);\n",
              "          };\n",
              "          s.onerror = () => reject(`Error loading script: ${paths[lib]}`);\n",
              "          s.src = paths[lib];\n",
              "        });\n",
              "    }\n",
              "\n",
              "    function showError(err) {\n",
              "      outputDiv.innerHTML = `<div class=\"error\" style=\"color:red;\">${err}</div>`;\n",
              "      throw err;\n",
              "    }\n",
              "\n",
              "    function displayChart(vegaEmbed) {\n",
              "      vegaEmbed(outputDiv, spec, embedOpt)\n",
              "        .catch(err => showError(`Javascript Error: ${err.message}<br>This usually means there's a typo in your chart specification. See the javascript console for the full traceback.`));\n",
              "    }\n",
              "\n",
              "    if(typeof define === \"function\" && define.amd) {\n",
              "      requirejs.config({paths});\n",
              "      require([\"vega-embed\"], displayChart, err => showError(`Error loading script: ${err.message}`));\n",
              "    } else {\n",
              "      maybeLoadScript(\"vega\", \"5\")\n",
              "        .then(() => maybeLoadScript(\"vega-lite\", \"5.8.0\"))\n",
              "        .then(() => maybeLoadScript(\"vega-embed\", \"6\"))\n",
              "        .catch(showError)\n",
              "        .then(() => displayChart(vegaEmbed));\n",
              "    }\n",
              "  })({\"config\": {\"view\": {\"continuousWidth\": 300, \"continuousHeight\": 300}}, \"layer\": [{\"data\": {\"name\": \"data-7e3ef6e4fbbdd6feab526c2be3cdc3a4\"}, \"mark\": {\"type\": \"line\"}, \"encoding\": {\"color\": {\"field\": \"subject_race\", \"type\": \"nominal\"}, \"x\": {\"field\": \"year\", \"type\": \"nominal\"}, \"y\": {\"field\": \"search_rate\", \"type\": \"quantitative\"}}, \"title\": \"NON CONSESNSUAL SEARCH RATES(%) BY RACE\"}, {\"data\": {\"name\": \"data-22ade7edf2909141c690b3fc45cb85a8\"}, \"mark\": {\"type\": \"rule\", \"color\": \"red\", \"strokeDash\": [3, 3]}, \"encoding\": {\"x\": {\"field\": \"year\", \"type\": \"nominal\"}}}], \"height\": 400, \"width\": 600, \"$schema\": \"https://vega.github.io/schema/vega-lite/v5.8.0.json\", \"datasets\": {\"data-7e3ef6e4fbbdd6feab526c2be3cdc3a4\": [{\"year\": 2010, \"subject_race\": \"asian/pacific islander\", \"search_rate\": 53.84615384615385}, {\"year\": 2010, \"subject_race\": \"black\", \"search_rate\": 36.03543148570662}, {\"year\": 2010, \"subject_race\": \"hispanic\", \"search_rate\": 40.5166981726528}, {\"year\": 2010, \"subject_race\": \"white\", \"search_rate\": 41.34967081199707}, {\"year\": 2011, \"subject_race\": \"asian/pacific islander\", \"search_rate\": 63.47826086956522}, {\"year\": 2011, \"subject_race\": \"black\", \"search_rate\": 35.27836012112742}, {\"year\": 2011, \"subject_race\": \"hispanic\", \"search_rate\": 35.336381450032654}, {\"year\": 2011, \"subject_race\": \"white\", \"search_rate\": 40.615690168818276}, {\"year\": 2012, \"subject_race\": \"asian/pacific islander\", \"search_rate\": 61.81818181818181}, {\"year\": 2012, \"subject_race\": \"black\", \"search_rate\": 39.43815331010453}, {\"year\": 2012, \"subject_race\": \"hispanic\", \"search_rate\": 41.735228122662676}, {\"year\": 2012, \"subject_race\": \"white\", \"search_rate\": 48.90740234908495}, {\"year\": 2013, \"subject_race\": \"asian/pacific islander\", \"search_rate\": 54.310344827586206}, {\"year\": 2013, \"subject_race\": \"black\", \"search_rate\": 37.24308619390939}, {\"year\": 2013, \"subject_race\": \"hispanic\", \"search_rate\": 41.972290138549305}, {\"year\": 2013, \"subject_race\": \"white\", \"search_rate\": 45.984718540464684}, {\"year\": 2014, \"subject_race\": \"asian/pacific islander\", \"search_rate\": 64.1025641025641}, {\"year\": 2014, \"subject_race\": \"black\", \"search_rate\": 41.1157478585548}, {\"year\": 2014, \"subject_race\": \"hispanic\", \"search_rate\": 46.083788706739526}, {\"year\": 2014, \"subject_race\": \"white\", \"search_rate\": 47.0062270477407}, {\"year\": 2015, \"subject_race\": \"asian/pacific islander\", \"search_rate\": 64.76190476190476}, {\"year\": 2015, \"subject_race\": \"black\", \"search_rate\": 48.95086321381142}, {\"year\": 2015, \"subject_race\": \"hispanic\", \"search_rate\": 54.32595573440644}, {\"year\": 2015, \"subject_race\": \"white\", \"search_rate\": 52.415130940834146}, {\"year\": 2016, \"subject_race\": \"asian/pacific islander\", \"search_rate\": 52.702702702702695}, {\"year\": 2016, \"subject_race\": \"black\", \"search_rate\": 58.55454963940463}, {\"year\": 2016, \"subject_race\": \"hispanic\", \"search_rate\": 57.89473684210527}, {\"year\": 2016, \"subject_race\": \"white\", \"search_rate\": 53.95873320537427}, {\"year\": 2017, \"subject_race\": \"asian/pacific islander\", \"search_rate\": 65.38461538461539}, {\"year\": 2017, \"subject_race\": \"black\", \"search_rate\": 65.75342465753424}, {\"year\": 2017, \"subject_race\": \"hispanic\", \"search_rate\": 69.140625}, {\"year\": 2017, \"subject_race\": \"white\", \"search_rate\": 62.66666666666667}, {\"year\": 2018, \"subject_race\": \"asian/pacific islander\", \"search_rate\": 74.46808510638297}, {\"year\": 2018, \"subject_race\": \"black\", \"search_rate\": 68.87024150634466}, {\"year\": 2018, \"subject_race\": \"hispanic\", \"search_rate\": 69.11544227886057}, {\"year\": 2018, \"subject_race\": \"white\", \"search_rate\": 60.217138425746406}], \"data-22ade7edf2909141c690b3fc45cb85a8\": [{\"year\": 2016}]}}, {\"mode\": \"vega-lite\"});\n",
              "</script>"
            ],
            "text/plain": [
              "alt.LayerChart(...)"
            ]
          },
          "execution_count": 37,
          "metadata": {},
          "output_type": "execute_result"
        }
      ],
      "source": [
        "no_consent_search_cht = alt.Chart(no_consent_search_df).mark_line().encode(\n",
        "    x = 'year:N',\n",
        "    y = 'search_rate',\n",
        "    color = 'subject_race:N'\n",
        ").properties(title = 'NON CONSESNSUAL SEARCH RATES(%) BY RACE', width=600,height=400)\n",
        "no_consent_search_cht + red_line"
      ]
    },
    {
      "cell_type": "markdown",
      "metadata": {
        "id": "yoIWEssBpTuj"
      },
      "source": [
        "**Analysis**\n",
        "- The ratio of non consensual searches does not follow the same pattern as the previous graph it suggests that generally 40 - 60% of the searches conducted are non consensual\n",
        "- We also see a steep rise in the ration of non consensual searches which increases from **62.5%** in 2010 to **82.5%** in 2018\n",
        "- We can also observe that out of the searches conducted the non consensual searches are much higher for the **asian/pacific islander** category for the period before **2016**.\n",
        "- Below we again check for statistical significance for the time period before 2016"
      ]
    },
    {
      "cell_type": "code",
      "execution_count": null,
      "metadata": {
        "id": "U5lTWKYvFCql"
      },
      "outputs": [],
      "source": [
        "nsrch_2016_1 = no_consent_search_df[no_consent_search_df['year']<2016].pivot_table(columns=['subject_race'],index=['year'])\n",
        "nsrch_2016_2 = no_consent_search_df[no_consent_search_df['year']>=2016].pivot_table(columns=['subject_race'],index=['year'])"
      ]
    },
    {
      "cell_type": "code",
      "execution_count": null,
      "metadata": {
        "id": "0dB_ZGmHFDjV",
        "outputId": "afb1a91b-9e3a-4a82-e788-e8cf75c25439"
      },
      "outputs": [
        {
          "name": "stdout",
          "output_type": "stream",
          "text": [
            "\n",
            "*** Before 2016***\n",
            "\n",
            "*** Analysis for Unconsensual Searches for Asian/Pacific Islanders vs others***\n",
            "\n",
            "Difference in averages: 17.36896701725947\n",
            "|   T-Stat   |  P-Value   |\n",
            "|------------|------------|\n",
            "|   6.3225   |   0.0007   |\n",
            "\n",
            "*** After 2016***\n",
            "\n",
            "*** Analysis for Unconsensual Searches for Asian/Pacific Islanders vs others***\n",
            "\n",
            "Difference in averages: 1.2771834843407248\n",
            "|   T-Stat   |  P-Value   |\n",
            "|------------|------------|\n",
            "|   0.1929   |   0.8622   |\n"
          ]
        }
      ],
      "source": [
        "d0 = nsrch_2016_1.drop(columns=[('search_rate','asian/pacific islander')]).mean()\n",
        "d1 = nsrch_2016_1['search_rate','asian/pacific islander']\n",
        "\n",
        "print('\\n*** Before 2016***')\n",
        "print('\\n*** Analysis for Unconsensual Searches for Asian/Pacific Islanders vs others***')\n",
        "diff = d1.mean() - d0.mean()\n",
        "print('\\nDifference in averages:', diff)\n",
        "t_stat, p_value = ttest_ind(d1, d0, equal_var=False)\n",
        "print(f\"| {'T-Stat':^10} | {'P-Value':^10} |\")\n",
        "print(f\"|{'-'*12}|{'-'*12}|\")\n",
        "print(f\"| {t_stat:^10.4f} | {p_value:^10.4f} |\")\n",
        "\n",
        "d0 = nsrch_2016_2.drop(columns=[('search_rate','asian/pacific islander')]).mean()\n",
        "d1 = nsrch_2016_2['search_rate','asian/pacific islander']\n",
        "print('\\n*** After 2016***')\n",
        "print('\\n*** Analysis for Unconsensual Searches for Asian/Pacific Islanders vs others***')\n",
        "diff = d1.mean() - d0.mean()\n",
        "print('\\nDifference in averages:', diff)\n",
        "t_stat, p_value = ttest_ind(d1, d0, equal_var=False)\n",
        "print(f\"| {'T-Stat':^10} | {'P-Value':^10} |\")\n",
        "print(f\"|{'-'*12}|{'-'*12}|\")\n",
        "print(f\"| {t_stat:^10.4f} | {p_value:^10.4f} |\")"
      ]
    },
    {
      "cell_type": "markdown",
      "metadata": {
        "id": "N3v7LrhbFPur"
      },
      "source": [
        "Since the T Stats goes from statistically significant before 2016 to statistically insignificant after 2016 we can conclude that **after the year 2016 there was a reduction in non consensual search rates for asian/pacific islanders when compared to other races**"
      ]
    },
    {
      "cell_type": "markdown",
      "metadata": {
        "id": "kbVOhJ-IrEI1"
      },
      "source": [
        "#### *Analysing the trend of Contraband Hit Rate*\n",
        "**Contraband Hit Rate** = Number of Contraband Found / Number of Searches Conducted\n",
        "This graph is by **Race** so that we can see what proportion of individuals of a race are being search after being stopped"
      ]
    },
    {
      "cell_type": "code",
      "execution_count": null,
      "metadata": {
        "id": "0w3xDhTiwf9h",
        "outputId": "44a8e678-a94d-4d8a-8783-639ade05fa68"
      },
      "outputs": [
        {
          "name": "stderr",
          "output_type": "stream",
          "text": [
            "/var/folders/76/0bx0hwcx2cjcbnlskzx9lvhm0000gn/T/ipykernel_11488/2771563923.py:1: DeprecationWarning: DataFrameGroupBy.apply operated on the grouping columns. This behavior is deprecated, and in a future version of pandas the grouping columns will be excluded from the operation. Either pass `include_groups=False` to exclude the groupings or explicitly select the grouping columns after groupby to silence this warning.\n",
            "  contra_df = grouped.apply(contraband_rate).reset_index(name = 'contraband_rate')\n"
          ]
        }
      ],
      "source": [
        "contra_df = grouped.apply(contraband_rate).reset_index(name = 'contraband_rate')"
      ]
    },
    {
      "cell_type": "code",
      "execution_count": null,
      "metadata": {
        "colab": {
          "base_uri": "https://localhost:8080/",
          "height": 498
        },
        "id": "j4puBlWVwhOP",
        "outputId": "f53569cc-3f0a-4725-f6fe-a31545e086b4"
      },
      "outputs": [
        {
          "name": "stderr",
          "output_type": "stream",
          "text": [
            "/Users/nirvikgill/anaconda3/lib/python3.11/site-packages/altair/utils/core.py:395: FutureWarning: the convert_dtype parameter is deprecated and will be removed in a future version.  Do ``ser.astype(object).apply()`` instead if you want ``convert_dtype=False``.\n",
            "  col = df[col_name].apply(to_list_if_array, convert_dtype=False)\n"
          ]
        },
        {
          "data": {
            "text/html": [
              "\n",
              "<style>\n",
              "  #altair-viz-cea230b691c446669c35f13813107014.vega-embed {\n",
              "    width: 100%;\n",
              "    display: flex;\n",
              "  }\n",
              "\n",
              "  #altair-viz-cea230b691c446669c35f13813107014.vega-embed details,\n",
              "  #altair-viz-cea230b691c446669c35f13813107014.vega-embed details summary {\n",
              "    position: relative;\n",
              "  }\n",
              "</style>\n",
              "<div id=\"altair-viz-cea230b691c446669c35f13813107014\"></div>\n",
              "<script type=\"text/javascript\">\n",
              "  var VEGA_DEBUG = (typeof VEGA_DEBUG == \"undefined\") ? {} : VEGA_DEBUG;\n",
              "  (function(spec, embedOpt){\n",
              "    let outputDiv = document.currentScript.previousElementSibling;\n",
              "    if (outputDiv.id !== \"altair-viz-cea230b691c446669c35f13813107014\") {\n",
              "      outputDiv = document.getElementById(\"altair-viz-cea230b691c446669c35f13813107014\");\n",
              "    }\n",
              "    const paths = {\n",
              "      \"vega\": \"https://cdn.jsdelivr.net/npm/vega@5?noext\",\n",
              "      \"vega-lib\": \"https://cdn.jsdelivr.net/npm/vega-lib?noext\",\n",
              "      \"vega-lite\": \"https://cdn.jsdelivr.net/npm/vega-lite@5.8.0?noext\",\n",
              "      \"vega-embed\": \"https://cdn.jsdelivr.net/npm/vega-embed@6?noext\",\n",
              "    };\n",
              "\n",
              "    function maybeLoadScript(lib, version) {\n",
              "      var key = `${lib.replace(\"-\", \"\")}_version`;\n",
              "      return (VEGA_DEBUG[key] == version) ?\n",
              "        Promise.resolve(paths[lib]) :\n",
              "        new Promise(function(resolve, reject) {\n",
              "          var s = document.createElement('script');\n",
              "          document.getElementsByTagName(\"head\")[0].appendChild(s);\n",
              "          s.async = true;\n",
              "          s.onload = () => {\n",
              "            VEGA_DEBUG[key] = version;\n",
              "            return resolve(paths[lib]);\n",
              "          };\n",
              "          s.onerror = () => reject(`Error loading script: ${paths[lib]}`);\n",
              "          s.src = paths[lib];\n",
              "        });\n",
              "    }\n",
              "\n",
              "    function showError(err) {\n",
              "      outputDiv.innerHTML = `<div class=\"error\" style=\"color:red;\">${err}</div>`;\n",
              "      throw err;\n",
              "    }\n",
              "\n",
              "    function displayChart(vegaEmbed) {\n",
              "      vegaEmbed(outputDiv, spec, embedOpt)\n",
              "        .catch(err => showError(`Javascript Error: ${err.message}<br>This usually means there's a typo in your chart specification. See the javascript console for the full traceback.`));\n",
              "    }\n",
              "\n",
              "    if(typeof define === \"function\" && define.amd) {\n",
              "      requirejs.config({paths});\n",
              "      require([\"vega-embed\"], displayChart, err => showError(`Error loading script: ${err.message}`));\n",
              "    } else {\n",
              "      maybeLoadScript(\"vega\", \"5\")\n",
              "        .then(() => maybeLoadScript(\"vega-lite\", \"5.8.0\"))\n",
              "        .then(() => maybeLoadScript(\"vega-embed\", \"6\"))\n",
              "        .catch(showError)\n",
              "        .then(() => displayChart(vegaEmbed));\n",
              "    }\n",
              "  })({\"config\": {\"view\": {\"continuousWidth\": 300, \"continuousHeight\": 300}}, \"layer\": [{\"data\": {\"name\": \"data-f0c172208840ae380d30e15cde9bfa5a\"}, \"mark\": {\"type\": \"line\"}, \"encoding\": {\"color\": {\"field\": \"subject_race\", \"type\": \"nominal\"}, \"x\": {\"field\": \"year\", \"type\": \"nominal\"}, \"y\": {\"field\": \"contraband_rate\", \"type\": \"quantitative\"}}, \"title\": \"CONTRABAND HIT RATES(%) BY RACE\"}, {\"data\": {\"name\": \"data-22ade7edf2909141c690b3fc45cb85a8\"}, \"mark\": {\"type\": \"rule\", \"color\": \"red\", \"strokeDash\": [3, 3]}, \"encoding\": {\"x\": {\"field\": \"year\", \"type\": \"nominal\"}}}], \"height\": 400, \"width\": 600, \"$schema\": \"https://vega.github.io/schema/vega-lite/v5.8.0.json\", \"datasets\": {\"data-f0c172208840ae380d30e15cde9bfa5a\": [{\"year\": 2010, \"subject_race\": \"asian/pacific islander\", \"contraband_rate\": 16.483516483516482}, {\"year\": 2010, \"subject_race\": \"black\", \"contraband_rate\": 17.044691987652662}, {\"year\": 2010, \"subject_race\": \"hispanic\", \"contraband_rate\": 6.490233144297417}, {\"year\": 2010, \"subject_race\": \"white\", \"contraband_rate\": 17.81272860277981}, {\"year\": 2011, \"subject_race\": \"asian/pacific islander\", \"contraband_rate\": 14.782608695652174}, {\"year\": 2011, \"subject_race\": \"black\", \"contraband_rate\": 18.15746564174237}, {\"year\": 2011, \"subject_race\": \"hispanic\", \"contraband_rate\": 6.59699542782495}, {\"year\": 2011, \"subject_race\": \"white\", \"contraband_rate\": 18.00255355369556}, {\"year\": 2012, \"subject_race\": \"asian/pacific islander\", \"contraband_rate\": 18.181818181818183}, {\"year\": 2012, \"subject_race\": \"black\", \"contraband_rate\": 19.5993031358885}, {\"year\": 2012, \"subject_race\": \"hispanic\", \"contraband_rate\": 8.975317875841435}, {\"year\": 2012, \"subject_race\": \"white\", \"contraband_rate\": 18.970226714012565}, {\"year\": 2013, \"subject_race\": \"asian/pacific islander\", \"contraband_rate\": 15.517241379310345}, {\"year\": 2013, \"subject_race\": \"black\", \"contraband_rate\": 21.424728290110835}, {\"year\": 2013, \"subject_race\": \"hispanic\", \"contraband_rate\": 12.143439282803586}, {\"year\": 2013, \"subject_race\": \"white\", \"contraband_rate\": 20.70793700296273}, {\"year\": 2014, \"subject_race\": \"asian/pacific islander\", \"contraband_rate\": 13.675213675213676}, {\"year\": 2014, \"subject_race\": \"black\", \"contraband_rate\": 20.909290577641116}, {\"year\": 2014, \"subject_race\": \"hispanic\", \"contraband_rate\": 11.839708561020036}, {\"year\": 2014, \"subject_race\": \"white\", \"contraband_rate\": 20.485390387992975}, {\"year\": 2015, \"subject_race\": \"asian/pacific islander\", \"contraband_rate\": 19.047619047619047}, {\"year\": 2015, \"subject_race\": \"black\", \"contraband_rate\": 24.023904382470118}, {\"year\": 2015, \"subject_race\": \"hispanic\", \"contraband_rate\": 14.989939637826962}, {\"year\": 2015, \"subject_race\": \"white\", \"contraband_rate\": 22.21144519883608}, {\"year\": 2016, \"subject_race\": \"asian/pacific islander\", \"contraband_rate\": 25.675675675675674}, {\"year\": 2016, \"subject_race\": \"black\", \"contraband_rate\": 24.367040049102346}, {\"year\": 2016, \"subject_race\": \"hispanic\", \"contraband_rate\": 18.924972004479283}, {\"year\": 2016, \"subject_race\": \"white\", \"contraband_rate\": 23.84836852207294}, {\"year\": 2017, \"subject_race\": \"asian/pacific islander\", \"contraband_rate\": 23.076923076923077}, {\"year\": 2017, \"subject_race\": \"black\", \"contraband_rate\": 26.45792563600783}, {\"year\": 2017, \"subject_race\": \"hispanic\", \"contraband_rate\": 19.140625}, {\"year\": 2017, \"subject_race\": \"white\", \"contraband_rate\": 25.14728682170543}, {\"year\": 2018, \"subject_race\": \"asian/pacific islander\", \"contraband_rate\": 14.893617021276595}, {\"year\": 2018, \"subject_race\": \"black\", \"contraband_rate\": 28.26442898076136}, {\"year\": 2018, \"subject_race\": \"hispanic\", \"contraband_rate\": 22.638680659670165}, {\"year\": 2018, \"subject_race\": \"white\", \"contraband_rate\": 28.383094222566886}], \"data-22ade7edf2909141c690b3fc45cb85a8\": [{\"year\": 2016}]}}, {\"mode\": \"vega-lite\"});\n",
              "</script>"
            ],
            "text/plain": [
              "alt.LayerChart(...)"
            ]
          },
          "execution_count": 41,
          "metadata": {},
          "output_type": "execute_result"
        }
      ],
      "source": [
        "contra_cht = alt.Chart(contra_df).mark_line().encode(\n",
        "    x = 'year:N',\n",
        "    y = 'contraband_rate:Q',\n",
        "    color = 'subject_race:N'\n",
        ").properties(title = 'CONTRABAND HIT RATES(%) BY RACE', width=600,height=400)\n",
        "\n",
        "contra_cht + red_line"
      ]
    },
    {
      "cell_type": "markdown",
      "metadata": {
        "id": "Gga_9RThrRTo"
      },
      "source": [
        "- The contraband hit rates seem to be the highest for the black category with contraband being found on around 23% percent of searchs\n",
        "- This is followed by the white category which follows a very similar pattern\n",
        "- No hypo testing required as visible from graph"
      ]
    },
    {
      "cell_type": "markdown",
      "metadata": {
        "id": "CNiD9nOmrXRt"
      },
      "source": [
        "#### Analysing the reason for arrests by race"
      ]
    },
    {
      "cell_type": "code",
      "execution_count": null,
      "metadata": {
        "colab": {
          "base_uri": "https://localhost:8080/"
        },
        "id": "IjiPJ7berL0e",
        "outputId": "5f8fcc0f-8dbf-4209-f226-cb56f977a419"
      },
      "outputs": [
        {
          "data": {
            "text/plain": [
              "array(['investigative stop', 'moving traffic violation',\n",
              "       'vehicle equipment violation', 'registration',\n",
              "       'seatbelt violation', 'safety violation', 'unknown',\n",
              "       'parking violation', 'child restraint'], dtype=object)"
            ]
          },
          "execution_count": 42,
          "metadata": {},
          "output_type": "execute_result"
        }
      ],
      "source": [
        "df2.reason_for_stop = df2.reason_for_stop.fillna('unknown')\n",
        "df2.reason_for_stop.unique()"
      ]
    },
    {
      "cell_type": "code",
      "execution_count": null,
      "metadata": {
        "id": "YNk4dFk9w-YK"
      },
      "outputs": [],
      "source": [
        "reason_stopped_and_arrested_by_race = df2[df2.arrest_made == True].groupby(['year','subject_race','reason_for_stop']).size().reset_index(name='count')"
      ]
    },
    {
      "cell_type": "code",
      "execution_count": null,
      "metadata": {
        "colab": {
          "base_uri": "https://localhost:8080/",
          "height": 789
        },
        "id": "SuPKEBnTxAE7",
        "outputId": "49a131a5-e3b6-4f77-f72c-350628fb4c5d"
      },
      "outputs": [
        {
          "name": "stderr",
          "output_type": "stream",
          "text": [
            "/Users/nirvikgill/anaconda3/lib/python3.11/site-packages/altair/utils/core.py:395: FutureWarning: the convert_dtype parameter is deprecated and will be removed in a future version.  Do ``ser.astype(object).apply()`` instead if you want ``convert_dtype=False``.\n",
            "  col = df[col_name].apply(to_list_if_array, convert_dtype=False)\n",
            "/Users/nirvikgill/anaconda3/lib/python3.11/site-packages/altair/utils/core.py:395: FutureWarning: the convert_dtype parameter is deprecated and will be removed in a future version.  Do ``ser.astype(object).apply()`` instead if you want ``convert_dtype=False``.\n",
            "  col = df[col_name].apply(to_list_if_array, convert_dtype=False)\n"
          ]
        },
        {
          "data": {
            "text/html": [
              "\n",
              "<style>\n",
              "  #altair-viz-248002c6999349049f36ae89b4638f75.vega-embed {\n",
              "    width: 100%;\n",
              "    display: flex;\n",
              "  }\n",
              "\n",
              "  #altair-viz-248002c6999349049f36ae89b4638f75.vega-embed details,\n",
              "  #altair-viz-248002c6999349049f36ae89b4638f75.vega-embed details summary {\n",
              "    position: relative;\n",
              "  }\n",
              "</style>\n",
              "<div id=\"altair-viz-248002c6999349049f36ae89b4638f75\"></div>\n",
              "<script type=\"text/javascript\">\n",
              "  var VEGA_DEBUG = (typeof VEGA_DEBUG == \"undefined\") ? {} : VEGA_DEBUG;\n",
              "  (function(spec, embedOpt){\n",
              "    let outputDiv = document.currentScript.previousElementSibling;\n",
              "    if (outputDiv.id !== \"altair-viz-248002c6999349049f36ae89b4638f75\") {\n",
              "      outputDiv = document.getElementById(\"altair-viz-248002c6999349049f36ae89b4638f75\");\n",
              "    }\n",
              "    const paths = {\n",
              "      \"vega\": \"https://cdn.jsdelivr.net/npm/vega@5?noext\",\n",
              "      \"vega-lib\": \"https://cdn.jsdelivr.net/npm/vega-lib?noext\",\n",
              "      \"vega-lite\": \"https://cdn.jsdelivr.net/npm/vega-lite@5.8.0?noext\",\n",
              "      \"vega-embed\": \"https://cdn.jsdelivr.net/npm/vega-embed@6?noext\",\n",
              "    };\n",
              "\n",
              "    function maybeLoadScript(lib, version) {\n",
              "      var key = `${lib.replace(\"-\", \"\")}_version`;\n",
              "      return (VEGA_DEBUG[key] == version) ?\n",
              "        Promise.resolve(paths[lib]) :\n",
              "        new Promise(function(resolve, reject) {\n",
              "          var s = document.createElement('script');\n",
              "          document.getElementsByTagName(\"head\")[0].appendChild(s);\n",
              "          s.async = true;\n",
              "          s.onload = () => {\n",
              "            VEGA_DEBUG[key] = version;\n",
              "            return resolve(paths[lib]);\n",
              "          };\n",
              "          s.onerror = () => reject(`Error loading script: ${paths[lib]}`);\n",
              "          s.src = paths[lib];\n",
              "        });\n",
              "    }\n",
              "\n",
              "    function showError(err) {\n",
              "      outputDiv.innerHTML = `<div class=\"error\" style=\"color:red;\">${err}</div>`;\n",
              "      throw err;\n",
              "    }\n",
              "\n",
              "    function displayChart(vegaEmbed) {\n",
              "      vegaEmbed(outputDiv, spec, embedOpt)\n",
              "        .catch(err => showError(`Javascript Error: ${err.message}<br>This usually means there's a typo in your chart specification. See the javascript console for the full traceback.`));\n",
              "    }\n",
              "\n",
              "    if(typeof define === \"function\" && define.amd) {\n",
              "      requirejs.config({paths});\n",
              "      require([\"vega-embed\"], displayChart, err => showError(`Error loading script: ${err.message}`));\n",
              "    } else {\n",
              "      maybeLoadScript(\"vega\", \"5\")\n",
              "        .then(() => maybeLoadScript(\"vega-lite\", \"5.8.0\"))\n",
              "        .then(() => maybeLoadScript(\"vega-embed\", \"6\"))\n",
              "        .catch(showError)\n",
              "        .then(() => displayChart(vegaEmbed));\n",
              "    }\n",
              "  })({\"config\": {\"view\": {\"continuousWidth\": 300, \"continuousHeight\": 300}}, \"data\": {\"name\": \"data-de87267baa907730673ee4fefdda8ae0\"}, \"mark\": {\"type\": \"line\"}, \"encoding\": {\"color\": {\"field\": \"reason_for_stop\", \"type\": \"nominal\"}, \"facet\": {\"columns\": 4, \"field\": \"subject_race\", \"type\": \"nominal\"}, \"x\": {\"field\": \"year\", \"type\": \"quantitative\"}, \"y\": {\"field\": \"count\", \"type\": \"quantitative\"}}, \"height\": 300, \"title\": \"STOP REASON FOR ARRESTS BY RACE\", \"width\": 300, \"$schema\": \"https://vega.github.io/schema/vega-lite/v5.8.0.json\", \"datasets\": {\"data-de87267baa907730673ee4fefdda8ae0\": [{\"year\": 2010, \"subject_race\": \"asian/pacific islander\", \"reason_for_stop\": \"investigative stop\", \"count\": 3}, {\"year\": 2010, \"subject_race\": \"asian/pacific islander\", \"reason_for_stop\": \"moving traffic violation\", \"count\": 25}, {\"year\": 2010, \"subject_race\": \"asian/pacific islander\", \"reason_for_stop\": \"seatbelt violation\", \"count\": 1}, {\"year\": 2010, \"subject_race\": \"asian/pacific islander\", \"reason_for_stop\": \"vehicle equipment violation\", \"count\": 7}, {\"year\": 2010, \"subject_race\": \"black\", \"reason_for_stop\": \"child restraint\", \"count\": 6}, {\"year\": 2010, \"subject_race\": \"black\", \"reason_for_stop\": \"investigative stop\", \"count\": 306}, {\"year\": 2010, \"subject_race\": \"black\", \"reason_for_stop\": \"moving traffic violation\", \"count\": 1216}, {\"year\": 2010, \"subject_race\": \"black\", \"reason_for_stop\": \"parking violation\", \"count\": 2}, {\"year\": 2010, \"subject_race\": \"black\", \"reason_for_stop\": \"registration\", \"count\": 37}, {\"year\": 2010, \"subject_race\": \"black\", \"reason_for_stop\": \"safety violation\", \"count\": 48}, {\"year\": 2010, \"subject_race\": \"black\", \"reason_for_stop\": \"seatbelt violation\", \"count\": 99}, {\"year\": 2010, \"subject_race\": \"black\", \"reason_for_stop\": \"unknown\", \"count\": 15}, {\"year\": 2010, \"subject_race\": \"black\", \"reason_for_stop\": \"vehicle equipment violation\", \"count\": 1277}, {\"year\": 2010, \"subject_race\": \"hispanic\", \"reason_for_stop\": \"investigative stop\", \"count\": 103}, {\"year\": 2010, \"subject_race\": \"hispanic\", \"reason_for_stop\": \"moving traffic violation\", \"count\": 391}, {\"year\": 2010, \"subject_race\": \"hispanic\", \"reason_for_stop\": \"parking violation\", \"count\": 2}, {\"year\": 2010, \"subject_race\": \"hispanic\", \"reason_for_stop\": \"registration\", \"count\": 4}, {\"year\": 2010, \"subject_race\": \"hispanic\", \"reason_for_stop\": \"safety violation\", \"count\": 8}, {\"year\": 2010, \"subject_race\": \"hispanic\", \"reason_for_stop\": \"seatbelt violation\", \"count\": 20}, {\"year\": 2010, \"subject_race\": \"hispanic\", \"reason_for_stop\": \"unknown\", \"count\": 4}, {\"year\": 2010, \"subject_race\": \"hispanic\", \"reason_for_stop\": \"vehicle equipment violation\", \"count\": 243}, {\"year\": 2010, \"subject_race\": \"white\", \"reason_for_stop\": \"child restraint\", \"count\": 1}, {\"year\": 2010, \"subject_race\": \"white\", \"reason_for_stop\": \"investigative stop\", \"count\": 301}, {\"year\": 2010, \"subject_race\": \"white\", \"reason_for_stop\": \"moving traffic violation\", \"count\": 1124}, {\"year\": 2010, \"subject_race\": \"white\", \"reason_for_stop\": \"parking violation\", \"count\": 2}, {\"year\": 2010, \"subject_race\": \"white\", \"reason_for_stop\": \"registration\", \"count\": 28}, {\"year\": 2010, \"subject_race\": \"white\", \"reason_for_stop\": \"safety violation\", \"count\": 25}, {\"year\": 2010, \"subject_race\": \"white\", \"reason_for_stop\": \"seatbelt violation\", \"count\": 59}, {\"year\": 2010, \"subject_race\": \"white\", \"reason_for_stop\": \"unknown\", \"count\": 16}, {\"year\": 2010, \"subject_race\": \"white\", \"reason_for_stop\": \"vehicle equipment violation\", \"count\": 696}, {\"year\": 2011, \"subject_race\": \"asian/pacific islander\", \"reason_for_stop\": \"investigative stop\", \"count\": 1}, {\"year\": 2011, \"subject_race\": \"asian/pacific islander\", \"reason_for_stop\": \"moving traffic violation\", \"count\": 14}, {\"year\": 2011, \"subject_race\": \"asian/pacific islander\", \"reason_for_stop\": \"registration\", \"count\": 2}, {\"year\": 2011, \"subject_race\": \"asian/pacific islander\", \"reason_for_stop\": \"seatbelt violation\", \"count\": 3}, {\"year\": 2011, \"subject_race\": \"asian/pacific islander\", \"reason_for_stop\": \"vehicle equipment violation\", \"count\": 13}, {\"year\": 2011, \"subject_race\": \"black\", \"reason_for_stop\": \"child restraint\", \"count\": 1}, {\"year\": 2011, \"subject_race\": \"black\", \"reason_for_stop\": \"investigative stop\", \"count\": 301}, {\"year\": 2011, \"subject_race\": \"black\", \"reason_for_stop\": \"moving traffic violation\", \"count\": 1418}, {\"year\": 2011, \"subject_race\": \"black\", \"reason_for_stop\": \"parking violation\", \"count\": 7}, {\"year\": 2011, \"subject_race\": \"black\", \"reason_for_stop\": \"registration\", \"count\": 96}, {\"year\": 2011, \"subject_race\": \"black\", \"reason_for_stop\": \"safety violation\", \"count\": 110}, {\"year\": 2011, \"subject_race\": \"black\", \"reason_for_stop\": \"seatbelt violation\", \"count\": 135}, {\"year\": 2011, \"subject_race\": \"black\", \"reason_for_stop\": \"unknown\", \"count\": 16}, {\"year\": 2011, \"subject_race\": \"black\", \"reason_for_stop\": \"vehicle equipment violation\", \"count\": 1371}, {\"year\": 2011, \"subject_race\": \"hispanic\", \"reason_for_stop\": \"child restraint\", \"count\": 1}, {\"year\": 2011, \"subject_race\": \"hispanic\", \"reason_for_stop\": \"investigative stop\", \"count\": 72}, {\"year\": 2011, \"subject_race\": \"hispanic\", \"reason_for_stop\": \"moving traffic violation\", \"count\": 346}, {\"year\": 2011, \"subject_race\": \"hispanic\", \"reason_for_stop\": \"parking violation\", \"count\": 1}, {\"year\": 2011, \"subject_race\": \"hispanic\", \"reason_for_stop\": \"registration\", \"count\": 14}, {\"year\": 2011, \"subject_race\": \"hispanic\", \"reason_for_stop\": \"safety violation\", \"count\": 14}, {\"year\": 2011, \"subject_race\": \"hispanic\", \"reason_for_stop\": \"seatbelt violation\", \"count\": 20}, {\"year\": 2011, \"subject_race\": \"hispanic\", \"reason_for_stop\": \"unknown\", \"count\": 6}, {\"year\": 2011, \"subject_race\": \"hispanic\", \"reason_for_stop\": \"vehicle equipment violation\", \"count\": 250}, {\"year\": 2011, \"subject_race\": \"white\", \"reason_for_stop\": \"child restraint\", \"count\": 3}, {\"year\": 2011, \"subject_race\": \"white\", \"reason_for_stop\": \"investigative stop\", \"count\": 327}, {\"year\": 2011, \"subject_race\": \"white\", \"reason_for_stop\": \"moving traffic violation\", \"count\": 1276}, {\"year\": 2011, \"subject_race\": \"white\", \"reason_for_stop\": \"parking violation\", \"count\": 6}, {\"year\": 2011, \"subject_race\": \"white\", \"reason_for_stop\": \"registration\", \"count\": 53}, {\"year\": 2011, \"subject_race\": \"white\", \"reason_for_stop\": \"safety violation\", \"count\": 50}, {\"year\": 2011, \"subject_race\": \"white\", \"reason_for_stop\": \"seatbelt violation\", \"count\": 89}, {\"year\": 2011, \"subject_race\": \"white\", \"reason_for_stop\": \"unknown\", \"count\": 17}, {\"year\": 2011, \"subject_race\": \"white\", \"reason_for_stop\": \"vehicle equipment violation\", \"count\": 894}, {\"year\": 2012, \"subject_race\": \"asian/pacific islander\", \"reason_for_stop\": \"investigative stop\", \"count\": 6}, {\"year\": 2012, \"subject_race\": \"asian/pacific islander\", \"reason_for_stop\": \"moving traffic violation\", \"count\": 22}, {\"year\": 2012, \"subject_race\": \"asian/pacific islander\", \"reason_for_stop\": \"seatbelt violation\", \"count\": 1}, {\"year\": 2012, \"subject_race\": \"asian/pacific islander\", \"reason_for_stop\": \"vehicle equipment violation\", \"count\": 11}, {\"year\": 2012, \"subject_race\": \"black\", \"reason_for_stop\": \"child restraint\", \"count\": 8}, {\"year\": 2012, \"subject_race\": \"black\", \"reason_for_stop\": \"investigative stop\", \"count\": 245}, {\"year\": 2012, \"subject_race\": \"black\", \"reason_for_stop\": \"moving traffic violation\", \"count\": 1507}, {\"year\": 2012, \"subject_race\": \"black\", \"reason_for_stop\": \"parking violation\", \"count\": 9}, {\"year\": 2012, \"subject_race\": \"black\", \"reason_for_stop\": \"registration\", \"count\": 148}, {\"year\": 2012, \"subject_race\": \"black\", \"reason_for_stop\": \"safety violation\", \"count\": 178}, {\"year\": 2012, \"subject_race\": \"black\", \"reason_for_stop\": \"seatbelt violation\", \"count\": 128}, {\"year\": 2012, \"subject_race\": \"black\", \"reason_for_stop\": \"unknown\", \"count\": 14}, {\"year\": 2012, \"subject_race\": \"black\", \"reason_for_stop\": \"vehicle equipment violation\", \"count\": 1078}, {\"year\": 2012, \"subject_race\": \"hispanic\", \"reason_for_stop\": \"child restraint\", \"count\": 1}, {\"year\": 2012, \"subject_race\": \"hispanic\", \"reason_for_stop\": \"investigative stop\", \"count\": 48}, {\"year\": 2012, \"subject_race\": \"hispanic\", \"reason_for_stop\": \"moving traffic violation\", \"count\": 327}, {\"year\": 2012, \"subject_race\": \"hispanic\", \"reason_for_stop\": \"parking violation\", \"count\": 1}, {\"year\": 2012, \"subject_race\": \"hispanic\", \"reason_for_stop\": \"registration\", \"count\": 14}, {\"year\": 2012, \"subject_race\": \"hispanic\", \"reason_for_stop\": \"safety violation\", \"count\": 22}, {\"year\": 2012, \"subject_race\": \"hispanic\", \"reason_for_stop\": \"seatbelt violation\", \"count\": 16}, {\"year\": 2012, \"subject_race\": \"hispanic\", \"reason_for_stop\": \"unknown\", \"count\": 2}, {\"year\": 2012, \"subject_race\": \"hispanic\", \"reason_for_stop\": \"vehicle equipment violation\", \"count\": 212}, {\"year\": 2012, \"subject_race\": \"white\", \"reason_for_stop\": \"investigative stop\", \"count\": 298}, {\"year\": 2012, \"subject_race\": \"white\", \"reason_for_stop\": \"moving traffic violation\", \"count\": 1431}, {\"year\": 2012, \"subject_race\": \"white\", \"reason_for_stop\": \"parking violation\", \"count\": 7}, {\"year\": 2012, \"subject_race\": \"white\", \"reason_for_stop\": \"registration\", \"count\": 73}, {\"year\": 2012, \"subject_race\": \"white\", \"reason_for_stop\": \"safety violation\", \"count\": 74}, {\"year\": 2012, \"subject_race\": \"white\", \"reason_for_stop\": \"seatbelt violation\", \"count\": 102}, {\"year\": 2012, \"subject_race\": \"white\", \"reason_for_stop\": \"unknown\", \"count\": 16}, {\"year\": 2012, \"subject_race\": \"white\", \"reason_for_stop\": \"vehicle equipment violation\", \"count\": 707}, {\"year\": 2013, \"subject_race\": \"asian/pacific islander\", \"reason_for_stop\": \"investigative stop\", \"count\": 3}, {\"year\": 2013, \"subject_race\": \"asian/pacific islander\", \"reason_for_stop\": \"moving traffic violation\", \"count\": 18}, {\"year\": 2013, \"subject_race\": \"asian/pacific islander\", \"reason_for_stop\": \"registration\", \"count\": 1}, {\"year\": 2013, \"subject_race\": \"asian/pacific islander\", \"reason_for_stop\": \"safety violation\", \"count\": 1}, {\"year\": 2013, \"subject_race\": \"asian/pacific islander\", \"reason_for_stop\": \"seatbelt violation\", \"count\": 1}, {\"year\": 2013, \"subject_race\": \"asian/pacific islander\", \"reason_for_stop\": \"unknown\", \"count\": 1}, {\"year\": 2013, \"subject_race\": \"asian/pacific islander\", \"reason_for_stop\": \"vehicle equipment violation\", \"count\": 12}, {\"year\": 2013, \"subject_race\": \"black\", \"reason_for_stop\": \"child restraint\", \"count\": 3}, {\"year\": 2013, \"subject_race\": \"black\", \"reason_for_stop\": \"investigative stop\", \"count\": 249}, {\"year\": 2013, \"subject_race\": \"black\", \"reason_for_stop\": \"moving traffic violation\", \"count\": 1448}, {\"year\": 2013, \"subject_race\": \"black\", \"reason_for_stop\": \"parking violation\", \"count\": 7}, {\"year\": 2013, \"subject_race\": \"black\", \"reason_for_stop\": \"registration\", \"count\": 243}, {\"year\": 2013, \"subject_race\": \"black\", \"reason_for_stop\": \"safety violation\", \"count\": 183}, {\"year\": 2013, \"subject_race\": \"black\", \"reason_for_stop\": \"seatbelt violation\", \"count\": 126}, {\"year\": 2013, \"subject_race\": \"black\", \"reason_for_stop\": \"unknown\", \"count\": 27}, {\"year\": 2013, \"subject_race\": \"black\", \"reason_for_stop\": \"vehicle equipment violation\", \"count\": 884}, {\"year\": 2013, \"subject_race\": \"hispanic\", \"reason_for_stop\": \"investigative stop\", \"count\": 69}, {\"year\": 2013, \"subject_race\": \"hispanic\", \"reason_for_stop\": \"moving traffic violation\", \"count\": 315}, {\"year\": 2013, \"subject_race\": \"hispanic\", \"reason_for_stop\": \"parking violation\", \"count\": 1}, {\"year\": 2013, \"subject_race\": \"hispanic\", \"reason_for_stop\": \"registration\", \"count\": 20}, {\"year\": 2013, \"subject_race\": \"hispanic\", \"reason_for_stop\": \"safety violation\", \"count\": 35}, {\"year\": 2013, \"subject_race\": \"hispanic\", \"reason_for_stop\": \"seatbelt violation\", \"count\": 20}, {\"year\": 2013, \"subject_race\": \"hispanic\", \"reason_for_stop\": \"unknown\", \"count\": 3}, {\"year\": 2013, \"subject_race\": \"hispanic\", \"reason_for_stop\": \"vehicle equipment violation\", \"count\": 108}, {\"year\": 2013, \"subject_race\": \"white\", \"reason_for_stop\": \"child restraint\", \"count\": 1}, {\"year\": 2013, \"subject_race\": \"white\", \"reason_for_stop\": \"investigative stop\", \"count\": 211}, {\"year\": 2013, \"subject_race\": \"white\", \"reason_for_stop\": \"moving traffic violation\", \"count\": 1127}, {\"year\": 2013, \"subject_race\": \"white\", \"reason_for_stop\": \"parking violation\", \"count\": 6}, {\"year\": 2013, \"subject_race\": \"white\", \"reason_for_stop\": \"registration\", \"count\": 106}, {\"year\": 2013, \"subject_race\": \"white\", \"reason_for_stop\": \"safety violation\", \"count\": 105}, {\"year\": 2013, \"subject_race\": \"white\", \"reason_for_stop\": \"seatbelt violation\", \"count\": 56}, {\"year\": 2013, \"subject_race\": \"white\", \"reason_for_stop\": \"unknown\", \"count\": 14}, {\"year\": 2013, \"subject_race\": \"white\", \"reason_for_stop\": \"vehicle equipment violation\", \"count\": 468}, {\"year\": 2014, \"subject_race\": \"asian/pacific islander\", \"reason_for_stop\": \"investigative stop\", \"count\": 2}, {\"year\": 2014, \"subject_race\": \"asian/pacific islander\", \"reason_for_stop\": \"moving traffic violation\", \"count\": 24}, {\"year\": 2014, \"subject_race\": \"asian/pacific islander\", \"reason_for_stop\": \"registration\", \"count\": 2}, {\"year\": 2014, \"subject_race\": \"asian/pacific islander\", \"reason_for_stop\": \"vehicle equipment violation\", \"count\": 13}, {\"year\": 2014, \"subject_race\": \"black\", \"reason_for_stop\": \"child restraint\", \"count\": 5}, {\"year\": 2014, \"subject_race\": \"black\", \"reason_for_stop\": \"investigative stop\", \"count\": 236}, {\"year\": 2014, \"subject_race\": \"black\", \"reason_for_stop\": \"moving traffic violation\", \"count\": 1480}, {\"year\": 2014, \"subject_race\": \"black\", \"reason_for_stop\": \"parking violation\", \"count\": 5}, {\"year\": 2014, \"subject_race\": \"black\", \"reason_for_stop\": \"registration\", \"count\": 261}, {\"year\": 2014, \"subject_race\": \"black\", \"reason_for_stop\": \"safety violation\", \"count\": 261}, {\"year\": 2014, \"subject_race\": \"black\", \"reason_for_stop\": \"seatbelt violation\", \"count\": 109}, {\"year\": 2014, \"subject_race\": \"black\", \"reason_for_stop\": \"unknown\", \"count\": 17}, {\"year\": 2014, \"subject_race\": \"black\", \"reason_for_stop\": \"vehicle equipment violation\", \"count\": 957}, {\"year\": 2014, \"subject_race\": \"hispanic\", \"reason_for_stop\": \"investigative stop\", \"count\": 48}, {\"year\": 2014, \"subject_race\": \"hispanic\", \"reason_for_stop\": \"moving traffic violation\", \"count\": 303}, {\"year\": 2014, \"subject_race\": \"hispanic\", \"reason_for_stop\": \"registration\", \"count\": 26}, {\"year\": 2014, \"subject_race\": \"hispanic\", \"reason_for_stop\": \"safety violation\", \"count\": 42}, {\"year\": 2014, \"subject_race\": \"hispanic\", \"reason_for_stop\": \"seatbelt violation\", \"count\": 18}, {\"year\": 2014, \"subject_race\": \"hispanic\", \"reason_for_stop\": \"unknown\", \"count\": 1}, {\"year\": 2014, \"subject_race\": \"hispanic\", \"reason_for_stop\": \"vehicle equipment violation\", \"count\": 126}, {\"year\": 2014, \"subject_race\": \"white\", \"reason_for_stop\": \"child restraint\", \"count\": 1}, {\"year\": 2014, \"subject_race\": \"white\", \"reason_for_stop\": \"investigative stop\", \"count\": 222}, {\"year\": 2014, \"subject_race\": \"white\", \"reason_for_stop\": \"moving traffic violation\", \"count\": 1063}, {\"year\": 2014, \"subject_race\": \"white\", \"reason_for_stop\": \"parking violation\", \"count\": 4}, {\"year\": 2014, \"subject_race\": \"white\", \"reason_for_stop\": \"registration\", \"count\": 138}, {\"year\": 2014, \"subject_race\": \"white\", \"reason_for_stop\": \"safety violation\", \"count\": 153}, {\"year\": 2014, \"subject_race\": \"white\", \"reason_for_stop\": \"seatbelt violation\", \"count\": 98}, {\"year\": 2014, \"subject_race\": \"white\", \"reason_for_stop\": \"unknown\", \"count\": 17}, {\"year\": 2014, \"subject_race\": \"white\", \"reason_for_stop\": \"vehicle equipment violation\", \"count\": 450}, {\"year\": 2015, \"subject_race\": \"asian/pacific islander\", \"reason_for_stop\": \"investigative stop\", \"count\": 6}, {\"year\": 2015, \"subject_race\": \"asian/pacific islander\", \"reason_for_stop\": \"moving traffic violation\", \"count\": 21}, {\"year\": 2015, \"subject_race\": \"asian/pacific islander\", \"reason_for_stop\": \"registration\", \"count\": 1}, {\"year\": 2015, \"subject_race\": \"asian/pacific islander\", \"reason_for_stop\": \"safety violation\", \"count\": 5}, {\"year\": 2015, \"subject_race\": \"asian/pacific islander\", \"reason_for_stop\": \"vehicle equipment violation\", \"count\": 5}, {\"year\": 2015, \"subject_race\": \"black\", \"reason_for_stop\": \"child restraint\", \"count\": 2}, {\"year\": 2015, \"subject_race\": \"black\", \"reason_for_stop\": \"investigative stop\", \"count\": 222}, {\"year\": 2015, \"subject_race\": \"black\", \"reason_for_stop\": \"moving traffic violation\", \"count\": 1299}, {\"year\": 2015, \"subject_race\": \"black\", \"reason_for_stop\": \"parking violation\", \"count\": 10}, {\"year\": 2015, \"subject_race\": \"black\", \"reason_for_stop\": \"registration\", \"count\": 311}, {\"year\": 2015, \"subject_race\": \"black\", \"reason_for_stop\": \"safety violation\", \"count\": 277}, {\"year\": 2015, \"subject_race\": \"black\", \"reason_for_stop\": \"seatbelt violation\", \"count\": 119}, {\"year\": 2015, \"subject_race\": \"black\", \"reason_for_stop\": \"unknown\", \"count\": 28}, {\"year\": 2015, \"subject_race\": \"black\", \"reason_for_stop\": \"vehicle equipment violation\", \"count\": 897}, {\"year\": 2015, \"subject_race\": \"hispanic\", \"reason_for_stop\": \"investigative stop\", \"count\": 40}, {\"year\": 2015, \"subject_race\": \"hispanic\", \"reason_for_stop\": \"moving traffic violation\", \"count\": 312}, {\"year\": 2015, \"subject_race\": \"hispanic\", \"reason_for_stop\": \"parking violation\", \"count\": 2}, {\"year\": 2015, \"subject_race\": \"hispanic\", \"reason_for_stop\": \"registration\", \"count\": 27}, {\"year\": 2015, \"subject_race\": \"hispanic\", \"reason_for_stop\": \"safety violation\", \"count\": 54}, {\"year\": 2015, \"subject_race\": \"hispanic\", \"reason_for_stop\": \"seatbelt violation\", \"count\": 24}, {\"year\": 2015, \"subject_race\": \"hispanic\", \"reason_for_stop\": \"unknown\", \"count\": 2}, {\"year\": 2015, \"subject_race\": \"hispanic\", \"reason_for_stop\": \"vehicle equipment violation\", \"count\": 138}, {\"year\": 2015, \"subject_race\": \"white\", \"reason_for_stop\": \"child restraint\", \"count\": 2}, {\"year\": 2015, \"subject_race\": \"white\", \"reason_for_stop\": \"investigative stop\", \"count\": 172}, {\"year\": 2015, \"subject_race\": \"white\", \"reason_for_stop\": \"moving traffic violation\", \"count\": 852}, {\"year\": 2015, \"subject_race\": \"white\", \"reason_for_stop\": \"registration\", \"count\": 145}, {\"year\": 2015, \"subject_race\": \"white\", \"reason_for_stop\": \"safety violation\", \"count\": 132}, {\"year\": 2015, \"subject_race\": \"white\", \"reason_for_stop\": \"seatbelt violation\", \"count\": 90}, {\"year\": 2015, \"subject_race\": \"white\", \"reason_for_stop\": \"unknown\", \"count\": 15}, {\"year\": 2015, \"subject_race\": \"white\", \"reason_for_stop\": \"vehicle equipment violation\", \"count\": 466}, {\"year\": 2016, \"subject_race\": \"asian/pacific islander\", \"reason_for_stop\": \"investigative stop\", \"count\": 3}, {\"year\": 2016, \"subject_race\": \"asian/pacific islander\", \"reason_for_stop\": \"moving traffic violation\", \"count\": 14}, {\"year\": 2016, \"subject_race\": \"asian/pacific islander\", \"reason_for_stop\": \"registration\", \"count\": 3}, {\"year\": 2016, \"subject_race\": \"asian/pacific islander\", \"reason_for_stop\": \"safety violation\", \"count\": 2}, {\"year\": 2016, \"subject_race\": \"asian/pacific islander\", \"reason_for_stop\": \"vehicle equipment violation\", \"count\": 4}, {\"year\": 2016, \"subject_race\": \"black\", \"reason_for_stop\": \"child restraint\", \"count\": 2}, {\"year\": 2016, \"subject_race\": \"black\", \"reason_for_stop\": \"investigative stop\", \"count\": 174}, {\"year\": 2016, \"subject_race\": \"black\", \"reason_for_stop\": \"moving traffic violation\", \"count\": 1001}, {\"year\": 2016, \"subject_race\": \"black\", \"reason_for_stop\": \"parking violation\", \"count\": 3}, {\"year\": 2016, \"subject_race\": \"black\", \"reason_for_stop\": \"registration\", \"count\": 249}, {\"year\": 2016, \"subject_race\": \"black\", \"reason_for_stop\": \"safety violation\", \"count\": 235}, {\"year\": 2016, \"subject_race\": \"black\", \"reason_for_stop\": \"seatbelt violation\", \"count\": 99}, {\"year\": 2016, \"subject_race\": \"black\", \"reason_for_stop\": \"unknown\", \"count\": 17}, {\"year\": 2016, \"subject_race\": \"black\", \"reason_for_stop\": \"vehicle equipment violation\", \"count\": 834}, {\"year\": 2016, \"subject_race\": \"hispanic\", \"reason_for_stop\": \"investigative stop\", \"count\": 26}, {\"year\": 2016, \"subject_race\": \"hispanic\", \"reason_for_stop\": \"moving traffic violation\", \"count\": 262}, {\"year\": 2016, \"subject_race\": \"hispanic\", \"reason_for_stop\": \"registration\", \"count\": 29}, {\"year\": 2016, \"subject_race\": \"hispanic\", \"reason_for_stop\": \"safety violation\", \"count\": 41}, {\"year\": 2016, \"subject_race\": \"hispanic\", \"reason_for_stop\": \"seatbelt violation\", \"count\": 22}, {\"year\": 2016, \"subject_race\": \"hispanic\", \"reason_for_stop\": \"unknown\", \"count\": 5}, {\"year\": 2016, \"subject_race\": \"hispanic\", \"reason_for_stop\": \"vehicle equipment violation\", \"count\": 118}, {\"year\": 2016, \"subject_race\": \"white\", \"reason_for_stop\": \"investigative stop\", \"count\": 153}, {\"year\": 2016, \"subject_race\": \"white\", \"reason_for_stop\": \"moving traffic violation\", \"count\": 735}, {\"year\": 2016, \"subject_race\": \"white\", \"reason_for_stop\": \"parking violation\", \"count\": 2}, {\"year\": 2016, \"subject_race\": \"white\", \"reason_for_stop\": \"registration\", \"count\": 159}, {\"year\": 2016, \"subject_race\": \"white\", \"reason_for_stop\": \"safety violation\", \"count\": 120}, {\"year\": 2016, \"subject_race\": \"white\", \"reason_for_stop\": \"seatbelt violation\", \"count\": 69}, {\"year\": 2016, \"subject_race\": \"white\", \"reason_for_stop\": \"unknown\", \"count\": 10}, {\"year\": 2016, \"subject_race\": \"white\", \"reason_for_stop\": \"vehicle equipment violation\", \"count\": 405}, {\"year\": 2017, \"subject_race\": \"asian/pacific islander\", \"reason_for_stop\": \"investigative stop\", \"count\": 5}, {\"year\": 2017, \"subject_race\": \"asian/pacific islander\", \"reason_for_stop\": \"moving traffic violation\", \"count\": 10}, {\"year\": 2017, \"subject_race\": \"asian/pacific islander\", \"reason_for_stop\": \"safety violation\", \"count\": 1}, {\"year\": 2017, \"subject_race\": \"asian/pacific islander\", \"reason_for_stop\": \"vehicle equipment violation\", \"count\": 4}, {\"year\": 2017, \"subject_race\": \"black\", \"reason_for_stop\": \"child restraint\", \"count\": 1}, {\"year\": 2017, \"subject_race\": \"black\", \"reason_for_stop\": \"investigative stop\", \"count\": 173}, {\"year\": 2017, \"subject_race\": \"black\", \"reason_for_stop\": \"moving traffic violation\", \"count\": 800}, {\"year\": 2017, \"subject_race\": \"black\", \"reason_for_stop\": \"parking violation\", \"count\": 3}, {\"year\": 2017, \"subject_race\": \"black\", \"reason_for_stop\": \"registration\", \"count\": 244}, {\"year\": 2017, \"subject_race\": \"black\", \"reason_for_stop\": \"safety violation\", \"count\": 136}, {\"year\": 2017, \"subject_race\": \"black\", \"reason_for_stop\": \"seatbelt violation\", \"count\": 72}, {\"year\": 2017, \"subject_race\": \"black\", \"reason_for_stop\": \"unknown\", \"count\": 14}, {\"year\": 2017, \"subject_race\": \"black\", \"reason_for_stop\": \"vehicle equipment violation\", \"count\": 630}, {\"year\": 2017, \"subject_race\": \"hispanic\", \"reason_for_stop\": \"investigative stop\", \"count\": 27}, {\"year\": 2017, \"subject_race\": \"hispanic\", \"reason_for_stop\": \"moving traffic violation\", \"count\": 203}, {\"year\": 2017, \"subject_race\": \"hispanic\", \"reason_for_stop\": \"registration\", \"count\": 18}, {\"year\": 2017, \"subject_race\": \"hispanic\", \"reason_for_stop\": \"safety violation\", \"count\": 28}, {\"year\": 2017, \"subject_race\": \"hispanic\", \"reason_for_stop\": \"seatbelt violation\", \"count\": 6}, {\"year\": 2017, \"subject_race\": \"hispanic\", \"reason_for_stop\": \"unknown\", \"count\": 4}, {\"year\": 2017, \"subject_race\": \"hispanic\", \"reason_for_stop\": \"vehicle equipment violation\", \"count\": 78}, {\"year\": 2017, \"subject_race\": \"white\", \"reason_for_stop\": \"investigative stop\", \"count\": 143}, {\"year\": 2017, \"subject_race\": \"white\", \"reason_for_stop\": \"moving traffic violation\", \"count\": 664}, {\"year\": 2017, \"subject_race\": \"white\", \"reason_for_stop\": \"registration\", \"count\": 171}, {\"year\": 2017, \"subject_race\": \"white\", \"reason_for_stop\": \"safety violation\", \"count\": 59}, {\"year\": 2017, \"subject_race\": \"white\", \"reason_for_stop\": \"seatbelt violation\", \"count\": 46}, {\"year\": 2017, \"subject_race\": \"white\", \"reason_for_stop\": \"unknown\", \"count\": 17}, {\"year\": 2017, \"subject_race\": \"white\", \"reason_for_stop\": \"vehicle equipment violation\", \"count\": 290}, {\"year\": 2018, \"subject_race\": \"asian/pacific islander\", \"reason_for_stop\": \"investigative stop\", \"count\": 4}, {\"year\": 2018, \"subject_race\": \"asian/pacific islander\", \"reason_for_stop\": \"moving traffic violation\", \"count\": 10}, {\"year\": 2018, \"subject_race\": \"asian/pacific islander\", \"reason_for_stop\": \"registration\", \"count\": 3}, {\"year\": 2018, \"subject_race\": \"asian/pacific islander\", \"reason_for_stop\": \"safety violation\", \"count\": 1}, {\"year\": 2018, \"subject_race\": \"asian/pacific islander\", \"reason_for_stop\": \"unknown\", \"count\": 1}, {\"year\": 2018, \"subject_race\": \"asian/pacific islander\", \"reason_for_stop\": \"vehicle equipment violation\", \"count\": 4}, {\"year\": 2018, \"subject_race\": \"black\", \"reason_for_stop\": \"investigative stop\", \"count\": 173}, {\"year\": 2018, \"subject_race\": \"black\", \"reason_for_stop\": \"moving traffic violation\", \"count\": 756}, {\"year\": 2018, \"subject_race\": \"black\", \"reason_for_stop\": \"parking violation\", \"count\": 3}, {\"year\": 2018, \"subject_race\": \"black\", \"reason_for_stop\": \"registration\", \"count\": 305}, {\"year\": 2018, \"subject_race\": \"black\", \"reason_for_stop\": \"safety violation\", \"count\": 191}, {\"year\": 2018, \"subject_race\": \"black\", \"reason_for_stop\": \"seatbelt violation\", \"count\": 63}, {\"year\": 2018, \"subject_race\": \"black\", \"reason_for_stop\": \"unknown\", \"count\": 25}, {\"year\": 2018, \"subject_race\": \"black\", \"reason_for_stop\": \"vehicle equipment violation\", \"count\": 520}, {\"year\": 2018, \"subject_race\": \"hispanic\", \"reason_for_stop\": \"investigative stop\", \"count\": 37}, {\"year\": 2018, \"subject_race\": \"hispanic\", \"reason_for_stop\": \"moving traffic violation\", \"count\": 181}, {\"year\": 2018, \"subject_race\": \"hispanic\", \"reason_for_stop\": \"registration\", \"count\": 26}, {\"year\": 2018, \"subject_race\": \"hispanic\", \"reason_for_stop\": \"safety violation\", \"count\": 30}, {\"year\": 2018, \"subject_race\": \"hispanic\", \"reason_for_stop\": \"seatbelt violation\", \"count\": 5}, {\"year\": 2018, \"subject_race\": \"hispanic\", \"reason_for_stop\": \"unknown\", \"count\": 6}, {\"year\": 2018, \"subject_race\": \"hispanic\", \"reason_for_stop\": \"vehicle equipment violation\", \"count\": 64}, {\"year\": 2018, \"subject_race\": \"white\", \"reason_for_stop\": \"investigative stop\", \"count\": 132}, {\"year\": 2018, \"subject_race\": \"white\", \"reason_for_stop\": \"moving traffic violation\", \"count\": 493}, {\"year\": 2018, \"subject_race\": \"white\", \"reason_for_stop\": \"parking violation\", \"count\": 2}, {\"year\": 2018, \"subject_race\": \"white\", \"reason_for_stop\": \"registration\", \"count\": 171}, {\"year\": 2018, \"subject_race\": \"white\", \"reason_for_stop\": \"safety violation\", \"count\": 84}, {\"year\": 2018, \"subject_race\": \"white\", \"reason_for_stop\": \"seatbelt violation\", \"count\": 24}, {\"year\": 2018, \"subject_race\": \"white\", \"reason_for_stop\": \"unknown\", \"count\": 16}, {\"year\": 2018, \"subject_race\": \"white\", \"reason_for_stop\": \"vehicle equipment violation\", \"count\": 272}]}}, {\"mode\": \"vega-lite\"});\n",
              "</script>"
            ],
            "text/plain": [
              "alt.Chart(...)"
            ]
          },
          "execution_count": 44,
          "metadata": {},
          "output_type": "execute_result"
        }
      ],
      "source": [
        "reason_stopped_and_arrested_by_race_chart = alt.Chart(reason_stopped_and_arrested_by_race[\n",
        "                                                      reason_stopped_and_arrested_by_race['subject_race']\n",
        "                                                      != 'unknown'\n",
        "                                                      ]).mark_line().encode(\n",
        "    y = 'count',\n",
        "    x = 'year',\n",
        "    color = 'reason_for_stop',\n",
        "    facet=alt.Facet('subject_race', columns=4)\n",
        ").properties(title = 'STOP REASON FOR ARRESTS BY RACE', width=300,height=300)\n",
        "reason_stopped_and_arrested_by_race_chart"
      ]
    },
    {
      "cell_type": "markdown",
      "metadata": {
        "id": "0t6kVxtHxOsl"
      },
      "source": [
        "#### The above graph tells us that the highest amount of stops are for whites and blacks and the most common reason for the stop is a moving traffic violation"
      ]
    },
    {
      "cell_type": "markdown",
      "metadata": {
        "id": "ER7s4Z1aEXn9"
      },
      "source": [
        "### **Part 3. Analysis of Geographical Disparity in Traffic Stops**\n",
        "\n"
      ]
    },
    {
      "cell_type": "markdown",
      "metadata": {
        "id": "ZvMMa3ltbM2_"
      },
      "source": [
        "\n",
        "**Question**: Were there some geographical areas with high number of traffic stops when the stricter policing stategy was implemented?\n",
        "\n",
        "**Methodology and Analysis**\n",
        "\n",
        "Analyzing Nashville PD's policing stops by precinct for 2011, before a surge in stops, is crucial for identifying spatial disparities in police activity, understanding varied policing strategies across precincts, and guiding resource allocation. This analysis not only provides a baseline for evaluating trends and policy impacts but also enhances transparency and accountability in policing. By pinpointing areas with high stop rates, it lays the groundwork for improving police-community relations and making informed decisions to foster public safety and trust.\n",
        "We aim to answer the above question by answering these smaller questions:\n",
        "\n",
        "\n",
        "1.   Was there location based disparity in 2011, the inception year of the stricter traffic stop policing strategy?\n",
        "2.   Over the years, do we observe any racial disparity in terms of traffic stops conducted by certain precincts?\n",
        "\n",
        "When we tried to plot all of our data to perform a cluster analysis, we recieved a big data computational error due to the high volume of the dataset. Hence, we decided to break the question into further subset, and use precincts as a higher level of abstraction to perform the geographical analysis.\n",
        "\n",
        "The policing strategies in neighborhoods is generally thought to be proportional to the expected crime rates. A way to measure it would be to check the historical crime rates for the neighborhood or to verify if the traffic stops made led to tangible outcomes in terms of arrests made or contraband seized. Since we do not have access to historical crime statistics, we analyze this question using arrest ratio and contraband hit rates.  \n",
        "\n",
        "\n",
        "**Hypothesis**: We expect to see difference in police stops across the city, but do not expect a disparity in terms of location."
      ]
    },
    {
      "cell_type": "markdown",
      "metadata": {
        "id": "ZFCnXYP_QXSs"
      },
      "source": [
        "#### *Analysis Precinct behaviour in 2011*"
      ]
    },
    {
      "cell_type": "code",
      "execution_count": null,
      "metadata": {
        "id": "GOnb8-ikFB7O"
      },
      "outputs": [],
      "source": [
        "df_loc = drop_null_df"
      ]
    },
    {
      "cell_type": "code",
      "execution_count": null,
      "metadata": {
        "colab": {
          "base_uri": "https://localhost:8080/"
        },
        "id": "6a1L-Y6NNITn",
        "outputId": "55f6014f-7977-4d11-debb-821e712f6a72"
      },
      "outputs": [
        {
          "data": {
            "text/plain": [
              "390221"
            ]
          },
          "execution_count": 46,
          "metadata": {},
          "output_type": "execute_result"
        }
      ],
      "source": [
        "df_loc['precinct'].isna().sum()"
      ]
    },
    {
      "cell_type": "code",
      "execution_count": null,
      "metadata": {
        "colab": {
          "base_uri": "https://localhost:8080/"
        },
        "id": "Dem02BDDMO3z",
        "outputId": "149bd846-b7cd-45fa-8c9b-1f6d24587f4a"
      },
      "outputs": [
        {
          "data": {
            "text/plain": [
              "precinct_cleaned\n",
              "5    449419\n",
              "3    423395\n",
              "8    417357\n",
              "U    390244\n",
              "2    378716\n",
              "1    305165\n",
              "6    284691\n",
              "4    234938\n",
              "7    194191\n",
              "Name: count, dtype: int64"
            ]
          },
          "execution_count": 47,
          "metadata": {},
          "output_type": "execute_result"
        }
      ],
      "source": [
        "df_loc['precinct_cleaned'] = df_loc['precinct'].apply(lambda x: str(int(float(str(x)))) if str(x).replace('.', '', 1).isdigit() else x).fillna('U')\n",
        "df_loc['precinct_cleaned'].value_counts()"
      ]
    },
    {
      "cell_type": "code",
      "execution_count": null,
      "metadata": {
        "colab": {
          "base_uri": "https://localhost:8080/"
        },
        "id": "3wj4FEodThkn",
        "outputId": "e35a0c57-195f-48df-d93e-b248765f489c"
      },
      "outputs": [
        {
          "data": {
            "text/plain": [
              "precinct_cleaned\n",
              "8    59520\n",
              "3    56955\n",
              "2    49844\n",
              "5    48570\n",
              "U    47569\n",
              "1    41442\n",
              "6    40132\n",
              "7    24814\n",
              "4    24402\n",
              "Name: count, dtype: int64"
            ]
          },
          "execution_count": 48,
          "metadata": {},
          "output_type": "execute_result"
        }
      ],
      "source": [
        "df_loc[df_loc['year'] == '2011']['precinct_cleaned'].value_counts()"
      ]
    },
    {
      "cell_type": "code",
      "execution_count": null,
      "metadata": {
        "id": "n3T2cEUuKVyt"
      },
      "outputs": [],
      "source": [
        "df_precint_of_interest_2011 = df_loc[(df_loc['year'] == '2011')]"
      ]
    },
    {
      "cell_type": "code",
      "execution_count": null,
      "metadata": {
        "colab": {
          "base_uri": "https://localhost:8080/",
          "height": 485
        },
        "id": "fOqMmHDdWinX",
        "outputId": "c480e0f2-ef5d-4e91-cd54-6dd1ff569757"
      },
      "outputs": [
        {
          "name": "stderr",
          "output_type": "stream",
          "text": [
            "/Users/nirvikgill/anaconda3/lib/python3.11/site-packages/altair/utils/core.py:395: FutureWarning: the convert_dtype parameter is deprecated and will be removed in a future version.  Do ``ser.astype(object).apply()`` instead if you want ``convert_dtype=False``.\n",
            "  col = df[col_name].apply(to_list_if_array, convert_dtype=False)\n"
          ]
        },
        {
          "data": {
            "text/html": [
              "\n",
              "<style>\n",
              "  #altair-viz-58ea0e95525e4411b350da6ef99a4dde.vega-embed {\n",
              "    width: 100%;\n",
              "    display: flex;\n",
              "  }\n",
              "\n",
              "  #altair-viz-58ea0e95525e4411b350da6ef99a4dde.vega-embed details,\n",
              "  #altair-viz-58ea0e95525e4411b350da6ef99a4dde.vega-embed details summary {\n",
              "    position: relative;\n",
              "  }\n",
              "</style>\n",
              "<div id=\"altair-viz-58ea0e95525e4411b350da6ef99a4dde\"></div>\n",
              "<script type=\"text/javascript\">\n",
              "  var VEGA_DEBUG = (typeof VEGA_DEBUG == \"undefined\") ? {} : VEGA_DEBUG;\n",
              "  (function(spec, embedOpt){\n",
              "    let outputDiv = document.currentScript.previousElementSibling;\n",
              "    if (outputDiv.id !== \"altair-viz-58ea0e95525e4411b350da6ef99a4dde\") {\n",
              "      outputDiv = document.getElementById(\"altair-viz-58ea0e95525e4411b350da6ef99a4dde\");\n",
              "    }\n",
              "    const paths = {\n",
              "      \"vega\": \"https://cdn.jsdelivr.net/npm/vega@5?noext\",\n",
              "      \"vega-lib\": \"https://cdn.jsdelivr.net/npm/vega-lib?noext\",\n",
              "      \"vega-lite\": \"https://cdn.jsdelivr.net/npm/vega-lite@5.8.0?noext\",\n",
              "      \"vega-embed\": \"https://cdn.jsdelivr.net/npm/vega-embed@6?noext\",\n",
              "    };\n",
              "\n",
              "    function maybeLoadScript(lib, version) {\n",
              "      var key = `${lib.replace(\"-\", \"\")}_version`;\n",
              "      return (VEGA_DEBUG[key] == version) ?\n",
              "        Promise.resolve(paths[lib]) :\n",
              "        new Promise(function(resolve, reject) {\n",
              "          var s = document.createElement('script');\n",
              "          document.getElementsByTagName(\"head\")[0].appendChild(s);\n",
              "          s.async = true;\n",
              "          s.onload = () => {\n",
              "            VEGA_DEBUG[key] = version;\n",
              "            return resolve(paths[lib]);\n",
              "          };\n",
              "          s.onerror = () => reject(`Error loading script: ${paths[lib]}`);\n",
              "          s.src = paths[lib];\n",
              "        });\n",
              "    }\n",
              "\n",
              "    function showError(err) {\n",
              "      outputDiv.innerHTML = `<div class=\"error\" style=\"color:red;\">${err}</div>`;\n",
              "      throw err;\n",
              "    }\n",
              "\n",
              "    function displayChart(vegaEmbed) {\n",
              "      vegaEmbed(outputDiv, spec, embedOpt)\n",
              "        .catch(err => showError(`Javascript Error: ${err.message}<br>This usually means there's a typo in your chart specification. See the javascript console for the full traceback.`));\n",
              "    }\n",
              "\n",
              "    if(typeof define === \"function\" && define.amd) {\n",
              "      requirejs.config({paths});\n",
              "      require([\"vega-embed\"], displayChart, err => showError(`Error loading script: ${err.message}`));\n",
              "    } else {\n",
              "      maybeLoadScript(\"vega\", \"5\")\n",
              "        .then(() => maybeLoadScript(\"vega-lite\", \"5.8.0\"))\n",
              "        .then(() => maybeLoadScript(\"vega-embed\", \"6\"))\n",
              "        .catch(showError)\n",
              "        .then(() => displayChart(vegaEmbed));\n",
              "    }\n",
              "  })({\"config\": {\"view\": {\"continuousWidth\": 300, \"continuousHeight\": 300}}, \"data\": {\"name\": \"data-182723014e3a887ddb4dd9fb9ad244b8\"}, \"mark\": {\"type\": \"bar\"}, \"encoding\": {\"color\": {\"condition\": {\"test\": \"(datum.precinct_cleaned === '8')\", \"value\": \"#f88\"}, \"value\": \"lightgray\"}, \"tooltip\": [{\"field\": \"precinct_cleaned\", \"type\": \"nominal\"}, {\"field\": \"count_stops\", \"type\": \"quantitative\"}], \"x\": {\"axis\": {\"labelAngle\": 0}, \"field\": \"precinct_cleaned\", \"sort\": null, \"title\": \"Precinct\", \"type\": \"nominal\"}, \"y\": {\"field\": \"count_stops\", \"title\": \"Count of Stops\", \"type\": \"quantitative\"}}, \"height\": 400, \"title\": \"2011 Stop Counts by Precinct with Precinct 8 Highlighted\", \"width\": 600, \"$schema\": \"https://vega.github.io/schema/vega-lite/v5.8.0.json\", \"datasets\": {\"data-182723014e3a887ddb4dd9fb9ad244b8\": [{\"precinct_cleaned\": \"1\", \"count_stops\": 41442}, {\"precinct_cleaned\": \"2\", \"count_stops\": 49844}, {\"precinct_cleaned\": \"3\", \"count_stops\": 56955}, {\"precinct_cleaned\": \"4\", \"count_stops\": 24402}, {\"precinct_cleaned\": \"5\", \"count_stops\": 48570}, {\"precinct_cleaned\": \"6\", \"count_stops\": 40132}, {\"precinct_cleaned\": \"7\", \"count_stops\": 24814}, {\"precinct_cleaned\": \"8\", \"count_stops\": 59520}, {\"precinct_cleaned\": \"U\", \"count_stops\": 47569}]}}, {\"mode\": \"vega-lite\"});\n",
              "</script>"
            ],
            "text/plain": [
              "alt.Chart(...)"
            ]
          },
          "metadata": {},
          "output_type": "display_data"
        }
      ],
      "source": [
        "stop_counts_2011 = df_precint_of_interest_2011.groupby('precinct_cleaned').size().reset_index(name = 'count_stops')\n",
        "\n",
        "# Plotting the bar chart\n",
        "chart = alt.Chart(stop_counts_2011).mark_bar().encode(\n",
        "    x=alt.X('precinct_cleaned:N', title='Precinct', axis=alt.Axis(labelAngle=0), sort=None),\n",
        "    y=alt.Y('count_stops:Q', title='Count of Stops'),\n",
        "    color=alt.condition(\n",
        "        alt.datum.precinct_cleaned == '8',\n",
        "        alt.value('#f88'),\n",
        "        alt.value('lightgray')\n",
        "    ),\n",
        "    tooltip=['precinct_cleaned', 'count_stops']\n",
        ").properties(\n",
        "    title='2011 Stop Counts by Precinct with Precinct 8 Highlighted',\n",
        "    width=600,\n",
        "    height=400\n",
        ")\n",
        "\n",
        "chart.display()"
      ]
    },
    {
      "cell_type": "code",
      "execution_count": null,
      "metadata": {
        "id": "H5dyS0tLXF2Z"
      },
      "outputs": [],
      "source": [
        "stop_frisks_2011 = df_precint_of_interest_2011[df_precint_of_interest_2011['frisk_performed'] == True].groupby('precinct_cleaned').size().reset_index(name = 'frisk_counts')\n",
        "stop_arrests_2011 = df_precint_of_interest_2011[df_precint_of_interest_2011['arrest_made'] == True].groupby('precinct_cleaned').size().reset_index(name = 'arrest_counts')\n",
        "stop_contraband_2011 = df_precint_of_interest_2011[df_precint_of_interest_2011['contraband_found'] == True].groupby('precinct_cleaned').size().reset_index(name = 'contraband_counts')\n",
        "seach_conducted_2011 = df_precint_of_interest_2011[df_precint_of_interest_2011['search_conducted'] == 1].groupby('precinct_cleaned').size().reset_index(name = 'seaches_conducted')"
      ]
    },
    {
      "cell_type": "code",
      "execution_count": null,
      "metadata": {
        "colab": {
          "base_uri": "https://localhost:8080/",
          "height": 352
        },
        "id": "fP738HsDWbVN",
        "outputId": "7ae7f1ea-5913-4571-f12b-73a46ab18891"
      },
      "outputs": [
        {
          "data": {
            "text/html": [
              "<div>\n",
              "<style scoped>\n",
              "    .dataframe tbody tr th:only-of-type {\n",
              "        vertical-align: middle;\n",
              "    }\n",
              "\n",
              "    .dataframe tbody tr th {\n",
              "        vertical-align: top;\n",
              "    }\n",
              "\n",
              "    .dataframe thead th {\n",
              "        text-align: right;\n",
              "    }\n",
              "</style>\n",
              "<table border=\"1\" class=\"dataframe\">\n",
              "  <thead>\n",
              "    <tr style=\"text-align: right;\">\n",
              "      <th></th>\n",
              "      <th>precinct_cleaned</th>\n",
              "      <th>frisk_counts</th>\n",
              "      <th>arrest_counts</th>\n",
              "      <th>contraband_counts</th>\n",
              "      <th>count_stops</th>\n",
              "      <th>seaches_conducted</th>\n",
              "      <th>frisk_to_stop_percentage</th>\n",
              "      <th>arrest_to_stop_percentage</th>\n",
              "      <th>contraband_hit_rate_stops</th>\n",
              "      <th>contraband_hit_rate_searched</th>\n",
              "    </tr>\n",
              "  </thead>\n",
              "  <tbody>\n",
              "    <tr>\n",
              "      <th>7</th>\n",
              "      <td>8</td>\n",
              "      <td>956</td>\n",
              "      <td>838</td>\n",
              "      <td>296</td>\n",
              "      <td>59520</td>\n",
              "      <td>2178</td>\n",
              "      <td>1.606183</td>\n",
              "      <td>1.407930</td>\n",
              "      <td>0.497312</td>\n",
              "      <td>13.590450</td>\n",
              "    </tr>\n",
              "    <tr>\n",
              "      <th>2</th>\n",
              "      <td>3</td>\n",
              "      <td>1525</td>\n",
              "      <td>975</td>\n",
              "      <td>360</td>\n",
              "      <td>56955</td>\n",
              "      <td>2294</td>\n",
              "      <td>2.677552</td>\n",
              "      <td>1.711878</td>\n",
              "      <td>0.632078</td>\n",
              "      <td>15.693112</td>\n",
              "    </tr>\n",
              "    <tr>\n",
              "      <th>1</th>\n",
              "      <td>2</td>\n",
              "      <td>1210</td>\n",
              "      <td>1002</td>\n",
              "      <td>389</td>\n",
              "      <td>49844</td>\n",
              "      <td>2374</td>\n",
              "      <td>2.427574</td>\n",
              "      <td>2.010272</td>\n",
              "      <td>0.780435</td>\n",
              "      <td>16.385847</td>\n",
              "    </tr>\n",
              "    <tr>\n",
              "      <th>4</th>\n",
              "      <td>5</td>\n",
              "      <td>1636</td>\n",
              "      <td>822</td>\n",
              "      <td>526</td>\n",
              "      <td>48570</td>\n",
              "      <td>2743</td>\n",
              "      <td>3.368334</td>\n",
              "      <td>1.692403</td>\n",
              "      <td>1.082973</td>\n",
              "      <td>19.176085</td>\n",
              "    </tr>\n",
              "    <tr>\n",
              "      <th>8</th>\n",
              "      <td>U</td>\n",
              "      <td>1117</td>\n",
              "      <td>749</td>\n",
              "      <td>303</td>\n",
              "      <td>47569</td>\n",
              "      <td>1970</td>\n",
              "      <td>2.348168</td>\n",
              "      <td>1.574555</td>\n",
              "      <td>0.636969</td>\n",
              "      <td>15.380711</td>\n",
              "    </tr>\n",
              "    <tr>\n",
              "      <th>0</th>\n",
              "      <td>1</td>\n",
              "      <td>1244</td>\n",
              "      <td>692</td>\n",
              "      <td>374</td>\n",
              "      <td>41442</td>\n",
              "      <td>2072</td>\n",
              "      <td>3.001786</td>\n",
              "      <td>1.669804</td>\n",
              "      <td>0.902466</td>\n",
              "      <td>18.050193</td>\n",
              "    </tr>\n",
              "    <tr>\n",
              "      <th>5</th>\n",
              "      <td>6</td>\n",
              "      <td>1265</td>\n",
              "      <td>885</td>\n",
              "      <td>367</td>\n",
              "      <td>40132</td>\n",
              "      <td>1853</td>\n",
              "      <td>3.152098</td>\n",
              "      <td>2.205223</td>\n",
              "      <td>0.914482</td>\n",
              "      <td>19.805720</td>\n",
              "    </tr>\n",
              "    <tr>\n",
              "      <th>6</th>\n",
              "      <td>7</td>\n",
              "      <td>543</td>\n",
              "      <td>443</td>\n",
              "      <td>170</td>\n",
              "      <td>24814</td>\n",
              "      <td>855</td>\n",
              "      <td>2.188281</td>\n",
              "      <td>1.785283</td>\n",
              "      <td>0.685097</td>\n",
              "      <td>19.883041</td>\n",
              "    </tr>\n",
              "    <tr>\n",
              "      <th>3</th>\n",
              "      <td>4</td>\n",
              "      <td>547</td>\n",
              "      <td>562</td>\n",
              "      <td>174</td>\n",
              "      <td>24402</td>\n",
              "      <td>1068</td>\n",
              "      <td>2.241620</td>\n",
              "      <td>2.303090</td>\n",
              "      <td>0.713056</td>\n",
              "      <td>16.292135</td>\n",
              "    </tr>\n",
              "  </tbody>\n",
              "</table>\n",
              "</div>"
            ],
            "text/plain": [
              "  precinct_cleaned  frisk_counts  arrest_counts  contraband_counts  \\\n",
              "7                8           956            838                296   \n",
              "2                3          1525            975                360   \n",
              "1                2          1210           1002                389   \n",
              "4                5          1636            822                526   \n",
              "8                U          1117            749                303   \n",
              "0                1          1244            692                374   \n",
              "5                6          1265            885                367   \n",
              "6                7           543            443                170   \n",
              "3                4           547            562                174   \n",
              "\n",
              "   count_stops  seaches_conducted  frisk_to_stop_percentage  \\\n",
              "7        59520               2178                  1.606183   \n",
              "2        56955               2294                  2.677552   \n",
              "1        49844               2374                  2.427574   \n",
              "4        48570               2743                  3.368334   \n",
              "8        47569               1970                  2.348168   \n",
              "0        41442               2072                  3.001786   \n",
              "5        40132               1853                  3.152098   \n",
              "6        24814                855                  2.188281   \n",
              "3        24402               1068                  2.241620   \n",
              "\n",
              "   arrest_to_stop_percentage  contraband_hit_rate_stops  \\\n",
              "7                   1.407930                   0.497312   \n",
              "2                   1.711878                   0.632078   \n",
              "1                   2.010272                   0.780435   \n",
              "4                   1.692403                   1.082973   \n",
              "8                   1.574555                   0.636969   \n",
              "0                   1.669804                   0.902466   \n",
              "5                   2.205223                   0.914482   \n",
              "6                   1.785283                   0.685097   \n",
              "3                   2.303090                   0.713056   \n",
              "\n",
              "   contraband_hit_rate_searched  \n",
              "7                     13.590450  \n",
              "2                     15.693112  \n",
              "1                     16.385847  \n",
              "4                     19.176085  \n",
              "8                     15.380711  \n",
              "0                     18.050193  \n",
              "5                     19.805720  \n",
              "6                     19.883041  \n",
              "3                     16.292135  "
            ]
          },
          "execution_count": 52,
          "metadata": {},
          "output_type": "execute_result"
        }
      ],
      "source": [
        "from functools import reduce\n",
        "\n",
        "dfs = [stop_frisks_2011, stop_arrests_2011, stop_contraband_2011, stop_counts_2011, seach_conducted_2011]\n",
        "\n",
        "# Use reduce to apply pd.merge on the list of DataFrames\n",
        "ratios_2011_df = reduce(lambda left,right: pd.merge(left, right, on='precinct_cleaned'), dfs)\n",
        "\n",
        "#calculating the first-to-stop ratio for each year\n",
        "ratios_2011_df['frisk_to_stop_percentage'] = ratios_2011_df['frisk_counts'] * 100 / ratios_2011_df['count_stops']\n",
        "ratios_2011_df['arrest_to_stop_percentage'] = ratios_2011_df['arrest_counts'] * 100 / ratios_2011_df['count_stops']\n",
        "ratios_2011_df['contraband_hit_rate_stops'] = ratios_2011_df['contraband_counts'] * 100 / ratios_2011_df['count_stops']\n",
        "ratios_2011_df['contraband_hit_rate_searched'] = ratios_2011_df['contraband_counts'] * 100 / ratios_2011_df['seaches_conducted']\n",
        "ratios_2011_df.sort_values('count_stops', ascending=False)"
      ]
    },
    {
      "cell_type": "code",
      "execution_count": null,
      "metadata": {
        "colab": {
          "base_uri": "https://localhost:8080/",
          "height": 287
        },
        "id": "8tIpI6U1uKbB",
        "outputId": "cdcd61cf-81f0-49e0-94c1-be3e0c3d8ecc"
      },
      "outputs": [
        {
          "name": "stderr",
          "output_type": "stream",
          "text": [
            "/Users/nirvikgill/anaconda3/lib/python3.11/site-packages/altair/utils/core.py:395: FutureWarning: the convert_dtype parameter is deprecated and will be removed in a future version.  Do ``ser.astype(object).apply()`` instead if you want ``convert_dtype=False``.\n",
            "  col = df[col_name].apply(to_list_if_array, convert_dtype=False)\n",
            "/Users/nirvikgill/anaconda3/lib/python3.11/site-packages/altair/utils/core.py:395: FutureWarning: the convert_dtype parameter is deprecated and will be removed in a future version.  Do ``ser.astype(object).apply()`` instead if you want ``convert_dtype=False``.\n",
            "  col = df[col_name].apply(to_list_if_array, convert_dtype=False)\n",
            "/Users/nirvikgill/anaconda3/lib/python3.11/site-packages/altair/utils/core.py:395: FutureWarning: the convert_dtype parameter is deprecated and will be removed in a future version.  Do ``ser.astype(object).apply()`` instead if you want ``convert_dtype=False``.\n",
            "  col = df[col_name].apply(to_list_if_array, convert_dtype=False)\n"
          ]
        },
        {
          "data": {
            "text/html": [
              "\n",
              "<style>\n",
              "  #altair-viz-8f205f0037a94b22b912d46657e1c4fe.vega-embed {\n",
              "    width: 100%;\n",
              "    display: flex;\n",
              "  }\n",
              "\n",
              "  #altair-viz-8f205f0037a94b22b912d46657e1c4fe.vega-embed details,\n",
              "  #altair-viz-8f205f0037a94b22b912d46657e1c4fe.vega-embed details summary {\n",
              "    position: relative;\n",
              "  }\n",
              "</style>\n",
              "<div id=\"altair-viz-8f205f0037a94b22b912d46657e1c4fe\"></div>\n",
              "<script type=\"text/javascript\">\n",
              "  var VEGA_DEBUG = (typeof VEGA_DEBUG == \"undefined\") ? {} : VEGA_DEBUG;\n",
              "  (function(spec, embedOpt){\n",
              "    let outputDiv = document.currentScript.previousElementSibling;\n",
              "    if (outputDiv.id !== \"altair-viz-8f205f0037a94b22b912d46657e1c4fe\") {\n",
              "      outputDiv = document.getElementById(\"altair-viz-8f205f0037a94b22b912d46657e1c4fe\");\n",
              "    }\n",
              "    const paths = {\n",
              "      \"vega\": \"https://cdn.jsdelivr.net/npm/vega@5?noext\",\n",
              "      \"vega-lib\": \"https://cdn.jsdelivr.net/npm/vega-lib?noext\",\n",
              "      \"vega-lite\": \"https://cdn.jsdelivr.net/npm/vega-lite@5.8.0?noext\",\n",
              "      \"vega-embed\": \"https://cdn.jsdelivr.net/npm/vega-embed@6?noext\",\n",
              "    };\n",
              "\n",
              "    function maybeLoadScript(lib, version) {\n",
              "      var key = `${lib.replace(\"-\", \"\")}_version`;\n",
              "      return (VEGA_DEBUG[key] == version) ?\n",
              "        Promise.resolve(paths[lib]) :\n",
              "        new Promise(function(resolve, reject) {\n",
              "          var s = document.createElement('script');\n",
              "          document.getElementsByTagName(\"head\")[0].appendChild(s);\n",
              "          s.async = true;\n",
              "          s.onload = () => {\n",
              "            VEGA_DEBUG[key] = version;\n",
              "            return resolve(paths[lib]);\n",
              "          };\n",
              "          s.onerror = () => reject(`Error loading script: ${paths[lib]}`);\n",
              "          s.src = paths[lib];\n",
              "        });\n",
              "    }\n",
              "\n",
              "    function showError(err) {\n",
              "      outputDiv.innerHTML = `<div class=\"error\" style=\"color:red;\">${err}</div>`;\n",
              "      throw err;\n",
              "    }\n",
              "\n",
              "    function displayChart(vegaEmbed) {\n",
              "      vegaEmbed(outputDiv, spec, embedOpt)\n",
              "        .catch(err => showError(`Javascript Error: ${err.message}<br>This usually means there's a typo in your chart specification. See the javascript console for the full traceback.`));\n",
              "    }\n",
              "\n",
              "    if(typeof define === \"function\" && define.amd) {\n",
              "      requirejs.config({paths});\n",
              "      require([\"vega-embed\"], displayChart, err => showError(`Error loading script: ${err.message}`));\n",
              "    } else {\n",
              "      maybeLoadScript(\"vega\", \"5\")\n",
              "        .then(() => maybeLoadScript(\"vega-lite\", \"5.8.0\"))\n",
              "        .then(() => maybeLoadScript(\"vega-embed\", \"6\"))\n",
              "        .catch(showError)\n",
              "        .then(() => displayChart(vegaEmbed));\n",
              "    }\n",
              "  })({\"config\": {\"view\": {\"continuousWidth\": 300, \"continuousHeight\": 300}}, \"hconcat\": [{\"layer\": [{\"data\": {\"name\": \"data-05cba90e16bd1bf8a402ca618463529e\"}, \"mark\": {\"type\": \"bar\"}, \"encoding\": {\"color\": {\"condition\": {\"test\": \"(datum.precinct_cleaned === '8')\", \"value\": \"#f88\"}, \"value\": \"lightgray\"}, \"tooltip\": [{\"field\": \"precinct_cleaned\", \"type\": \"nominal\"}, {\"field\": \"frisk_to_stop_percentage\", \"type\": \"quantitative\"}], \"x\": {\"axis\": {\"labelAngle\": 0}, \"field\": \"precinct_cleaned\", \"title\": \"Precinct\", \"type\": \"nominal\"}, \"y\": {\"field\": \"frisk_to_stop_percentage\", \"title\": \"Frisk to Stop Percentage\", \"type\": \"quantitative\"}}, \"title\": \"Frisk to Stop Percentage by Precinct in 2011\"}, {\"data\": {\"name\": \"data-dbe3f9fb29bc148c492dc8ebd9d874c8\"}, \"mark\": {\"type\": \"rule\", \"color\": \"red\", \"strokeDash\": [5, 5]}, \"encoding\": {\"y\": {\"field\": \"y\", \"type\": \"quantitative\"}}}], \"height\": 200, \"resolve\": {\"scale\": {\"y\": \"shared\"}}, \"width\": 350}, {\"layer\": [{\"data\": {\"name\": \"data-05cba90e16bd1bf8a402ca618463529e\"}, \"mark\": {\"type\": \"bar\"}, \"encoding\": {\"color\": {\"condition\": {\"test\": \"(datum.precinct_cleaned === '8')\", \"value\": \"#f88\"}, \"value\": \"lightgray\"}, \"tooltip\": [{\"field\": \"precinct_cleaned\", \"type\": \"nominal\"}, {\"field\": \"arrest_to_stop_percentage\", \"type\": \"quantitative\"}], \"x\": {\"axis\": {\"labelAngle\": 0}, \"field\": \"precinct_cleaned\", \"title\": \"Precinct\", \"type\": \"nominal\"}, \"y\": {\"field\": \"arrest_to_stop_percentage\", \"title\": \"Arrest to Stop Percentage\", \"type\": \"quantitative\"}}, \"title\": \"Arrest to Stop Percentage by Precinct in 2011\"}, {\"data\": {\"name\": \"data-a2ae1cc00844e4841ef055dc5267ad54\"}, \"mark\": {\"type\": \"rule\", \"color\": \"red\", \"strokeDash\": [5, 5]}, \"encoding\": {\"y\": {\"field\": \"y\", \"type\": \"quantitative\"}}}], \"height\": 200, \"resolve\": {\"scale\": {\"y\": \"shared\"}}, \"width\": 350}, {\"layer\": [{\"data\": {\"name\": \"data-05cba90e16bd1bf8a402ca618463529e\"}, \"mark\": {\"type\": \"bar\"}, \"encoding\": {\"color\": {\"condition\": {\"test\": \"(datum.precinct_cleaned === '8')\", \"value\": \"#f88\"}, \"value\": \"lightgray\"}, \"tooltip\": [{\"field\": \"precinct_cleaned\", \"type\": \"nominal\"}, {\"field\": \"contraband_hit_rate_searched\", \"type\": \"quantitative\"}], \"x\": {\"axis\": {\"labelAngle\": 0}, \"field\": \"precinct_cleaned\", \"title\": \"Precinct\", \"type\": \"nominal\"}, \"y\": {\"field\": \"contraband_hit_rate_searched\", \"title\": \"Contraband Hit Rate from Searches (%)\", \"type\": \"quantitative\"}}, \"title\": \"Contraband Hit Rate from Searches in 2011\"}, {\"data\": {\"name\": \"data-407859cf0e67cf1220c0ab90652a729d\"}, \"mark\": {\"type\": \"rule\", \"color\": \"red\", \"strokeDash\": [5, 5]}, \"encoding\": {\"y\": {\"field\": \"y\", \"type\": \"quantitative\"}}}], \"height\": 200, \"resolve\": {\"scale\": {\"y\": \"shared\"}}, \"width\": 350}], \"resolve\": {\"scale\": {\"x\": \"shared\"}}, \"$schema\": \"https://vega.github.io/schema/vega-lite/v5.8.0.json\", \"datasets\": {\"data-05cba90e16bd1bf8a402ca618463529e\": [{\"precinct_cleaned\": \"1\", \"frisk_counts\": 1244, \"arrest_counts\": 692, \"contraband_counts\": 374, \"count_stops\": 41442, \"seaches_conducted\": 2072, \"frisk_to_stop_percentage\": 3.0017856281067514, \"arrest_to_stop_percentage\": 1.6698035809082574, \"contraband_hit_rate_stops\": 0.9024660971960813, \"contraband_hit_rate_searched\": 18.05019305019305}, {\"precinct_cleaned\": \"2\", \"frisk_counts\": 1210, \"arrest_counts\": 1002, \"contraband_counts\": 389, \"count_stops\": 49844, \"seaches_conducted\": 2374, \"frisk_to_stop_percentage\": 2.427574030976647, \"arrest_to_stop_percentage\": 2.0102720487922316, \"contraband_hit_rate_stops\": 0.780434957066046, \"contraband_hit_rate_searched\": 16.385846672283066}, {\"precinct_cleaned\": \"3\", \"frisk_counts\": 1525, \"arrest_counts\": 975, \"contraband_counts\": 360, \"count_stops\": 56955, \"seaches_conducted\": 2294, \"frisk_to_stop_percentage\": 2.677552453691511, \"arrest_to_stop_percentage\": 1.7118777982617857, \"contraband_hit_rate_stops\": 0.6320779562812747, \"contraband_hit_rate_searched\": 15.693112467306015}, {\"precinct_cleaned\": \"4\", \"frisk_counts\": 547, \"arrest_counts\": 562, \"contraband_counts\": 174, \"count_stops\": 24402, \"seaches_conducted\": 1068, \"frisk_to_stop_percentage\": 2.2416195393820177, \"arrest_to_stop_percentage\": 2.3030899106630605, \"contraband_hit_rate_stops\": 0.7130563068600935, \"contraband_hit_rate_searched\": 16.292134831460675}, {\"precinct_cleaned\": \"5\", \"frisk_counts\": 1636, \"arrest_counts\": 822, \"contraband_counts\": 526, \"count_stops\": 48570, \"seaches_conducted\": 2743, \"frisk_to_stop_percentage\": 3.368334362775376, \"arrest_to_stop_percentage\": 1.692402717726992, \"contraband_hit_rate_stops\": 1.0829730286184889, \"contraband_hit_rate_searched\": 19.17608457892818}, {\"precinct_cleaned\": \"6\", \"frisk_counts\": 1265, \"arrest_counts\": 885, \"contraband_counts\": 367, \"count_stops\": 40132, \"seaches_conducted\": 1853, \"frisk_to_stop_percentage\": 3.1520980763480515, \"arrest_to_stop_percentage\": 2.2052227648759093, \"contraband_hit_rate_stops\": 0.9144822087112529, \"contraband_hit_rate_searched\": 19.80572045331894}, {\"precinct_cleaned\": \"7\", \"frisk_counts\": 543, \"arrest_counts\": 443, \"contraband_counts\": 170, \"count_stops\": 24814, \"seaches_conducted\": 855, \"frisk_to_stop_percentage\": 2.1882808092206014, \"arrest_to_stop_percentage\": 1.7852825018134924, \"contraband_hit_rate_stops\": 0.6850971225920851, \"contraband_hit_rate_searched\": 19.883040935672515}, {\"precinct_cleaned\": \"8\", \"frisk_counts\": 956, \"arrest_counts\": 838, \"contraband_counts\": 296, \"count_stops\": 59520, \"seaches_conducted\": 2178, \"frisk_to_stop_percentage\": 1.6061827956989247, \"arrest_to_stop_percentage\": 1.4079301075268817, \"contraband_hit_rate_stops\": 0.49731182795698925, \"contraband_hit_rate_searched\": 13.590449954086317}, {\"precinct_cleaned\": \"U\", \"frisk_counts\": 1117, \"arrest_counts\": 749, \"contraband_counts\": 303, \"count_stops\": 47569, \"seaches_conducted\": 1970, \"frisk_to_stop_percentage\": 2.3481679244886378, \"arrest_to_stop_percentage\": 1.5745548571548698, \"contraband_hit_rate_stops\": 0.6369694548970969, \"contraband_hit_rate_searched\": 15.380710659898478}], \"data-dbe3f9fb29bc148c492dc8ebd9d874c8\": [{\"y\": 2.67}], \"data-a2ae1cc00844e4841ef055dc5267ad54\": [{\"y\": 1.8}], \"data-407859cf0e67cf1220c0ab90652a729d\": [{\"y\": 17}]}}, {\"mode\": \"vega-lite\"});\n",
              "</script>"
            ],
            "text/plain": [
              "alt.HConcatChart(...)"
            ]
          },
          "metadata": {},
          "output_type": "display_data"
        }
      ],
      "source": [
        "# Define the year averages\n",
        "frisk_avg_2011 = 2.67\n",
        "arrest_avg_2011 = 1.8\n",
        "contraband_avg_2011 = 17\n",
        "\n",
        "# Frisk to Stop Percentage Chart with Horizontal Line for the Average\n",
        "frisk_to_stop_chart = alt.Chart(ratios_2011_df).mark_bar().encode(\n",
        "    x=alt.X('precinct_cleaned:N', title='Precinct', axis=alt.Axis(labelAngle=0)),\n",
        "    y=alt.Y('frisk_to_stop_percentage:Q', title='Frisk to Stop Percentage'),\n",
        "    tooltip=['precinct_cleaned', 'frisk_to_stop_percentage'],\n",
        "    color=alt.condition(\n",
        "        alt.datum.precinct_cleaned == '8',\n",
        "        alt.value('#f88'),  # Highlight color for precinct '8'\n",
        "        alt.value('lightgray')  # Default color for other precincts\n",
        "    ),\n",
        ").properties(\n",
        "    title='Frisk to Stop Percentage by Precinct in 2011',\n",
        "    width=350,\n",
        "    height=200\n",
        ")\n",
        "\n",
        "# Adding a rule for the 2011 average\n",
        "average_rule_1 = alt.Chart(pd.DataFrame({'y': [frisk_avg_2011]})).mark_rule(color='red', strokeDash=[5,5]).encode(\n",
        "    y='y:Q'\n",
        ")\n",
        "\n",
        "# Combine the bar chart with the rule using layering\n",
        "final_chart_1 = alt.layer(frisk_to_stop_chart, average_rule_1).resolve_scale(\n",
        "    y='shared'\n",
        ")\n",
        "\n",
        "\n",
        "\n",
        "\n",
        "# Arrest to Stop Percentage Chart\n",
        "arrest_to_stop_chart = alt.Chart(ratios_2011_df).mark_bar().encode(\n",
        "    x=alt.X('precinct_cleaned:N', title='Precinct', axis=alt.Axis(labelAngle=0)),\n",
        "    y=alt.Y('arrest_to_stop_percentage:Q', title='Arrest to Stop Percentage'),\n",
        "    tooltip=['precinct_cleaned', 'arrest_to_stop_percentage'],\n",
        "    color=alt.condition(\n",
        "        alt.datum.precinct_cleaned == '8',\n",
        "        alt.value('#f88'),\n",
        "        alt.value('lightgray')\n",
        "    ),\n",
        ").properties(\n",
        "    title='Arrest to Stop Percentage by Precinct in 2011',\n",
        "    width=350,\n",
        "    height=200\n",
        ")\n",
        "\n",
        "# Adding a rule for the 2011 average\n",
        "average_rule_2 = alt.Chart(pd.DataFrame({'y': [arrest_avg_2011]})).mark_rule(color='red', strokeDash=[5,5]).encode(\n",
        "    y='y:Q'\n",
        ")\n",
        "\n",
        "# Combine the bar chart with the rule using layering\n",
        "final_chart_2 = alt.layer(arrest_to_stop_chart, average_rule_2).resolve_scale(\n",
        "    y='shared'\n",
        ")\n",
        "\n",
        "# Contraband Hit Rate from Searches Chart\n",
        "contraband_hit_rate_searched_chart = alt.Chart(ratios_2011_df).mark_bar().encode(\n",
        "    x=alt.X('precinct_cleaned:N', title='Precinct', axis=alt.Axis(labelAngle=0)),\n",
        "    y=alt.Y('contraband_hit_rate_searched:Q', title='Contraband Hit Rate from Searches (%)'),\n",
        "    tooltip=['precinct_cleaned', 'contraband_hit_rate_searched'],\n",
        "    color=alt.condition(\n",
        "        alt.datum.precinct_cleaned == '8',\n",
        "        alt.value('#f88'),\n",
        "        alt.value('lightgray')\n",
        "    ),\n",
        ").properties(\n",
        "    title='Contraband Hit Rate from Searches in 2011',\n",
        "    width=350,\n",
        "    height=200\n",
        ")\n",
        "\n",
        "# Adding a rule for the 2011 average\n",
        "average_rule_3 = alt.Chart(pd.DataFrame({'y': [contraband_avg_2011]})).mark_rule(color='red', strokeDash=[5,5]).encode(\n",
        "    y='y:Q'\n",
        ")\n",
        "\n",
        "# Combine the bar chart with the rule using layering\n",
        "final_chart_3 = alt.layer(contraband_hit_rate_searched_chart, average_rule_3).resolve_scale(\n",
        "    y='shared'\n",
        ")\n",
        "\n",
        "# Concatenate the charts side by side\n",
        "final_chart = alt.hconcat(\n",
        "    final_chart_1,\n",
        "    final_chart_2,\n",
        "    final_chart_3\n",
        ").resolve_scale(\n",
        "    x='shared'  # Share the same x-axis scale\n",
        ")\n",
        "\n",
        "final_chart.display()\n"
      ]
    },
    {
      "cell_type": "code",
      "execution_count": null,
      "metadata": {
        "colab": {
          "base_uri": "https://localhost:8080/"
        },
        "id": "wu0ba4G_mmrA",
        "outputId": "7e901a69-ec89-4ddf-bbe9-c99de6478e74"
      },
      "outputs": [
        {
          "data": {
            "text/plain": [
              "violation\n",
              "moving traffic violation       31027\n",
              "vehicle equipment violation    23795\n",
              "seatbelt violation              1264\n",
              "investigative stop              1168\n",
              "registration                    1013\n",
              "safety violation                 987\n",
              "parking violation                 93\n",
              "child restraint                   23\n",
              "Name: count, dtype: int64"
            ]
          },
          "execution_count": 54,
          "metadata": {},
          "output_type": "execute_result"
        }
      ],
      "source": [
        "# were they stopped due to traffic violations?\n",
        "df_precint_of_interest_2011_8 = df_precint_of_interest_2011[df_precint_of_interest_2011['precinct_cleaned'] == '8']\n",
        "df_precint_of_interest_2011_8['violation'].value_counts()"
      ]
    },
    {
      "cell_type": "markdown",
      "metadata": {
        "id": "AFaTWf_ZXzQU"
      },
      "source": [
        "**Precinct 8** has the highest number of stops but has the lowest frisk-to-stop ratio, arrest to stop ratio and contraband hit rate. This could be due to the higher number of traffic related stops because the precinct is present in a very populous area, the center of the city, or due to presence of large number of highways. Further analysis will shed more light into this.\n",
        "\n",
        "---\n",
        "\n",
        "\n",
        "\n",
        "---\n",
        "\n"
      ]
    },
    {
      "cell_type": "code",
      "execution_count": null,
      "metadata": {
        "id": "uGJSu1nVySve",
        "outputId": "a3f472a5-16e4-432e-c654-9bb5492746bc"
      },
      "outputs": [
        {
          "name": "stderr",
          "output_type": "stream",
          "text": [
            "/var/folders/76/0bx0hwcx2cjcbnlskzx9lvhm0000gn/T/ipykernel_11488/2232504699.py:2: FutureWarning: A value is trying to be set on a copy of a DataFrame or Series through chained assignment using an inplace method.\n",
            "The behavior will change in pandas 3.0. This inplace method will never work because the intermediate object on which we are setting values always behaves as a copy.\n",
            "\n",
            "For example, when doing 'df[col].method(value, inplace=True)', try using 'df.method({col: value}, inplace=True)' or df[col] = df[col].method(value) instead, to perform the operation inplace on the original object.\n",
            "\n",
            "\n",
            "  df2['precinct'].fillna(-1, inplace=True)\n"
          ]
        }
      ],
      "source": [
        "# Fill missing values with -1 and set 'unknown' values to -1\n",
        "df2['precinct'].fillna(-1, inplace=True)\n",
        "df2.loc[df2['precinct'] == 'unknown', 'precinct'] = -1\n",
        "df2.loc[df2['precinct'] == 'U', 'precinct'] = -1\n",
        "\n",
        "# Convert the \"precinct\" column to integers\n",
        "df2['precinct'] = df2['precinct'].astype(int)\n",
        "\n",
        "\n",
        "df2['precinct_name'] = df2['precinct'].map({\n",
        "    7: 'Madison',\n",
        "    2: 'East',\n",
        "    5: 'Hermitage',\n",
        "    3: 'South',\n",
        "    1: 'West',\n",
        "    6: 'North',\n",
        "    4: 'Central',\n",
        "    8: 'Midtown',\n",
        "    -1: 'Unkown'\n",
        "})"
      ]
    },
    {
      "cell_type": "code",
      "execution_count": null,
      "metadata": {
        "id": "JILq2qlvFIsq"
      },
      "outputs": [],
      "source": [
        "lat_long_df = df_loc.dropna(subset=['lat', 'lng'])\n",
        "lat_long_df = lat_long_df[(lat_long_df['lat'] != 'unknown') & (lat_long_df['lng'] != 'unknown')]\n",
        "\n",
        "lat_long_df.lat = lat_long_df.lat.astype(float)\n",
        "lat_long_df.lng = lat_long_df.lng.astype(float)\n",
        "lat_long_df = lat_long_df[(lat_long_df['lat'] != -1.0) & (lat_long_df['lng'] != -1.0)]"
      ]
    },
    {
      "cell_type": "code",
      "execution_count": null,
      "metadata": {
        "id": "Uo2LH_fAIveG",
        "outputId": "96614ae5-6806-4873-fbd7-5e1dfd35c04c"
      },
      "outputs": [
        {
          "name": "stderr",
          "output_type": "stream",
          "text": [
            "/var/folders/76/0bx0hwcx2cjcbnlskzx9lvhm0000gn/T/ipykernel_10845/796183662.py:1: DeprecationWarning: DataFrameGroupBy.apply operated on the grouping columns. This behavior is deprecated, and in a future version of pandas the grouping columns will be excluded from the operation. Either pass `include_groups=False` to exclude the groupings or explicitly select the grouping columns after groupby to silence this warning.\n",
            "  a = lat_long_df.groupby('precinct_cleaned').apply(lambda df: df.lat.mean()).reset_index(name='m_lat')\n",
            "/var/folders/76/0bx0hwcx2cjcbnlskzx9lvhm0000gn/T/ipykernel_10845/796183662.py:2: DeprecationWarning: DataFrameGroupBy.apply operated on the grouping columns. This behavior is deprecated, and in a future version of pandas the grouping columns will be excluded from the operation. Either pass `include_groups=False` to exclude the groupings or explicitly select the grouping columns after groupby to silence this warning.\n",
            "  b = lat_long_df.groupby('precinct_cleaned').apply(lambda df: df.lng.mean()).reset_index(name='m_lng')\n"
          ]
        }
      ],
      "source": [
        "a = lat_long_df.groupby('precinct_cleaned').apply(lambda df: df.lat.mean()).reset_index(name='m_lat')\n",
        "b = lat_long_df.groupby('precinct_cleaned').apply(lambda df: df.lng.mean()).reset_index(name='m_lng')\n",
        "c = pd.merge(a,b,on='precinct_cleaned')"
      ]
    },
    {
      "cell_type": "code",
      "execution_count": null,
      "metadata": {
        "colab": {
          "base_uri": "https://localhost:8080/",
          "height": 300
        },
        "id": "DkR3QhGBIy60",
        "outputId": "4e93b029-8dd8-48f9-c997-3588b2c5e7ff"
      },
      "outputs": [
        {
          "data": {
            "text/html": [
              "<div>\n",
              "<style scoped>\n",
              "    .dataframe tbody tr th:only-of-type {\n",
              "        vertical-align: middle;\n",
              "    }\n",
              "\n",
              "    .dataframe tbody tr th {\n",
              "        vertical-align: top;\n",
              "    }\n",
              "\n",
              "    .dataframe thead th {\n",
              "        text-align: right;\n",
              "    }\n",
              "</style>\n",
              "<table border=\"1\" class=\"dataframe\">\n",
              "  <thead>\n",
              "    <tr style=\"text-align: right;\">\n",
              "      <th></th>\n",
              "      <th>precinct_cleaned</th>\n",
              "      <th>m_lat</th>\n",
              "      <th>m_lng</th>\n",
              "    </tr>\n",
              "  </thead>\n",
              "  <tbody>\n",
              "    <tr>\n",
              "      <th>0</th>\n",
              "      <td>1</td>\n",
              "      <td>36.124882</td>\n",
              "      <td>-86.877013</td>\n",
              "    </tr>\n",
              "    <tr>\n",
              "      <th>1</th>\n",
              "      <td>2</td>\n",
              "      <td>36.193309</td>\n",
              "      <td>-86.752598</td>\n",
              "    </tr>\n",
              "    <tr>\n",
              "      <th>2</th>\n",
              "      <td>3</td>\n",
              "      <td>36.085048</td>\n",
              "      <td>-86.694038</td>\n",
              "    </tr>\n",
              "    <tr>\n",
              "      <th>3</th>\n",
              "      <td>4</td>\n",
              "      <td>36.160472</td>\n",
              "      <td>-86.780566</td>\n",
              "    </tr>\n",
              "    <tr>\n",
              "      <th>4</th>\n",
              "      <td>5</td>\n",
              "      <td>36.159246</td>\n",
              "      <td>-86.672056</td>\n",
              "    </tr>\n",
              "    <tr>\n",
              "      <th>5</th>\n",
              "      <td>6</td>\n",
              "      <td>36.188227</td>\n",
              "      <td>-86.811795</td>\n",
              "    </tr>\n",
              "    <tr>\n",
              "      <th>6</th>\n",
              "      <td>7</td>\n",
              "      <td>36.261321</td>\n",
              "      <td>-86.723398</td>\n",
              "    </tr>\n",
              "    <tr>\n",
              "      <th>7</th>\n",
              "      <td>8</td>\n",
              "      <td>36.102417</td>\n",
              "      <td>-86.764355</td>\n",
              "    </tr>\n",
              "  </tbody>\n",
              "</table>\n",
              "</div>"
            ],
            "text/plain": [
              "  precinct_cleaned      m_lat      m_lng\n",
              "0                1  36.124882 -86.877013\n",
              "1                2  36.193309 -86.752598\n",
              "2                3  36.085048 -86.694038\n",
              "3                4  36.160472 -86.780566\n",
              "4                5  36.159246 -86.672056\n",
              "5                6  36.188227 -86.811795\n",
              "6                7  36.261321 -86.723398\n",
              "7                8  36.102417 -86.764355"
            ]
          },
          "execution_count": 123,
          "metadata": {},
          "output_type": "execute_result"
        }
      ],
      "source": [
        "c = c[c.precinct_cleaned != 'U']\n",
        "c"
      ]
    },
    {
      "cell_type": "code",
      "execution_count": null,
      "metadata": {
        "colab": {
          "base_uri": "https://localhost:8080/",
          "height": 564
        },
        "id": "FBNmDdm_I14w",
        "outputId": "8824bc5b-9deb-41c0-b194-d8c43b7daef3"
      },
      "outputs": [
        {
          "data": {
            "image/png": "[encoded data removed]",
            "text/plain": [
              "<Figure size 1000x600 with 1 Axes>"
            ]
          },
          "metadata": {},
          "output_type": "display_data"
        }
      ],
      "source": [
        "import matplotlib.pyplot as plt\n",
        "\n",
        "# Plotting\n",
        "plt.figure(figsize=(10, 6))\n",
        "\n",
        "for precinct in c['precinct_cleaned'].unique():\n",
        "    plt.scatter(c[c['precinct_cleaned'] == precinct]['m_lng'],\n",
        "                c[c['precinct_cleaned'] == precinct]['m_lat'],\n",
        "                label=f'precinct_cleaned {precinct}')\n",
        "\n",
        "plt.xlabel('Longitude')\n",
        "plt.ylabel('Latitude')\n",
        "plt.title('Scatter Plot of Points by Precinct')\n",
        "plt.legend()\n",
        "plt.grid(True)\n",
        "plt.show()\n",
        "\n"
      ]
    },
    {
      "cell_type": "markdown",
      "metadata": {
        "id": "A6nBAM9Zv7rL"
      },
      "source": [
        "![WhatsApp Image 2024-03-13 at 14.30.51.jpeg](data:image/jpeg;base64,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)\n",
        "\n"
      ]
    },
    {
      "cell_type": "markdown",
      "metadata": {
        "id": "GnjUGO56JtWD"
      },
      "source": [
        "The maps obtained from the Nashville PD are:\n",
        "\n",
        "\n",
        "By comparing the plot with the maps, we conclude that:\n",
        "\n",
        "\n",
        "*   1 - West\n",
        "*   2 - East\n",
        "- 3 - South\n",
        "- 4 - Central\n",
        "- 5 - Hermitage\n",
        "- 6 - North\n",
        "- 7 - Madison\n",
        "- 8 - Midtown\n",
        "\n",
        "Based on the above locations, it seems possible that the high number of stops by precinct 8 could be due to its geographic location which is very close the center on the city.\n"
      ]
    },
    {
      "cell_type": "markdown",
      "metadata": {
        "id": "BpSBZ8C7Lg94"
      },
      "source": [
        "#### *Analysis by Precinct*"
      ]
    },
    {
      "cell_type": "code",
      "execution_count": null,
      "metadata": {
        "id": "8DNvqZ80GFyh"
      },
      "outputs": [],
      "source": [
        "df2 = df2[df2['year'] != 'unknown']\n",
        "df2['year'] = df2.loc[:,'year'].astype(int)"
      ]
    },
    {
      "cell_type": "code",
      "execution_count": null,
      "metadata": {
        "id": "v9ePWg-IJj46",
        "outputId": "754e32f4-7650-4914-c1fd-136cdda34fc0"
      },
      "outputs": [
        {
          "name": "stderr",
          "output_type": "stream",
          "text": [
            "/var/folders/76/0bx0hwcx2cjcbnlskzx9lvhm0000gn/T/ipykernel_11488/4024567015.py:2: DeprecationWarning: DataFrameGroupBy.apply operated on the grouping columns. This behavior is deprecated, and in a future version of pandas the grouping columns will be excluded from the operation. Either pass `include_groups=False` to exclude the groupings or explicitly select the grouping columns after groupby to silence this warning.\n",
            "  search_pre = gd.apply(search_rate).reset_index(name = 'search_rate')\n"
          ]
        }
      ],
      "source": [
        "gd = df2.groupby(['precinct','year'])\n",
        "search_pre = gd.apply(search_rate).reset_index(name = 'search_rate')"
      ]
    },
    {
      "cell_type": "code",
      "execution_count": null,
      "metadata": {
        "colab": {
          "base_uri": "https://localhost:8080/",
          "height": 400
        },
        "id": "GJFTIvEWLoMQ",
        "outputId": "944da577-4e33-4f2c-ade4-7ae45bb3d8ae"
      },
      "outputs": [
        {
          "data": {
            "text/html": [
              "\n",
              "<style>\n",
              "  #altair-viz-c349deba06ed459da8cdd02dcacd6172.vega-embed {\n",
              "    width: 100%;\n",
              "    display: flex;\n",
              "  }\n",
              "\n",
              "  #altair-viz-c349deba06ed459da8cdd02dcacd6172.vega-embed details,\n",
              "  #altair-viz-c349deba06ed459da8cdd02dcacd6172.vega-embed details summary {\n",
              "    position: relative;\n",
              "  }\n",
              "</style>\n",
              "<div id=\"altair-viz-c349deba06ed459da8cdd02dcacd6172\"></div>\n",
              "<script type=\"text/javascript\">\n",
              "  var VEGA_DEBUG = (typeof VEGA_DEBUG == \"undefined\") ? {} : VEGA_DEBUG;\n",
              "  (function(spec, embedOpt){\n",
              "    let outputDiv = document.currentScript.previousElementSibling;\n",
              "    if (outputDiv.id !== \"altair-viz-c349deba06ed459da8cdd02dcacd6172\") {\n",
              "      outputDiv = document.getElementById(\"altair-viz-c349deba06ed459da8cdd02dcacd6172\");\n",
              "    }\n",
              "    const paths = {\n",
              "      \"vega\": \"https://cdn.jsdelivr.net/npm/vega@5?noext\",\n",
              "      \"vega-lib\": \"https://cdn.jsdelivr.net/npm/vega-lib?noext\",\n",
              "      \"vega-lite\": \"https://cdn.jsdelivr.net/npm/vega-lite@5.8.0?noext\",\n",
              "      \"vega-embed\": \"https://cdn.jsdelivr.net/npm/vega-embed@6?noext\",\n",
              "    };\n",
              "\n",
              "    function maybeLoadScript(lib, version) {\n",
              "      var key = `${lib.replace(\"-\", \"\")}_version`;\n",
              "      return (VEGA_DEBUG[key] == version) ?\n",
              "        Promise.resolve(paths[lib]) :\n",
              "        new Promise(function(resolve, reject) {\n",
              "          var s = document.createElement('script');\n",
              "          document.getElementsByTagName(\"head\")[0].appendChild(s);\n",
              "          s.async = true;\n",
              "          s.onload = () => {\n",
              "            VEGA_DEBUG[key] = version;\n",
              "            return resolve(paths[lib]);\n",
              "          };\n",
              "          s.onerror = () => reject(`Error loading script: ${paths[lib]}`);\n",
              "          s.src = paths[lib];\n",
              "        });\n",
              "    }\n",
              "\n",
              "    function showError(err) {\n",
              "      outputDiv.innerHTML = `<div class=\"error\" style=\"color:red;\">${err}</div>`;\n",
              "      throw err;\n",
              "    }\n",
              "\n",
              "    function displayChart(vegaEmbed) {\n",
              "      vegaEmbed(outputDiv, spec, embedOpt)\n",
              "        .catch(err => showError(`Javascript Error: ${err.message}<br>This usually means there's a typo in your chart specification. See the javascript console for the full traceback.`));\n",
              "    }\n",
              "\n",
              "    if(typeof define === \"function\" && define.amd) {\n",
              "      requirejs.config({paths});\n",
              "      require([\"vega-embed\"], displayChart, err => showError(`Error loading script: ${err.message}`));\n",
              "    } else {\n",
              "      maybeLoadScript(\"vega\", \"5\")\n",
              "        .then(() => maybeLoadScript(\"vega-lite\", \"5.8.0\"))\n",
              "        .then(() => maybeLoadScript(\"vega-embed\", \"6\"))\n",
              "        .catch(showError)\n",
              "        .then(() => displayChart(vegaEmbed));\n",
              "    }\n",
              "  })({\"config\": {\"view\": {\"continuousWidth\": 300, \"continuousHeight\": 300}}, \"hconcat\": [{\"data\": {\"name\": \"data-adc43e701b21dff5f4e2404d3effa368\"}, \"mark\": {\"type\": \"line\"}, \"encoding\": {\"x\": {\"field\": \"year\", \"type\": \"nominal\"}, \"y\": {\"aggregate\": \"mean\", \"field\": \"search_rate\", \"type\": \"quantitative\"}}, \"height\": 300, \"title\": \"AVERAGE SEARCH RATES(%)\", \"width\": 300}, {\"data\": {\"name\": \"data-adc43e701b21dff5f4e2404d3effa368\"}, \"mark\": {\"type\": \"line\"}, \"encoding\": {\"color\": {\"field\": \"precinct\", \"type\": \"nominal\"}, \"x\": {\"field\": \"year\", \"type\": \"nominal\"}, \"y\": {\"field\": \"search_rate\", \"type\": \"quantitative\"}}, \"height\": 300, \"title\": \"SEARCH RATES(%) BY PRECINCT\", \"width\": 300}], \"$schema\": \"https://vega.github.io/schema/vega-lite/v5.8.0.json\", \"datasets\": {\"data-adc43e701b21dff5f4e2404d3effa368\": [{\"precinct\": 1, \"year\": 2010, \"search_rate\": 4.139059942318185}, {\"precinct\": 1, \"year\": 2011, \"search_rate\": 5.0132118009260385}, {\"precinct\": 1, \"year\": 2012, \"search_rate\": 3.0838410983689437}, {\"precinct\": 1, \"year\": 2013, \"search_rate\": 3.1977809179881715}, {\"precinct\": 1, \"year\": 2014, \"search_rate\": 3.8852489131100363}, {\"precinct\": 1, \"year\": 2015, \"search_rate\": 2.6535398712774083}, {\"precinct\": 1, \"year\": 2016, \"search_rate\": 2.301635372501514}, {\"precinct\": 1, \"year\": 2017, \"search_rate\": 2.510131252646223}, {\"precinct\": 1, \"year\": 2018, \"search_rate\": 2.538761771762094}, {\"precinct\": 2, \"year\": 2010, \"search_rate\": 5.220196805936441}, {\"precinct\": 2, \"year\": 2011, \"search_rate\": 4.770431773369281}, {\"precinct\": 2, \"year\": 2012, \"search_rate\": 5.028938690356013}, {\"precinct\": 2, \"year\": 2013, \"search_rate\": 5.339308826086117}, {\"precinct\": 2, \"year\": 2014, \"search_rate\": 5.167859577368779}, {\"precinct\": 2, \"year\": 2015, \"search_rate\": 5.898483560479337}, {\"precinct\": 2, \"year\": 2016, \"search_rate\": 4.683321176756626}, {\"precinct\": 2, \"year\": 2017, \"search_rate\": 3.8980628771038424}, {\"precinct\": 2, \"year\": 2018, \"search_rate\": 4.53739146671646}, {\"precinct\": 3, \"year\": 2010, \"search_rate\": 4.9913648415265985}, {\"precinct\": 3, \"year\": 2011, \"search_rate\": 4.045668900471581}, {\"precinct\": 3, \"year\": 2012, \"search_rate\": 3.6670555968057217}, {\"precinct\": 3, \"year\": 2013, \"search_rate\": 3.339791329695526}, {\"precinct\": 3, \"year\": 2014, \"search_rate\": 2.6634431758156922}, {\"precinct\": 3, \"year\": 2015, \"search_rate\": 2.6083986042993437}, {\"precinct\": 3, \"year\": 2016, \"search_rate\": 2.5679679783750067}, {\"precinct\": 3, \"year\": 2017, \"search_rate\": 2.9197596323789323}, {\"precinct\": 3, \"year\": 2018, \"search_rate\": 3.437986937638829}, {\"precinct\": 4, \"year\": 2010, \"search_rate\": 3.667903234233764}, {\"precinct\": 4, \"year\": 2011, \"search_rate\": 4.379892871858261}, {\"precinct\": 4, \"year\": 2012, \"search_rate\": 3.5802251935256857}, {\"precinct\": 4, \"year\": 2013, \"search_rate\": 2.854013265989168}, {\"precinct\": 4, \"year\": 2014, \"search_rate\": 2.562853244981485}, {\"precinct\": 4, \"year\": 2015, \"search_rate\": 2.4341778440139095}, {\"precinct\": 4, \"year\": 2016, \"search_rate\": 2.320636094674556}, {\"precinct\": 4, \"year\": 2017, \"search_rate\": 2.3222121036509646}, {\"precinct\": 4, \"year\": 2018, \"search_rate\": 2.5942011973236294}, {\"precinct\": 5, \"year\": 2010, \"search_rate\": 5.109359387143333}, {\"precinct\": 5, \"year\": 2011, \"search_rate\": 5.666086379839178}, {\"precinct\": 5, \"year\": 2012, \"search_rate\": 4.264086873474585}, {\"precinct\": 5, \"year\": 2013, \"search_rate\": 4.636920384951881}, {\"precinct\": 5, \"year\": 2014, \"search_rate\": 4.281016820538763}, {\"precinct\": 5, \"year\": 2015, \"search_rate\": 4.1929255764817315}, {\"precinct\": 5, \"year\": 2016, \"search_rate\": 5.386865524060646}, {\"precinct\": 5, \"year\": 2017, \"search_rate\": 3.911046652163403}, {\"precinct\": 5, \"year\": 2018, \"search_rate\": 3.9940574824295756}, {\"precinct\": 6, \"year\": 2010, \"search_rate\": 6.05126164660632}, {\"precinct\": 6, \"year\": 2011, \"search_rate\": 4.613849033063007}, {\"precinct\": 6, \"year\": 2012, \"search_rate\": 4.0360307472160555}, {\"precinct\": 6, \"year\": 2013, \"search_rate\": 4.424040066777963}, {\"precinct\": 6, \"year\": 2014, \"search_rate\": 4.549271711116902}, {\"precinct\": 6, \"year\": 2015, \"search_rate\": 4.171934260429835}, {\"precinct\": 6, \"year\": 2016, \"search_rate\": 5.481198215423837}, {\"precinct\": 6, \"year\": 2017, \"search_rate\": 6.88057846571009}, {\"precinct\": 6, \"year\": 2018, \"search_rate\": 7.082659893788963}, {\"precinct\": 7, \"year\": 2010, \"search_rate\": 5.3097345132743365}, {\"precinct\": 7, \"year\": 2011, \"search_rate\": 3.4461886122432506}, {\"precinct\": 7, \"year\": 2012, \"search_rate\": 5.999606951346192}, {\"precinct\": 7, \"year\": 2013, \"search_rate\": 7.818930041152264}, {\"precinct\": 7, \"year\": 2014, \"search_rate\": 8.767782884657475}, {\"precinct\": 7, \"year\": 2015, \"search_rate\": 9.184372858122002}, {\"precinct\": 7, \"year\": 2016, \"search_rate\": 7.741738066095472}, {\"precinct\": 7, \"year\": 2017, \"search_rate\": 7.155560825231206}, {\"precinct\": 7, \"year\": 2018, \"search_rate\": 7.176564319421462}, {\"precinct\": 8, \"year\": 2010, \"search_rate\": 4.384079366954057}, {\"precinct\": 8, \"year\": 2011, \"search_rate\": 3.6756738453203304}, {\"precinct\": 8, \"year\": 2012, \"search_rate\": 3.2852399283006672}, {\"precinct\": 8, \"year\": 2013, \"search_rate\": 3.2342441058994025}, {\"precinct\": 8, \"year\": 2014, \"search_rate\": 3.364518565866698}, {\"precinct\": 8, \"year\": 2015, \"search_rate\": 3.0401261608550905}, {\"precinct\": 8, \"year\": 2016, \"search_rate\": 2.95945820577048}, {\"precinct\": 8, \"year\": 2017, \"search_rate\": 3.275475038730279}, {\"precinct\": 8, \"year\": 2018, \"search_rate\": 2.8475592349414787}]}}, {\"mode\": \"vega-lite\"});\n",
              "</script>"
            ],
            "text/plain": [
              "alt.HConcatChart(...)"
            ]
          },
          "execution_count": 58,
          "metadata": {},
          "output_type": "execute_result"
        }
      ],
      "source": [
        "search_pre_cht = alt.Chart(search_pre[search_pre['precinct'] != -1 ]).mark_line().encode(\n",
        "    x = 'year:N',\n",
        "    y = 'search_rate:Q',\n",
        "    color = 'precinct:N',\n",
        ").properties(title='SEARCH RATES(%) BY PRECINCT', width=300,height=300)\n",
        "\n",
        "search_cht = alt.Chart(search_pre[search_pre['precinct'] != -1]).mark_line().encode(\n",
        "    x = 'year:N',\n",
        "    y = 'mean(search_rate):Q',\n",
        ").properties(title = 'AVERAGE SEARCH RATES(%)',width=300,height=300)\n",
        "\n",
        "search_cht | search_pre_cht"
      ]
    },
    {
      "cell_type": "markdown",
      "metadata": {
        "id": "ZxN67u_zNkrW"
      },
      "source": [
        "**Analysis**\n",
        "The search for Precinct 7 are abnormally high from 2012 - 2018 and remain to be the highest amongst all for this time period. We will take a closer look at precinct 7 for the next section"
      ]
    },
    {
      "cell_type": "code",
      "execution_count": null,
      "metadata": {
        "id": "zhCr57ftMtR_",
        "outputId": "c1cbbc71-bf88-4183-8fb0-8b09157fd6e2"
      },
      "outputs": [
        {
          "name": "stderr",
          "output_type": "stream",
          "text": [
            "/var/folders/76/0bx0hwcx2cjcbnlskzx9lvhm0000gn/T/ipykernel_11488/1390072726.py:1: DeprecationWarning: DataFrameGroupBy.apply operated on the grouping columns. This behavior is deprecated, and in a future version of pandas the grouping columns will be excluded from the operation. Either pass `include_groups=False` to exclude the groupings or explicitly select the grouping columns after groupby to silence this warning.\n",
            "  contra_pre = gd.apply(contraband_rate).reset_index(name = 'contraband_rate')\n"
          ]
        }
      ],
      "source": [
        "contra_pre = gd.apply(contraband_rate).reset_index(name = 'contraband_rate')"
      ]
    },
    {
      "cell_type": "code",
      "execution_count": null,
      "metadata": {
        "colab": {
          "base_uri": "https://localhost:8080/",
          "height": 400
        },
        "id": "HqtsDEQENiEs",
        "outputId": "2771c73d-c60a-489f-e385-e41a219f3607"
      },
      "outputs": [
        {
          "data": {
            "text/html": [
              "\n",
              "<style>\n",
              "  #altair-viz-446a8de4ca21487b9b2ca1109f003e7a.vega-embed {\n",
              "    width: 100%;\n",
              "    display: flex;\n",
              "  }\n",
              "\n",
              "  #altair-viz-446a8de4ca21487b9b2ca1109f003e7a.vega-embed details,\n",
              "  #altair-viz-446a8de4ca21487b9b2ca1109f003e7a.vega-embed details summary {\n",
              "    position: relative;\n",
              "  }\n",
              "</style>\n",
              "<div id=\"altair-viz-446a8de4ca21487b9b2ca1109f003e7a\"></div>\n",
              "<script type=\"text/javascript\">\n",
              "  var VEGA_DEBUG = (typeof VEGA_DEBUG == \"undefined\") ? {} : VEGA_DEBUG;\n",
              "  (function(spec, embedOpt){\n",
              "    let outputDiv = document.currentScript.previousElementSibling;\n",
              "    if (outputDiv.id !== \"altair-viz-446a8de4ca21487b9b2ca1109f003e7a\") {\n",
              "      outputDiv = document.getElementById(\"altair-viz-446a8de4ca21487b9b2ca1109f003e7a\");\n",
              "    }\n",
              "    const paths = {\n",
              "      \"vega\": \"https://cdn.jsdelivr.net/npm/vega@5?noext\",\n",
              "      \"vega-lib\": \"https://cdn.jsdelivr.net/npm/vega-lib?noext\",\n",
              "      \"vega-lite\": \"https://cdn.jsdelivr.net/npm/vega-lite@5.8.0?noext\",\n",
              "      \"vega-embed\": \"https://cdn.jsdelivr.net/npm/vega-embed@6?noext\",\n",
              "    };\n",
              "\n",
              "    function maybeLoadScript(lib, version) {\n",
              "      var key = `${lib.replace(\"-\", \"\")}_version`;\n",
              "      return (VEGA_DEBUG[key] == version) ?\n",
              "        Promise.resolve(paths[lib]) :\n",
              "        new Promise(function(resolve, reject) {\n",
              "          var s = document.createElement('script');\n",
              "          document.getElementsByTagName(\"head\")[0].appendChild(s);\n",
              "          s.async = true;\n",
              "          s.onload = () => {\n",
              "            VEGA_DEBUG[key] = version;\n",
              "            return resolve(paths[lib]);\n",
              "          };\n",
              "          s.onerror = () => reject(`Error loading script: ${paths[lib]}`);\n",
              "          s.src = paths[lib];\n",
              "        });\n",
              "    }\n",
              "\n",
              "    function showError(err) {\n",
              "      outputDiv.innerHTML = `<div class=\"error\" style=\"color:red;\">${err}</div>`;\n",
              "      throw err;\n",
              "    }\n",
              "\n",
              "    function displayChart(vegaEmbed) {\n",
              "      vegaEmbed(outputDiv, spec, embedOpt)\n",
              "        .catch(err => showError(`Javascript Error: ${err.message}<br>This usually means there's a typo in your chart specification. See the javascript console for the full traceback.`));\n",
              "    }\n",
              "\n",
              "    if(typeof define === \"function\" && define.amd) {\n",
              "      requirejs.config({paths});\n",
              "      require([\"vega-embed\"], displayChart, err => showError(`Error loading script: ${err.message}`));\n",
              "    } else {\n",
              "      maybeLoadScript(\"vega\", \"5\")\n",
              "        .then(() => maybeLoadScript(\"vega-lite\", \"5.8.0\"))\n",
              "        .then(() => maybeLoadScript(\"vega-embed\", \"6\"))\n",
              "        .catch(showError)\n",
              "        .then(() => displayChart(vegaEmbed));\n",
              "    }\n",
              "  })({\"config\": {\"view\": {\"continuousWidth\": 300, \"continuousHeight\": 300}}, \"hconcat\": [{\"data\": {\"name\": \"data-b0cbe26b676fe38286a308f3ff89bc07\"}, \"mark\": {\"type\": \"line\"}, \"encoding\": {\"x\": {\"field\": \"year\", \"type\": \"nominal\"}, \"y\": {\"aggregate\": \"mean\", \"field\": \"contraband_rate\", \"type\": \"quantitative\"}}, \"height\": 300, \"title\": \"AVERAGE CONTRABAND HIT RATES(%)\", \"width\": 300}, {\"data\": {\"name\": \"data-b0cbe26b676fe38286a308f3ff89bc07\"}, \"mark\": {\"type\": \"line\"}, \"encoding\": {\"color\": {\"field\": \"precinct\", \"type\": \"nominal\"}, \"x\": {\"field\": \"year\", \"type\": \"nominal\"}, \"y\": {\"field\": \"contraband_rate\", \"type\": \"quantitative\"}}, \"height\": 300, \"title\": \"CONTRABAND HIT RATES(%) BY PRECINCT\", \"width\": 300}], \"$schema\": \"https://vega.github.io/schema/vega-lite/v5.8.0.json\", \"datasets\": {\"data-b0cbe26b676fe38286a308f3ff89bc07\": [{\"precinct\": 1, \"year\": 2010, \"contraband_rate\": 17.796610169491526}, {\"precinct\": 1, \"year\": 2011, \"contraband_rate\": 17.988394584139265}, {\"precinct\": 1, \"year\": 2012, \"contraband_rate\": 22.001725625539258}, {\"precinct\": 1, \"year\": 2013, \"contraband_rate\": 22.913256955810148}, {\"precinct\": 1, \"year\": 2014, \"contraband_rate\": 20.96138691883373}, {\"precinct\": 1, \"year\": 2015, \"contraband_rate\": 26.413155190133608}, {\"precinct\": 1, \"year\": 2016, \"contraband_rate\": 28.670360110803323}, {\"precinct\": 1, \"year\": 2017, \"contraband_rate\": 21.084337349397593}, {\"precinct\": 1, \"year\": 2018, \"contraband_rate\": 24.541607898448518}, {\"precinct\": 2, \"year\": 2010, \"contraband_rate\": 16.440049443757726}, {\"precinct\": 2, \"year\": 2011, \"contraband_rate\": 16.406579502319694}, {\"precinct\": 2, \"year\": 2012, \"contraband_rate\": 17.63131482101037}, {\"precinct\": 2, \"year\": 2013, \"contraband_rate\": 22.069464544138928}, {\"precinct\": 2, \"year\": 2014, \"contraband_rate\": 19.950535861500413}, {\"precinct\": 2, \"year\": 2015, \"contraband_rate\": 23.384472338447235}, {\"precinct\": 2, \"year\": 2016, \"contraband_rate\": 25.37313432835821}, {\"precinct\": 2, \"year\": 2017, \"contraband_rate\": 23.761031907671416}, {\"precinct\": 2, \"year\": 2018, \"contraband_rate\": 27.023319615912207}, {\"precinct\": 3, \"year\": 2010, \"contraband_rate\": 13.88888888888889}, {\"precinct\": 3, \"year\": 2011, \"contraband_rate\": 15.687992988606487}, {\"precinct\": 3, \"year\": 2012, \"contraband_rate\": 19.462809917355372}, {\"precinct\": 3, \"year\": 2013, \"contraband_rate\": 22.405534858967535}, {\"precinct\": 3, \"year\": 2014, \"contraband_rate\": 24.637681159420293}, {\"precinct\": 3, \"year\": 2015, \"contraband_rate\": 26.28624883068288}, {\"precinct\": 3, \"year\": 2016, \"contraband_rate\": 24.898785425101213}, {\"precinct\": 3, \"year\": 2017, \"contraband_rate\": 29.055690072639223}, {\"precinct\": 3, \"year\": 2018, \"contraband_rate\": 27.67598842815815}, {\"precinct\": 4, \"year\": 2010, \"contraband_rate\": 13.817663817663817}, {\"precinct\": 4, \"year\": 2011, \"contraband_rate\": 16.36876763875823}, {\"precinct\": 4, \"year\": 2012, \"contraband_rate\": 14.496314496314497}, {\"precinct\": 4, \"year\": 2013, \"contraband_rate\": 12.260127931769722}, {\"precinct\": 4, \"year\": 2014, \"contraband_rate\": 17.23700887198986}, {\"precinct\": 4, \"year\": 2015, \"contraband_rate\": 24.897959183673468}, {\"precinct\": 4, \"year\": 2016, \"contraband_rate\": 29.482071713147413}, {\"precinct\": 4, \"year\": 2017, \"contraband_rate\": 27.807486631016044}, {\"precinct\": 4, \"year\": 2018, \"contraband_rate\": 30.995475113122172}, {\"precinct\": 5, \"year\": 2010, \"contraband_rate\": 19.774011299435028}, {\"precinct\": 5, \"year\": 2011, \"contraband_rate\": 19.129480614484272}, {\"precinct\": 5, \"year\": 2012, \"contraband_rate\": 22.480298631273328}, {\"precinct\": 5, \"year\": 2013, \"contraband_rate\": 24.56761006289308}, {\"precinct\": 5, \"year\": 2014, \"contraband_rate\": 21.971935007385525}, {\"precinct\": 5, \"year\": 2015, \"contraband_rate\": 22.415291051259775}, {\"precinct\": 5, \"year\": 2016, \"contraband_rate\": 19.311663479923517}, {\"precinct\": 5, \"year\": 2017, \"contraband_rate\": 21.631644004944377}, {\"precinct\": 5, \"year\": 2018, \"contraband_rate\": 28.898426323319025}, {\"precinct\": 6, \"year\": 2010, \"contraband_rate\": 18.246575342465754}, {\"precinct\": 6, \"year\": 2011, \"contraband_rate\": 19.848566792861007}, {\"precinct\": 6, \"year\": 2012, \"contraband_rate\": 22.227272727272727}, {\"precinct\": 6, \"year\": 2013, \"contraband_rate\": 22.54475084663764}, {\"precinct\": 6, \"year\": 2014, \"contraband_rate\": 22.342457033736473}, {\"precinct\": 6, \"year\": 2015, \"contraband_rate\": 29.88505747126437}, {\"precinct\": 6, \"year\": 2016, \"contraband_rate\": 28.980322003577818}, {\"precinct\": 6, \"year\": 2017, \"contraband_rate\": 24.302134646962234}, {\"precinct\": 6, \"year\": 2018, \"contraband_rate\": 27.465362673186632}, {\"precinct\": 7, \"year\": 2010, \"contraband_rate\": 18.2648401826484}, {\"precinct\": 7, \"year\": 2011, \"contraband_rate\": 19.906323185011708}, {\"precinct\": 7, \"year\": 2012, \"contraband_rate\": 15.769770706598035}, {\"precinct\": 7, \"year\": 2013, \"contraband_rate\": 19.116186693147963}, {\"precinct\": 7, \"year\": 2014, \"contraband_rate\": 19.82026959560659}, {\"precinct\": 7, \"year\": 2015, \"contraband_rate\": 17.623421354764638}, {\"precinct\": 7, \"year\": 2016, \"contraband_rate\": 19.525691699604746}, {\"precinct\": 7, \"year\": 2017, \"contraband_rate\": 25.932062966031484}, {\"precinct\": 7, \"year\": 2018, \"contraband_rate\": 24.765157984628523}, {\"precinct\": 8, \"year\": 2010, \"contraband_rate\": 14.00862068965517}, {\"precinct\": 8, \"year\": 2011, \"contraband_rate\": 13.542146476278214}, {\"precinct\": 8, \"year\": 2012, \"contraband_rate\": 13.774597495527727}, {\"precinct\": 8, \"year\": 2013, \"contraband_rate\": 12.295081967213115}, {\"precinct\": 8, \"year\": 2014, \"contraband_rate\": 16.637881404720783}, {\"precinct\": 8, \"year\": 2015, \"contraband_rate\": 20.461095100864554}, {\"precinct\": 8, \"year\": 2016, \"contraband_rate\": 29.153605015673982}, {\"precinct\": 8, \"year\": 2017, \"contraband_rate\": 31.949806949806952}, {\"precinct\": 8, \"year\": 2018, \"contraband_rate\": 32.83208020050125}]}}, {\"mode\": \"vega-lite\"});\n",
              "</script>"
            ],
            "text/plain": [
              "alt.HConcatChart(...)"
            ]
          },
          "execution_count": 60,
          "metadata": {},
          "output_type": "execute_result"
        }
      ],
      "source": [
        "contra_pre_cht = alt.Chart(contra_pre[contra_pre['precinct'] != -1]).mark_line().encode(\n",
        "    x = 'year:N',\n",
        "    y = 'contraband_rate:Q',\n",
        "    color = 'precinct:N',\n",
        ").properties(title = 'CONTRABAND HIT RATES(%) BY PRECINCT', width=300,height=300)\n",
        "\n",
        "contra_cht = alt.Chart(contra_pre[contra_pre['precinct'] != -1]).mark_line().encode(\n",
        "    x = 'year:N',\n",
        "    y = 'mean(contraband_rate):Q',\n",
        ").properties(title = 'AVERAGE CONTRABAND HIT RATES(%)',width=300,height=300)\n",
        "\n",
        "contra_cht | contra_pre_cht"
      ]
    },
    {
      "cell_type": "markdown",
      "metadata": {
        "id": "YjE1RhtUN8eh"
      },
      "source": [
        "**Analysis**\n",
        "There no abnormalities observed through the graph above.\n",
        "The conclusion to be drawn here is that we see a general increase in the contraband hit rate over the years meaning:\n",
        "- Out of 100 sampled searches taken from the data set a higher number of people possed contraband in 2016 when compared to 2010. An increase of 8 percentage points is observed"
      ]
    },
    {
      "cell_type": "markdown",
      "metadata": {
        "id": "OUGHs1o5z3O5"
      },
      "source": [
        "#### *Analysing stats for precinct 7*\n",
        "Since the search rates for precinct 7 were abnormally high post 2012 we take a deeper dive into the stats for it"
      ]
    },
    {
      "cell_type": "code",
      "execution_count": null,
      "metadata": {
        "id": "i__1-W8XGFyh",
        "outputId": "a61c5ae8-ae03-48dc-d180-d9d37cec54b2"
      },
      "outputs": [
        {
          "data": {
            "text/plain": [
              "dtype('int64')"
            ]
          },
          "execution_count": 61,
          "metadata": {},
          "output_type": "execute_result"
        }
      ],
      "source": [
        "df2.year.dtype"
      ]
    },
    {
      "cell_type": "code",
      "execution_count": null,
      "metadata": {
        "id": "9XBKr9ZlNq6P",
        "outputId": "dd29ae01-191e-44df-ec03-d42a4539a646"
      },
      "outputs": [
        {
          "name": "stderr",
          "output_type": "stream",
          "text": [
            "/var/folders/76/0bx0hwcx2cjcbnlskzx9lvhm0000gn/T/ipykernel_11488/1929329672.py:4: DeprecationWarning: DataFrameGroupBy.apply operated on the grouping columns. This behavior is deprecated, and in a future version of pandas the grouping columns will be excluded from the operation. Either pass `include_groups=False` to exclude the groupings or explicitly select the grouping columns after groupby to silence this warning.\n",
            "  search_7 = grp_7.apply(search_rate).reset_index(name='search_rate')\n",
            "/var/folders/76/0bx0hwcx2cjcbnlskzx9lvhm0000gn/T/ipykernel_11488/1929329672.py:5: DeprecationWarning: DataFrameGroupBy.apply operated on the grouping columns. This behavior is deprecated, and in a future version of pandas the grouping columns will be excluded from the operation. Either pass `include_groups=False` to exclude the groupings or explicitly select the grouping columns after groupby to silence this warning.\n",
            "  contra_7 = grp_7.apply(contraband_rate).reset_index(name='contraband_rate')\n",
            "/var/folders/76/0bx0hwcx2cjcbnlskzx9lvhm0000gn/T/ipykernel_11488/1929329672.py:6: DeprecationWarning: DataFrameGroupBy.apply operated on the grouping columns. This behavior is deprecated, and in a future version of pandas the grouping columns will be excluded from the operation. Either pass `include_groups=False` to exclude the groupings or explicitly select the grouping columns after groupby to silence this warning.\n",
            "  frisk_7 = grp_7.apply(frisk_rate).reset_index(name='frisk_rate')\n"
          ]
        }
      ],
      "source": [
        "precinct_7 = df2[(df2['precinct'] == 7) & (df2['year'] >= 2012)]\n",
        "grp_7 = precinct_7.groupby(['year','subject_race'])\n",
        "count_7 = grp_7.size().reset_index(name='count')\n",
        "search_7 = grp_7.apply(search_rate).reset_index(name='search_rate')\n",
        "contra_7 = grp_7.apply(contraband_rate).reset_index(name='contraband_rate')\n",
        "frisk_7 = grp_7.apply(frisk_rate).reset_index(name='frisk_rate')"
      ]
    },
    {
      "cell_type": "markdown",
      "metadata": {
        "id": "aA5IYRJwPUmC"
      },
      "source": [
        "**Stop By Race**\n",
        "\n"
      ]
    },
    {
      "cell_type": "code",
      "execution_count": null,
      "metadata": {
        "colab": {
          "base_uri": "https://localhost:8080/",
          "height": 498
        },
        "id": "GeCOxpwOOBAe",
        "outputId": "4a4fce9c-ad76-47d1-f65f-37ec39c75ec6"
      },
      "outputs": [
        {
          "name": "stderr",
          "output_type": "stream",
          "text": [
            "/Users/nirvikgill/anaconda3/lib/python3.11/site-packages/altair/utils/core.py:395: FutureWarning: the convert_dtype parameter is deprecated and will be removed in a future version.  Do ``ser.astype(object).apply()`` instead if you want ``convert_dtype=False``.\n",
            "  col = df[col_name].apply(to_list_if_array, convert_dtype=False)\n"
          ]
        },
        {
          "data": {
            "text/html": [
              "\n",
              "<style>\n",
              "  #altair-viz-8928856d9ede425b8d68cb6015e848b8.vega-embed {\n",
              "    width: 100%;\n",
              "    display: flex;\n",
              "  }\n",
              "\n",
              "  #altair-viz-8928856d9ede425b8d68cb6015e848b8.vega-embed details,\n",
              "  #altair-viz-8928856d9ede425b8d68cb6015e848b8.vega-embed details summary {\n",
              "    position: relative;\n",
              "  }\n",
              "</style>\n",
              "<div id=\"altair-viz-8928856d9ede425b8d68cb6015e848b8\"></div>\n",
              "<script type=\"text/javascript\">\n",
              "  var VEGA_DEBUG = (typeof VEGA_DEBUG == \"undefined\") ? {} : VEGA_DEBUG;\n",
              "  (function(spec, embedOpt){\n",
              "    let outputDiv = document.currentScript.previousElementSibling;\n",
              "    if (outputDiv.id !== \"altair-viz-8928856d9ede425b8d68cb6015e848b8\") {\n",
              "      outputDiv = document.getElementById(\"altair-viz-8928856d9ede425b8d68cb6015e848b8\");\n",
              "    }\n",
              "    const paths = {\n",
              "      \"vega\": \"https://cdn.jsdelivr.net/npm/vega@5?noext\",\n",
              "      \"vega-lib\": \"https://cdn.jsdelivr.net/npm/vega-lib?noext\",\n",
              "      \"vega-lite\": \"https://cdn.jsdelivr.net/npm/vega-lite@5.8.0?noext\",\n",
              "      \"vega-embed\": \"https://cdn.jsdelivr.net/npm/vega-embed@6?noext\",\n",
              "    };\n",
              "\n",
              "    function maybeLoadScript(lib, version) {\n",
              "      var key = `${lib.replace(\"-\", \"\")}_version`;\n",
              "      return (VEGA_DEBUG[key] == version) ?\n",
              "        Promise.resolve(paths[lib]) :\n",
              "        new Promise(function(resolve, reject) {\n",
              "          var s = document.createElement('script');\n",
              "          document.getElementsByTagName(\"head\")[0].appendChild(s);\n",
              "          s.async = true;\n",
              "          s.onload = () => {\n",
              "            VEGA_DEBUG[key] = version;\n",
              "            return resolve(paths[lib]);\n",
              "          };\n",
              "          s.onerror = () => reject(`Error loading script: ${paths[lib]}`);\n",
              "          s.src = paths[lib];\n",
              "        });\n",
              "    }\n",
              "\n",
              "    function showError(err) {\n",
              "      outputDiv.innerHTML = `<div class=\"error\" style=\"color:red;\">${err}</div>`;\n",
              "      throw err;\n",
              "    }\n",
              "\n",
              "    function displayChart(vegaEmbed) {\n",
              "      vegaEmbed(outputDiv, spec, embedOpt)\n",
              "        .catch(err => showError(`Javascript Error: ${err.message}<br>This usually means there's a typo in your chart specification. See the javascript console for the full traceback.`));\n",
              "    }\n",
              "\n",
              "    if(typeof define === \"function\" && define.amd) {\n",
              "      requirejs.config({paths});\n",
              "      require([\"vega-embed\"], displayChart, err => showError(`Error loading script: ${err.message}`));\n",
              "    } else {\n",
              "      maybeLoadScript(\"vega\", \"5\")\n",
              "        .then(() => maybeLoadScript(\"vega-lite\", \"5.8.0\"))\n",
              "        .then(() => maybeLoadScript(\"vega-embed\", \"6\"))\n",
              "        .catch(showError)\n",
              "        .then(() => displayChart(vegaEmbed));\n",
              "    }\n",
              "  })({\"config\": {\"view\": {\"continuousWidth\": 300, \"continuousHeight\": 300}}, \"data\": {\"name\": \"data-ded6c4401c6440ee3e8ebe9c546760b2\"}, \"mark\": {\"type\": \"line\"}, \"encoding\": {\"color\": {\"field\": \"subject_race\", \"type\": \"nominal\"}, \"x\": {\"field\": \"year\", \"type\": \"nominal\"}, \"y\": {\"field\": \"count\", \"type\": \"quantitative\"}}, \"height\": 400, \"title\": \"NUMBER OF STOPS BY RACE (PRECINCT 7)\", \"width\": 600, \"$schema\": \"https://vega.github.io/schema/vega-lite/v5.8.0.json\", \"datasets\": {\"data-ded6c4401c6440ee3e8ebe9c546760b2\": [{\"year\": 2012, \"subject_race\": \"asian/pacific islander\", \"count\": 188}, {\"year\": 2012, \"subject_race\": \"black\", \"count\": 14478}, {\"year\": 2012, \"subject_race\": \"hispanic\", \"count\": 1926}, {\"year\": 2012, \"subject_race\": \"white\", \"count\": 18900}, {\"year\": 2013, \"subject_race\": \"asian/pacific islander\", \"count\": 150}, {\"year\": 2013, \"subject_race\": \"black\", \"count\": 10975}, {\"year\": 2013, \"subject_race\": \"hispanic\", \"count\": 1560}, {\"year\": 2013, \"subject_race\": \"white\", \"count\": 12937}, {\"year\": 2014, \"subject_race\": \"asian/pacific islander\", \"count\": 162}, {\"year\": 2014, \"subject_race\": \"black\", \"count\": 10391}, {\"year\": 2014, \"subject_race\": \"hispanic\", \"count\": 1419}, {\"year\": 2014, \"subject_race\": \"white\", \"count\": 10760}, {\"year\": 2015, \"subject_race\": \"asian/pacific islander\", \"count\": 135}, {\"year\": 2015, \"subject_race\": \"black\", \"count\": 8913}, {\"year\": 2015, \"subject_race\": \"hispanic\", \"count\": 1164}, {\"year\": 2015, \"subject_race\": \"white\", \"count\": 8649}, {\"year\": 2016, \"subject_race\": \"asian/pacific islander\", \"count\": 100}, {\"year\": 2016, \"subject_race\": \"black\", \"count\": 8082}, {\"year\": 2016, \"subject_race\": \"hispanic\", \"count\": 1075}, {\"year\": 2016, \"subject_race\": \"white\", \"count\": 7022}, {\"year\": 2017, \"subject_race\": \"asian/pacific islander\", \"count\": 99}, {\"year\": 2017, \"subject_race\": \"black\", \"count\": 7862}, {\"year\": 2017, \"subject_race\": \"hispanic\", \"count\": 1168}, {\"year\": 2017, \"subject_race\": \"white\", \"count\": 7653}, {\"year\": 2018, \"subject_race\": \"asian/pacific islander\", \"count\": 91}, {\"year\": 2018, \"subject_race\": \"black\", \"count\": 7159}, {\"year\": 2018, \"subject_race\": \"hispanic\", \"count\": 1296}, {\"year\": 2018, \"subject_race\": \"white\", \"count\": 7637}]}}, {\"mode\": \"vega-lite\"});\n",
              "</script>"
            ],
            "text/plain": [
              "alt.Chart(...)"
            ]
          },
          "execution_count": 63,
          "metadata": {},
          "output_type": "execute_result"
        }
      ],
      "source": [
        "count_7_cht = alt.Chart(count_7[count_7['subject_race'] != 'unknown']).mark_line().encode(\n",
        "    x = 'year:N',\n",
        "    y = 'count:Q',\n",
        "    color = 'subject_race:N',\n",
        ").properties(title = 'NUMBER OF STOPS BY RACE (PRECINCT 7)', width=600,height=400)\n",
        "count_7_cht"
      ]
    },
    {
      "cell_type": "markdown",
      "metadata": {
        "id": "7LctIbw6PisM"
      },
      "source": [
        "The number of stops is much higher for the white and black category which is proportional to their larger population size\n",
        "\n",
        "\n",
        "Nashville, Tennessee Population 2024:\n",
        "World Population Review\n",
        "- White: 59.13%\n",
        "- Black or African American: 26.81%\n",
        "- Two or more races: 6.4%\n",
        "- Other race: 3.84%\n",
        "- Asian: 3.63%\n",
        "- Native American: 0.14%\n",
        "- Native Hawaiian or Pacific Islander: 0.05%\n",
        "\n",
        "Source:\n",
        "https://worldpopulationreview.com/us-cities/nashville-tn-population"
      ]
    },
    {
      "cell_type": "markdown",
      "metadata": {
        "id": "wW5PdP_-Pmzm"
      },
      "source": [
        "##### *Frisk Rates By Race*"
      ]
    },
    {
      "cell_type": "code",
      "execution_count": null,
      "metadata": {
        "colab": {
          "base_uri": "https://localhost:8080/",
          "height": 498
        },
        "id": "lGnoRS_8Pt-0",
        "outputId": "d1d2656b-caae-4f46-b711-dbd9e0376535"
      },
      "outputs": [
        {
          "name": "stderr",
          "output_type": "stream",
          "text": [
            "/Users/nirvikgill/anaconda3/lib/python3.11/site-packages/altair/utils/core.py:395: FutureWarning: the convert_dtype parameter is deprecated and will be removed in a future version.  Do ``ser.astype(object).apply()`` instead if you want ``convert_dtype=False``.\n",
            "  col = df[col_name].apply(to_list_if_array, convert_dtype=False)\n"
          ]
        },
        {
          "data": {
            "text/html": [
              "\n",
              "<style>\n",
              "  #altair-viz-29a3ad6ce14747aab08fe63e72a03d37.vega-embed {\n",
              "    width: 100%;\n",
              "    display: flex;\n",
              "  }\n",
              "\n",
              "  #altair-viz-29a3ad6ce14747aab08fe63e72a03d37.vega-embed details,\n",
              "  #altair-viz-29a3ad6ce14747aab08fe63e72a03d37.vega-embed details summary {\n",
              "    position: relative;\n",
              "  }\n",
              "</style>\n",
              "<div id=\"altair-viz-29a3ad6ce14747aab08fe63e72a03d37\"></div>\n",
              "<script type=\"text/javascript\">\n",
              "  var VEGA_DEBUG = (typeof VEGA_DEBUG == \"undefined\") ? {} : VEGA_DEBUG;\n",
              "  (function(spec, embedOpt){\n",
              "    let outputDiv = document.currentScript.previousElementSibling;\n",
              "    if (outputDiv.id !== \"altair-viz-29a3ad6ce14747aab08fe63e72a03d37\") {\n",
              "      outputDiv = document.getElementById(\"altair-viz-29a3ad6ce14747aab08fe63e72a03d37\");\n",
              "    }\n",
              "    const paths = {\n",
              "      \"vega\": \"https://cdn.jsdelivr.net/npm/vega@5?noext\",\n",
              "      \"vega-lib\": \"https://cdn.jsdelivr.net/npm/vega-lib?noext\",\n",
              "      \"vega-lite\": \"https://cdn.jsdelivr.net/npm/vega-lite@5.8.0?noext\",\n",
              "      \"vega-embed\": \"https://cdn.jsdelivr.net/npm/vega-embed@6?noext\",\n",
              "    };\n",
              "\n",
              "    function maybeLoadScript(lib, version) {\n",
              "      var key = `${lib.replace(\"-\", \"\")}_version`;\n",
              "      return (VEGA_DEBUG[key] == version) ?\n",
              "        Promise.resolve(paths[lib]) :\n",
              "        new Promise(function(resolve, reject) {\n",
              "          var s = document.createElement('script');\n",
              "          document.getElementsByTagName(\"head\")[0].appendChild(s);\n",
              "          s.async = true;\n",
              "          s.onload = () => {\n",
              "            VEGA_DEBUG[key] = version;\n",
              "            return resolve(paths[lib]);\n",
              "          };\n",
              "          s.onerror = () => reject(`Error loading script: ${paths[lib]}`);\n",
              "          s.src = paths[lib];\n",
              "        });\n",
              "    }\n",
              "\n",
              "    function showError(err) {\n",
              "      outputDiv.innerHTML = `<div class=\"error\" style=\"color:red;\">${err}</div>`;\n",
              "      throw err;\n",
              "    }\n",
              "\n",
              "    function displayChart(vegaEmbed) {\n",
              "      vegaEmbed(outputDiv, spec, embedOpt)\n",
              "        .catch(err => showError(`Javascript Error: ${err.message}<br>This usually means there's a typo in your chart specification. See the javascript console for the full traceback.`));\n",
              "    }\n",
              "\n",
              "    if(typeof define === \"function\" && define.amd) {\n",
              "      requirejs.config({paths});\n",
              "      require([\"vega-embed\"], displayChart, err => showError(`Error loading script: ${err.message}`));\n",
              "    } else {\n",
              "      maybeLoadScript(\"vega\", \"5\")\n",
              "        .then(() => maybeLoadScript(\"vega-lite\", \"5.8.0\"))\n",
              "        .then(() => maybeLoadScript(\"vega-embed\", \"6\"))\n",
              "        .catch(showError)\n",
              "        .then(() => displayChart(vegaEmbed));\n",
              "    }\n",
              "  })({\"config\": {\"view\": {\"continuousWidth\": 300, \"continuousHeight\": 300}}, \"data\": {\"name\": \"data-fbae6a32129c33a0d3b996d4080cc8d0\"}, \"mark\": {\"type\": \"line\"}, \"encoding\": {\"color\": {\"field\": \"subject_race\", \"type\": \"nominal\"}, \"x\": {\"field\": \"year\", \"type\": \"nominal\"}, \"y\": {\"field\": \"frisk_rate\", \"type\": \"quantitative\"}}, \"height\": 400, \"title\": \"FRISK RATES(%) BY RACE (PRECINCT 7)\", \"width\": 600, \"$schema\": \"https://vega.github.io/schema/vega-lite/v5.8.0.json\", \"datasets\": {\"data-fbae6a32129c33a0d3b996d4080cc8d0\": [{\"year\": 2012, \"subject_race\": \"asian/pacific islander\", \"frisk_rate\": 0.5319148936170213}, {\"year\": 2012, \"subject_race\": \"black\", \"frisk_rate\": 2.2447851913247687}, {\"year\": 2012, \"subject_race\": \"hispanic\", \"frisk_rate\": 2.596053997923157}, {\"year\": 2012, \"subject_race\": \"white\", \"frisk_rate\": 1.7354497354497356}, {\"year\": 2013, \"subject_race\": \"asian/pacific islander\", \"frisk_rate\": 0.6666666666666667}, {\"year\": 2013, \"subject_race\": \"black\", \"frisk_rate\": 3.052391799544419}, {\"year\": 2013, \"subject_race\": \"hispanic\", \"frisk_rate\": 3.974358974358974}, {\"year\": 2013, \"subject_race\": \"white\", \"frisk_rate\": 2.720878101569143}, {\"year\": 2014, \"subject_race\": \"black\", \"frisk_rate\": 3.0122221152920794}, {\"year\": 2014, \"subject_race\": \"hispanic\", \"frisk_rate\": 2.748414376321353}, {\"year\": 2014, \"subject_race\": \"white\", \"frisk_rate\": 1.9981412639405203}, {\"year\": 2015, \"subject_race\": \"black\", \"frisk_rate\": 1.9746437787501403}, {\"year\": 2015, \"subject_race\": \"hispanic\", \"frisk_rate\": 2.3195876288659796}, {\"year\": 2015, \"subject_race\": \"white\", \"frisk_rate\": 1.5377500289050758}, {\"year\": 2016, \"subject_race\": \"asian/pacific islander\", \"frisk_rate\": 1.0}, {\"year\": 2016, \"subject_race\": \"black\", \"frisk_rate\": 2.412769116555308}, {\"year\": 2016, \"subject_race\": \"hispanic\", \"frisk_rate\": 2.0465116279069764}, {\"year\": 2016, \"subject_race\": \"white\", \"frisk_rate\": 1.8370834520079748}, {\"year\": 2017, \"subject_race\": \"black\", \"frisk_rate\": 2.200457898753498}, {\"year\": 2017, \"subject_race\": \"hispanic\", \"frisk_rate\": 2.1404109589041096}, {\"year\": 2017, \"subject_race\": \"white\", \"frisk_rate\": 1.6072128577028617}, {\"year\": 2018, \"subject_race\": \"black\", \"frisk_rate\": 2.472412348093309}, {\"year\": 2018, \"subject_race\": \"hispanic\", \"frisk_rate\": 2.4691358024691357}, {\"year\": 2018, \"subject_race\": \"white\", \"frisk_rate\": 1.7153332460390205}]}}, {\"mode\": \"vega-lite\"});\n",
              "</script>"
            ],
            "text/plain": [
              "alt.Chart(...)"
            ]
          },
          "execution_count": 64,
          "metadata": {},
          "output_type": "execute_result"
        }
      ],
      "source": [
        "frisk_7_cht = alt.Chart(frisk_7[\n",
        "                        (frisk_7['subject_race'] != 'unknown') &\n",
        "                        (frisk_7['frisk_rate'] != 0)]).mark_line().encode(\n",
        "    x = 'year:N',\n",
        "    y = 'frisk_rate:Q',\n",
        "    color = 'subject_race:N',\n",
        ").properties(title = 'FRISK RATES(%) BY RACE (PRECINCT 7)', width=600,height=400)\n",
        "frisk_7_cht"
      ]
    },
    {
      "cell_type": "markdown",
      "metadata": {
        "id": "hD5wfyh1P2DD"
      },
      "source": [
        "CONCLUSIONS:\n",
        "- No significant difference observed for frisk rates between different races\n",
        "- Frisk rates start dropping significantly around 2013"
      ]
    },
    {
      "cell_type": "markdown",
      "metadata": {
        "id": "a_YpuxVBP2Q0"
      },
      "source": [
        "##### *Search Rates By Race*"
      ]
    },
    {
      "cell_type": "code",
      "execution_count": null,
      "metadata": {
        "colab": {
          "base_uri": "https://localhost:8080/",
          "height": 498
        },
        "id": "bw274PxlP7Qn",
        "outputId": "da42ad41-e344-4168-9652-d9e5b472bfb8"
      },
      "outputs": [
        {
          "name": "stderr",
          "output_type": "stream",
          "text": [
            "/Users/nirvikgill/anaconda3/lib/python3.11/site-packages/altair/utils/core.py:395: FutureWarning: the convert_dtype parameter is deprecated and will be removed in a future version.  Do ``ser.astype(object).apply()`` instead if you want ``convert_dtype=False``.\n",
            "  col = df[col_name].apply(to_list_if_array, convert_dtype=False)\n"
          ]
        },
        {
          "data": {
            "text/html": [
              "\n",
              "<style>\n",
              "  #altair-viz-00f9560c52b34a05839dfd9dd7005d78.vega-embed {\n",
              "    width: 100%;\n",
              "    display: flex;\n",
              "  }\n",
              "\n",
              "  #altair-viz-00f9560c52b34a05839dfd9dd7005d78.vega-embed details,\n",
              "  #altair-viz-00f9560c52b34a05839dfd9dd7005d78.vega-embed details summary {\n",
              "    position: relative;\n",
              "  }\n",
              "</style>\n",
              "<div id=\"altair-viz-00f9560c52b34a05839dfd9dd7005d78\"></div>\n",
              "<script type=\"text/javascript\">\n",
              "  var VEGA_DEBUG = (typeof VEGA_DEBUG == \"undefined\") ? {} : VEGA_DEBUG;\n",
              "  (function(spec, embedOpt){\n",
              "    let outputDiv = document.currentScript.previousElementSibling;\n",
              "    if (outputDiv.id !== \"altair-viz-00f9560c52b34a05839dfd9dd7005d78\") {\n",
              "      outputDiv = document.getElementById(\"altair-viz-00f9560c52b34a05839dfd9dd7005d78\");\n",
              "    }\n",
              "    const paths = {\n",
              "      \"vega\": \"https://cdn.jsdelivr.net/npm/vega@5?noext\",\n",
              "      \"vega-lib\": \"https://cdn.jsdelivr.net/npm/vega-lib?noext\",\n",
              "      \"vega-lite\": \"https://cdn.jsdelivr.net/npm/vega-lite@5.8.0?noext\",\n",
              "      \"vega-embed\": \"https://cdn.jsdelivr.net/npm/vega-embed@6?noext\",\n",
              "    };\n",
              "\n",
              "    function maybeLoadScript(lib, version) {\n",
              "      var key = `${lib.replace(\"-\", \"\")}_version`;\n",
              "      return (VEGA_DEBUG[key] == version) ?\n",
              "        Promise.resolve(paths[lib]) :\n",
              "        new Promise(function(resolve, reject) {\n",
              "          var s = document.createElement('script');\n",
              "          document.getElementsByTagName(\"head\")[0].appendChild(s);\n",
              "          s.async = true;\n",
              "          s.onload = () => {\n",
              "            VEGA_DEBUG[key] = version;\n",
              "            return resolve(paths[lib]);\n",
              "          };\n",
              "          s.onerror = () => reject(`Error loading script: ${paths[lib]}`);\n",
              "          s.src = paths[lib];\n",
              "        });\n",
              "    }\n",
              "\n",
              "    function showError(err) {\n",
              "      outputDiv.innerHTML = `<div class=\"error\" style=\"color:red;\">${err}</div>`;\n",
              "      throw err;\n",
              "    }\n",
              "\n",
              "    function displayChart(vegaEmbed) {\n",
              "      vegaEmbed(outputDiv, spec, embedOpt)\n",
              "        .catch(err => showError(`Javascript Error: ${err.message}<br>This usually means there's a typo in your chart specification. See the javascript console for the full traceback.`));\n",
              "    }\n",
              "\n",
              "    if(typeof define === \"function\" && define.amd) {\n",
              "      requirejs.config({paths});\n",
              "      require([\"vega-embed\"], displayChart, err => showError(`Error loading script: ${err.message}`));\n",
              "    } else {\n",
              "      maybeLoadScript(\"vega\", \"5\")\n",
              "        .then(() => maybeLoadScript(\"vega-lite\", \"5.8.0\"))\n",
              "        .then(() => maybeLoadScript(\"vega-embed\", \"6\"))\n",
              "        .catch(showError)\n",
              "        .then(() => displayChart(vegaEmbed));\n",
              "    }\n",
              "  })({\"config\": {\"view\": {\"continuousWidth\": 300, \"continuousHeight\": 300}}, \"data\": {\"name\": \"data-d5a04400d5f10a83a894857bf828e143\"}, \"mark\": {\"type\": \"line\"}, \"encoding\": {\"color\": {\"field\": \"subject_race\", \"type\": \"nominal\"}, \"x\": {\"field\": \"year\", \"type\": \"nominal\"}, \"y\": {\"field\": \"search_rate\", \"type\": \"quantitative\"}}, \"height\": 400, \"title\": \"SEARCH RATES(%) BY RACE (PRECINCT 7)\", \"width\": 600, \"$schema\": \"https://vega.github.io/schema/vega-lite/v5.8.0.json\", \"datasets\": {\"data-d5a04400d5f10a83a894857bf828e143\": [{\"year\": 2012, \"subject_race\": \"asian/pacific islander\", \"search_rate\": 2.127659574468085}, {\"year\": 2012, \"subject_race\": \"black\", \"search_rate\": 6.699820417184695}, {\"year\": 2012, \"subject_race\": \"hispanic\", \"search_rate\": 7.268951194184839}, {\"year\": 2012, \"subject_race\": \"white\", \"search_rate\": 5.343915343915344}, {\"year\": 2013, \"subject_race\": \"asian/pacific islander\", \"search_rate\": 3.3333333333333335}, {\"year\": 2013, \"subject_race\": \"black\", \"search_rate\": 8.428246013667426}, {\"year\": 2013, \"subject_race\": \"hispanic\", \"search_rate\": 9.038461538461538}, {\"year\": 2013, \"subject_race\": \"white\", \"search_rate\": 7.211872922625028}, {\"year\": 2014, \"subject_race\": \"asian/pacific islander\", \"search_rate\": 2.4691358024691357}, {\"year\": 2014, \"subject_race\": \"black\", \"search_rate\": 10.124145895486478}, {\"year\": 2014, \"subject_race\": \"hispanic\", \"search_rate\": 7.892882311486963}, {\"year\": 2014, \"subject_race\": \"white\", \"search_rate\": 7.704460966542751}, {\"year\": 2015, \"subject_race\": \"asian/pacific islander\", \"search_rate\": 1.4814814814814816}, {\"year\": 2015, \"subject_race\": \"black\", \"search_rate\": 9.783462358352967}, {\"year\": 2015, \"subject_race\": \"hispanic\", \"search_rate\": 8.934707903780069}, {\"year\": 2015, \"subject_race\": \"white\", \"search_rate\": 8.787143022314718}, {\"year\": 2016, \"subject_race\": \"asian/pacific islander\", \"search_rate\": 1.0}, {\"year\": 2016, \"subject_race\": \"black\", \"search_rate\": 8.958178668646374}, {\"year\": 2016, \"subject_race\": \"hispanic\", \"search_rate\": 7.255813953488372}, {\"year\": 2016, \"subject_race\": \"white\", \"search_rate\": 6.522358302477926}, {\"year\": 2017, \"subject_race\": \"asian/pacific islander\", \"search_rate\": 1.0101010101010102}, {\"year\": 2017, \"subject_race\": \"black\", \"search_rate\": 8.585601628084456}, {\"year\": 2017, \"subject_race\": \"hispanic\", \"search_rate\": 7.7910958904109595}, {\"year\": 2017, \"subject_race\": \"white\", \"search_rate\": 5.6840454723637786}, {\"year\": 2018, \"subject_race\": \"black\", \"search_rate\": 8.772174884760442}, {\"year\": 2018, \"subject_race\": \"hispanic\", \"search_rate\": 7.098765432098765}, {\"year\": 2018, \"subject_race\": \"white\", \"search_rate\": 5.826895377766139}]}}, {\"mode\": \"vega-lite\"});\n",
              "</script>"
            ],
            "text/plain": [
              "alt.Chart(...)"
            ]
          },
          "execution_count": 65,
          "metadata": {},
          "output_type": "execute_result"
        }
      ],
      "source": [
        "search_7_cht = alt.Chart(search_7[\n",
        "                         (search_7['subject_race'] != 'unknown') &\n",
        "                         (search_7['search_rate'] != 0)]).mark_line().encode(\n",
        "    x = 'year:N',\n",
        "    y = 'search_rate:Q',\n",
        "    color = 'subject_race:N',\n",
        ").properties(title = 'SEARCH RATES(%) BY RACE (PRECINCT 7)', width=600,height=400)\n",
        "search_7_cht"
      ]
    },
    {
      "cell_type": "markdown",
      "metadata": {
        "id": "EIJvL17FQAC3"
      },
      "source": [
        "CONCLUSIONS:\n",
        "- Asians have a much lower chance of being search for in a traffic policing stop\n",
        "   - This may be attributed to their lower population size"
      ]
    },
    {
      "cell_type": "markdown",
      "metadata": {
        "id": "yjA1_fYNQARM"
      },
      "source": [
        "##### *Contraband Hit Rates By Race*"
      ]
    },
    {
      "cell_type": "code",
      "execution_count": null,
      "metadata": {
        "colab": {
          "base_uri": "https://localhost:8080/",
          "height": 498
        },
        "id": "n_tOJFbwP9RR",
        "outputId": "8f246f3f-4fd0-4469-98b9-80b9ea5bfdcd"
      },
      "outputs": [
        {
          "name": "stderr",
          "output_type": "stream",
          "text": [
            "/Users/nirvikgill/anaconda3/lib/python3.11/site-packages/altair/utils/core.py:395: FutureWarning: the convert_dtype parameter is deprecated and will be removed in a future version.  Do ``ser.astype(object).apply()`` instead if you want ``convert_dtype=False``.\n",
            "  col = df[col_name].apply(to_list_if_array, convert_dtype=False)\n"
          ]
        },
        {
          "data": {
            "text/html": [
              "\n",
              "<style>\n",
              "  #altair-viz-e933c5e37a624e2bb4f4a07897cac463.vega-embed {\n",
              "    width: 100%;\n",
              "    display: flex;\n",
              "  }\n",
              "\n",
              "  #altair-viz-e933c5e37a624e2bb4f4a07897cac463.vega-embed details,\n",
              "  #altair-viz-e933c5e37a624e2bb4f4a07897cac463.vega-embed details summary {\n",
              "    position: relative;\n",
              "  }\n",
              "</style>\n",
              "<div id=\"altair-viz-e933c5e37a624e2bb4f4a07897cac463\"></div>\n",
              "<script type=\"text/javascript\">\n",
              "  var VEGA_DEBUG = (typeof VEGA_DEBUG == \"undefined\") ? {} : VEGA_DEBUG;\n",
              "  (function(spec, embedOpt){\n",
              "    let outputDiv = document.currentScript.previousElementSibling;\n",
              "    if (outputDiv.id !== \"altair-viz-e933c5e37a624e2bb4f4a07897cac463\") {\n",
              "      outputDiv = document.getElementById(\"altair-viz-e933c5e37a624e2bb4f4a07897cac463\");\n",
              "    }\n",
              "    const paths = {\n",
              "      \"vega\": \"https://cdn.jsdelivr.net/npm/vega@5?noext\",\n",
              "      \"vega-lib\": \"https://cdn.jsdelivr.net/npm/vega-lib?noext\",\n",
              "      \"vega-lite\": \"https://cdn.jsdelivr.net/npm/vega-lite@5.8.0?noext\",\n",
              "      \"vega-embed\": \"https://cdn.jsdelivr.net/npm/vega-embed@6?noext\",\n",
              "    };\n",
              "\n",
              "    function maybeLoadScript(lib, version) {\n",
              "      var key = `${lib.replace(\"-\", \"\")}_version`;\n",
              "      return (VEGA_DEBUG[key] == version) ?\n",
              "        Promise.resolve(paths[lib]) :\n",
              "        new Promise(function(resolve, reject) {\n",
              "          var s = document.createElement('script');\n",
              "          document.getElementsByTagName(\"head\")[0].appendChild(s);\n",
              "          s.async = true;\n",
              "          s.onload = () => {\n",
              "            VEGA_DEBUG[key] = version;\n",
              "            return resolve(paths[lib]);\n",
              "          };\n",
              "          s.onerror = () => reject(`Error loading script: ${paths[lib]}`);\n",
              "          s.src = paths[lib];\n",
              "        });\n",
              "    }\n",
              "\n",
              "    function showError(err) {\n",
              "      outputDiv.innerHTML = `<div class=\"error\" style=\"color:red;\">${err}</div>`;\n",
              "      throw err;\n",
              "    }\n",
              "\n",
              "    function displayChart(vegaEmbed) {\n",
              "      vegaEmbed(outputDiv, spec, embedOpt)\n",
              "        .catch(err => showError(`Javascript Error: ${err.message}<br>This usually means there's a typo in your chart specification. See the javascript console for the full traceback.`));\n",
              "    }\n",
              "\n",
              "    if(typeof define === \"function\" && define.amd) {\n",
              "      requirejs.config({paths});\n",
              "      require([\"vega-embed\"], displayChart, err => showError(`Error loading script: ${err.message}`));\n",
              "    } else {\n",
              "      maybeLoadScript(\"vega\", \"5\")\n",
              "        .then(() => maybeLoadScript(\"vega-lite\", \"5.8.0\"))\n",
              "        .then(() => maybeLoadScript(\"vega-embed\", \"6\"))\n",
              "        .catch(showError)\n",
              "        .then(() => displayChart(vegaEmbed));\n",
              "    }\n",
              "  })({\"config\": {\"view\": {\"continuousWidth\": 300, \"continuousHeight\": 300}}, \"data\": {\"name\": \"data-8378d90454ee8b6dea5b263688e83534\"}, \"mark\": {\"type\": \"line\"}, \"encoding\": {\"color\": {\"field\": \"subject_race\", \"type\": \"nominal\"}, \"x\": {\"field\": \"year\", \"type\": \"nominal\"}, \"y\": {\"field\": \"contraband_rate\", \"type\": \"quantitative\"}}, \"height\": 400, \"title\": \"CONTRABAND HIT RATES(%) BY RACE (PRECINCT 7)\", \"width\": 600, \"$schema\": \"https://vega.github.io/schema/vega-lite/v5.8.0.json\", \"datasets\": {\"data-8378d90454ee8b6dea5b263688e83534\": [{\"year\": 2012, \"subject_race\": \"black\", \"contraband_rate\": 16.70103092783505}, {\"year\": 2012, \"subject_race\": \"hispanic\", \"contraband_rate\": 9.285714285714286}, {\"year\": 2012, \"subject_race\": \"white\", \"contraband_rate\": 15.841584158415841}, {\"year\": 2013, \"subject_race\": \"black\", \"contraband_rate\": 17.72972972972973}, {\"year\": 2013, \"subject_race\": \"hispanic\", \"contraband_rate\": 15.602836879432624}, {\"year\": 2013, \"subject_race\": \"white\", \"contraband_rate\": 21.114683815648448}, {\"year\": 2014, \"subject_race\": \"asian/pacific islander\", \"contraband_rate\": 25.0}, {\"year\": 2014, \"subject_race\": \"black\", \"contraband_rate\": 19.39163498098859}, {\"year\": 2014, \"subject_race\": \"hispanic\", \"contraband_rate\": 8.928571428571429}, {\"year\": 2014, \"subject_race\": \"white\", \"contraband_rate\": 21.8335343787696}, {\"year\": 2015, \"subject_race\": \"asian/pacific islander\", \"contraband_rate\": 50.0}, {\"year\": 2015, \"subject_race\": \"black\", \"contraband_rate\": 19.495412844036696}, {\"year\": 2015, \"subject_race\": \"hispanic\", \"contraband_rate\": 10.576923076923077}, {\"year\": 2015, \"subject_race\": \"white\", \"contraband_rate\": 16.315789473684212}, {\"year\": 2016, \"subject_race\": \"black\", \"contraband_rate\": 19.613259668508288}, {\"year\": 2016, \"subject_race\": \"hispanic\", \"contraband_rate\": 16.666666666666664}, {\"year\": 2016, \"subject_race\": \"white\", \"contraband_rate\": 19.868995633187772}, {\"year\": 2017, \"subject_race\": \"black\", \"contraband_rate\": 25.185185185185183}, {\"year\": 2017, \"subject_race\": \"hispanic\", \"contraband_rate\": 15.384615384615385}, {\"year\": 2017, \"subject_race\": \"white\", \"contraband_rate\": 29.655172413793103}, {\"year\": 2018, \"subject_race\": \"black\", \"contraband_rate\": 26.751592356687897}, {\"year\": 2018, \"subject_race\": \"hispanic\", \"contraband_rate\": 22.82608695652174}, {\"year\": 2018, \"subject_race\": \"white\", \"contraband_rate\": 22.47191011235955}]}}, {\"mode\": \"vega-lite\"});\n",
              "</script>"
            ],
            "text/plain": [
              "alt.Chart(...)"
            ]
          },
          "execution_count": 66,
          "metadata": {},
          "output_type": "execute_result"
        }
      ],
      "source": [
        "contra_7_cht = alt.Chart(contra_7[\n",
        "                         (contra_7['subject_race'] != 'unknown') &\n",
        "                         (contra_7['contraband_rate'] != 0)]).mark_line().encode(\n",
        "    x = 'year:N',\n",
        "    y = 'contraband_rate:Q',\n",
        "    color = 'subject_race:N',\n",
        ").properties(title = 'CONTRABAND HIT RATES(%) BY RACE (PRECINCT 7)', width=600,height=400)\n",
        "contra_7_cht"
      ]
    },
    {
      "cell_type": "markdown",
      "metadata": {
        "id": "AdCTVa50QO-O"
      },
      "source": [
        "CONCLUSION\n",
        "- Surprisingly high rates of contraband being found in asians/ pacific islanders only in 2014 and 2015, these are the only two years when a contraband was found on asian/ pacific islanders"
      ]
    },
    {
      "cell_type": "markdown",
      "metadata": {
        "id": "dY633eB-Q_0l"
      },
      "source": [
        "\n",
        "\n",
        "---\n",
        "\n"
      ]
    },
    {
      "cell_type": "markdown",
      "metadata": {
        "id": "rqDHgN90RE5o"
      },
      "source": [
        "# **Conclusion and Future Work**\n",
        "\n",
        "From our analyses, it looks like the decrease in the number of trafic stops made by the Nashville PD was following the 2013 backlash, although some delayed effect can be noticed. The frisks performed, arrests made and contraband found have gone down as well. But the ratio for arrests made and contraband found to the total stops performed have steadily increased, indicating that the reduction in stops didn't seem to affect these areas. While one could argue that there is an element of reverse causality here; a general reduction in crime as a result of the strict policing strategies acting as a deterrant leading to laxer police startegies, further analysis could shed some light into the true effects.\n",
        "\n",
        "As per for evidence for racial discrimination, the search rate graphs hint to the fact that there is discrumination against black and hispanice people. It cannot be conclusively said that the cause is racial discrimination but there is reason to believe that it might be the case. Further research into analysing why this difference is observed by comparing to census statistics will help make a stronger case.\n",
        "\n",
        "For the geographic analysis it is clear that the strategies differ by precincts as can be seen in the search rates for precicnt 7."
      ]
    }
  ],
  "metadata": {
    "colab": {
      "collapsed_sections": [
        "KTmW_p68sDnD",
        "ZFCnXYP_QXSs",
        "3MuRMl0sIGJj"
      ],
      "provenance": []
    },
    "kernelspec": {
      "display_name": "Python 3 (ipykernel)",
      "language": "python",
      "name": "python3"
    },
    "language_info": {
      "codemirror_mode": {
        "name": "ipython",
        "version": 3
      },
      "file_extension": ".py",
      "mimetype": "text/x-python",
      "name": "python",
      "nbconvert_exporter": "python",
      "pygments_lexer": "ipython3",
      "version": "3.11.5"
    }
  },
  "nbformat": 4,
  "nbformat_minor": 0
}